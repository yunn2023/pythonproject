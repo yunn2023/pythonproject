{
 "cells": [
  {
   "cell_type": "code",
   "execution_count": 1,
   "id": "0587584d-02e4-4ce0-b2b1-1410dfa4f7c8",
   "metadata": {},
   "outputs": [
    {
     "data": {
      "text/plain": [
       "[['a', 'b', 'c'], [['a', 'b', 'c']]]"
      ]
     },
     "execution_count": 1,
     "metadata": {},
     "output_type": "execute_result"
    }
   ],
   "source": [
    "A = [\"a\", \"b\", \"c\"]\n",
    "B = [A]\n",
    "C = [A, B]\n",
    "C"
   ]
  },
  {
   "cell_type": "code",
   "execution_count": 2,
   "id": "aa7bcff6-dc28-4468-8723-c2a52c74ded7",
   "metadata": {},
   "outputs": [
    {
     "data": {
      "text/plain": [
       "[{'a': 1, 'b': 2, 'c': 3}, [{'a': 1, 'b': 2, 'c': 3}]]"
      ]
     },
     "execution_count": 2,
     "metadata": {},
     "output_type": "execute_result"
    }
   ],
   "source": [
    "A = {\"a\":1, \"b\":2, \"c\":3}\n",
    "B = [A]\n",
    "C = [A, B]\n",
    "C"
   ]
  },
  {
   "cell_type": "code",
   "execution_count": 12,
   "id": "fb5308f9-5830-42ea-b4fe-69101a74bd82",
   "metadata": {},
   "outputs": [
    {
     "ename": "KeyError",
     "evalue": "0",
     "output_type": "error",
     "traceback": [
      "\u001b[1;31m---------------------------------------------------------------------------\u001b[0m",
      "\u001b[1;31mKeyError\u001b[0m                                  Traceback (most recent call last)",
      "Cell \u001b[1;32mIn[12], line 6\u001b[0m\n\u001b[0;32m      3\u001b[0m     B[i]\n\u001b[0;32m      4\u001b[0m \u001b[38;5;28;01mfor\u001b[39;00m j \u001b[38;5;129;01min\u001b[39;00m \u001b[38;5;28mrange\u001b[39m(\u001b[38;5;241m0\u001b[39m, \u001b[38;5;28mlen\u001b[39m(B[i]), \u001b[38;5;241m1\u001b[39m):\n\u001b[0;32m      5\u001b[0m     \u001b[38;5;66;03m# P(B[i][j])\u001b[39;00m\n\u001b[1;32m----> 6\u001b[0m     \u001b[43mB\u001b[49m\u001b[43m[\u001b[49m\u001b[43mi\u001b[49m\u001b[43m]\u001b[49m\u001b[43m[\u001b[49m\u001b[43mj\u001b[49m\u001b[43m]\u001b[49m\n",
      "\u001b[1;31mKeyError\u001b[0m: 0"
     ]
    }
   ],
   "source": [
    "for i in range(0, len(B), 1):\n",
    "    # P(B[i])\n",
    "    B[i]\n",
    "for j in range(0, len(B[i]), 1):\n",
    "    # P(B[i][j])\n",
    "    B[i][j]"
   ]
  },
  {
   "cell_type": "code",
   "execution_count": 6,
   "id": "2d5810bb-4b94-4be1-be4b-f7dd89f94bb5",
   "metadata": {},
   "outputs": [
    {
     "data": {
      "text/plain": [
       "range(0, 1)"
      ]
     },
     "execution_count": 6,
     "metadata": {},
     "output_type": "execute_result"
    }
   ],
   "source": [
    "range(0, len(B), 1)"
   ]
  },
  {
   "cell_type": "code",
   "execution_count": 7,
   "id": "680f9b11-9937-4f7d-a5a4-62911dcba1d6",
   "metadata": {},
   "outputs": [
    {
     "data": {
      "text/plain": [
       "1"
      ]
     },
     "execution_count": 7,
     "metadata": {},
     "output_type": "execute_result"
    }
   ],
   "source": [
    "len(B)"
   ]
  },
  {
   "cell_type": "code",
   "execution_count": 5,
   "id": "010b64f2-d1bb-4c60-a341-e47d88f1b7e8",
   "metadata": {},
   "outputs": [
    {
     "ename": "NameError",
     "evalue": "name 'i' is not defined",
     "output_type": "error",
     "traceback": [
      "\u001b[1;31m---------------------------------------------------------------------------\u001b[0m",
      "\u001b[1;31mNameError\u001b[0m                                 Traceback (most recent call last)",
      "Cell \u001b[1;32mIn[5], line 1\u001b[0m\n\u001b[1;32m----> 1\u001b[0m B[B[\u001b[38;5;241m0\u001b[39m]\u001b[38;5;241m.\u001b[39mkeys(\u001b[43mi\u001b[49m[\u001b[38;5;241m0\u001b[39m])]\n",
      "\u001b[1;31mNameError\u001b[0m: name 'i' is not defined"
     ]
    }
   ],
   "source": [
    "B[B[0].keys(i[0])]"
   ]
  },
  {
   "cell_type": "code",
   "execution_count": 11,
   "id": "a02c0032-9fee-4de0-823e-3e98a296011d",
   "metadata": {},
   "outputs": [
    {
     "ename": "NameError",
     "evalue": "name 'keys' is not defined",
     "output_type": "error",
     "traceback": [
      "\u001b[1;31m---------------------------------------------------------------------------\u001b[0m",
      "\u001b[1;31mNameError\u001b[0m                                 Traceback (most recent call last)",
      "Cell \u001b[1;32mIn[11], line 1\u001b[0m\n\u001b[1;32m----> 1\u001b[0m \u001b[43mkeys\u001b[49m(B)\n",
      "\u001b[1;31mNameError\u001b[0m: name 'keys' is not defined"
     ]
    }
   ],
   "source": [
    "keys(B)"
   ]
  },
  {
   "cell_type": "code",
   "execution_count": null,
   "id": "54f94f16-4342-4633-ba65-7d796d43b581",
   "metadata": {},
   "outputs": [],
   "source": []
  },
  {
   "cell_type": "code",
   "execution_count": 13,
   "id": "3dd70548-a412-4c18-808b-78c82ac7f7f7",
   "metadata": {},
   "outputs": [],
   "source": [
    "### 여러 개의 값을 가지는 변수\n",
    "list_v = []\n",
    "dict_v = {}\n",
    "tuple_v = ()"
   ]
  },
  {
   "cell_type": "code",
   "execution_count": 16,
   "id": "5a96b865-c346-4dac-9b26-5de505670cc5",
   "metadata": {},
   "outputs": [
    {
     "data": {
      "text/plain": [
       "['홍길동1', '홍길동1', '홍길동2', '홍길동1', '홍길동2']"
      ]
     },
     "execution_count": 16,
     "metadata": {},
     "output_type": "execute_result"
    }
   ],
   "source": [
    "### 리스트에 값을 추가하기\n",
    "list_v.append(\"홍길동1\")\n",
    "list_v.append(\"홍길동2\")\n",
    "list_v"
   ]
  },
  {
   "cell_type": "code",
   "execution_count": 17,
   "id": "b2d4bb51-4864-429a-853e-0eceb8190fc5",
   "metadata": {},
   "outputs": [],
   "source": [
    "### 인덱스 번호를 이용하는 방식"
   ]
  },
  {
   "cell_type": "code",
   "execution_count": 18,
   "id": "813432b0-7006-47e0-853b-0681e5bcdb7b",
   "metadata": {},
   "outputs": [
    {
     "name": "stdout",
     "output_type": "stream",
     "text": [
      "홍길동1\n",
      "홍길동1\n",
      "홍길동2\n",
      "홍길동1\n",
      "홍길동2\n"
     ]
    }
   ],
   "source": [
    "### 인덱스 번호를 이용하는 방식 - for문 작성\n",
    "for i in range(0, len(list_v), 1):\n",
    "    print(list_v[i])"
   ]
  },
  {
   "cell_type": "code",
   "execution_count": 19,
   "id": "40a93bcb-a96d-4216-9d67-d9a9a1b0452a",
   "metadata": {},
   "outputs": [
    {
     "name": "stdout",
     "output_type": "stream",
     "text": [
      "홍길동1\n",
      "홍길동1\n",
      "홍길동2\n",
      "홍길동1\n",
      "홍길동2\n"
     ]
    }
   ],
   "source": [
    "### 값을 이용한 반복 처리\n",
    "for v in list_v:\n",
    "    print(v)"
   ]
  },
  {
   "cell_type": "code",
   "execution_count": 21,
   "id": "e45c3b51-5aec-474f-96b5-8233ee4e10fc",
   "metadata": {},
   "outputs": [
    {
     "data": {
      "text/plain": [
       "{'홍길동': 28}"
      ]
     },
     "execution_count": 21,
     "metadata": {},
     "output_type": "execute_result"
    }
   ],
   "source": [
    "dict_v[\"홍길동\"] = 28\n",
    "dict_v"
   ]
  },
  {
   "cell_type": "code",
   "execution_count": 24,
   "id": "a532b537-9a4b-46bf-909b-18bce23f1191",
   "metadata": {},
   "outputs": [
    {
     "name": "stdout",
     "output_type": "stream",
     "text": [
      "{'홍길동': 28, '2': '홍길동2', '홍길동2': 30}\n"
     ]
    }
   ],
   "source": [
    "### 같은 key가 있으면 수정, 없으면 추가\n",
    "# - key를 줄테니 값을 다오..\n",
    "# dict_v = {\"1\":\"홍길동1\", \"2\":\"홍길동2\"}\n",
    "dict_v = {\"홍길동\":39, \"2\":\"홍길동2\"}\n",
    "dict_v[\"홍길동\"] = 28\n",
    "dict_v[\"홍길동2\"] = 30\n",
    "print(dict_v)"
   ]
  },
  {
   "cell_type": "code",
   "execution_count": 25,
   "id": "8a533360-bb5b-40c1-b985-1b95b2cbd921",
   "metadata": {},
   "outputs": [
    {
     "data": {
      "text/plain": [
       "dict_keys(['홍길동', '2', '홍길동2'])"
      ]
     },
     "execution_count": 25,
     "metadata": {},
     "output_type": "execute_result"
    }
   ],
   "source": [
    "dict_v.keys()"
   ]
  },
  {
   "cell_type": "code",
   "execution_count": 26,
   "id": "f90de7b4-8814-4bf5-8424-61e9d298a232",
   "metadata": {},
   "outputs": [
    {
     "name": "stdout",
     "output_type": "stream",
     "text": [
      "dict_keys(['홍길동', '2', '홍길동2'])\n"
     ]
    }
   ],
   "source": [
    "print(dict_v.keys())"
   ]
  },
  {
   "cell_type": "code",
   "execution_count": 27,
   "id": "bdb9028b-d887-45c2-8946-00a56517f0b2",
   "metadata": {},
   "outputs": [
    {
     "data": {
      "text/plain": [
       "3"
      ]
     },
     "execution_count": 27,
     "metadata": {},
     "output_type": "execute_result"
    }
   ],
   "source": [
    "len(dict_v.keys())"
   ]
  },
  {
   "cell_type": "code",
   "execution_count": null,
   "id": "93209f11-7529-43b4-9f20-e5d2b0b4df83",
   "metadata": {},
   "outputs": [],
   "source": [
    "### 인덱스 번호를 이용하는 방식"
   ]
  },
  {
   "cell_type": "code",
   "execution_count": 42,
   "id": "1f525914-1228-4d6c-8124-2328cf14f418",
   "metadata": {},
   "outputs": [
    {
     "name": "stdout",
     "output_type": "stream",
     "text": [
      "{'홍길동': 28, '2': '홍길동2', '홍길동2': 30}\n",
      "{'홍길동': 28, '2': '홍길동2', '홍길동2': 30}\n",
      "{'홍길동': 28, '2': '홍길동2', '홍길동2': 30}\n"
     ]
    }
   ],
   "source": [
    "### 인덱스 번호를 이용하는 방식\n",
    "# for i in range(0, len(dict_v.keys()), 1):\n",
    "#     print(dict_v.keys()[0])\n",
    "\n",
    "### 값을 이용하는 방식으로 처리\n",
    "for k in dict_v.keys():\n",
    "    print(dict_v)"
   ]
  },
  {
   "cell_type": "code",
   "execution_count": 43,
   "id": "1207775d-33d9-4b58-87fb-9981806cae04",
   "metadata": {},
   "outputs": [
    {
     "name": "stdout",
     "output_type": "stream",
     "text": [
      "28\n",
      "홍길동2\n",
      "30\n"
     ]
    }
   ],
   "source": [
    "### 값을 이용하는 방식으로 처리\n",
    "for k in dict_v.keys():\n",
    "    print(dict_v[k])"
   ]
  },
  {
   "cell_type": "code",
   "execution_count": 44,
   "id": "d64358a3-dfe8-4de7-8159-103a86d1358f",
   "metadata": {},
   "outputs": [
    {
     "name": "stdout",
     "output_type": "stream",
     "text": [
      "홍길동 = 28\n",
      "2 = 홍길동2\n",
      "홍길동2 = 30\n"
     ]
    }
   ],
   "source": [
    "### 값을 이용하는 방식으로 처리\n",
    "for k in dict_v.keys():\n",
    "    print(k, \"=\", dict_v[k])"
   ]
  },
  {
   "cell_type": "code",
   "execution_count": 45,
   "id": "2480df9b-4da7-4e94-b473-52b34ea40055",
   "metadata": {},
   "outputs": [
    {
     "ename": "TypeError",
     "evalue": "'builtin_function_or_method' object is not subscriptable",
     "output_type": "error",
     "traceback": [
      "\u001b[1;31m---------------------------------------------------------------------------\u001b[0m",
      "\u001b[1;31mTypeError\u001b[0m                                 Traceback (most recent call last)",
      "Cell \u001b[1;32mIn[45], line 3\u001b[0m\n\u001b[0;32m      1\u001b[0m \u001b[38;5;66;03m### 값을 이용하는 방식으로 처리\u001b[39;00m\n\u001b[0;32m      2\u001b[0m \u001b[38;5;28;01mfor\u001b[39;00m k \u001b[38;5;129;01min\u001b[39;00m dict_v\u001b[38;5;241m.\u001b[39mkeys():\n\u001b[1;32m----> 3\u001b[0m     \u001b[38;5;28mprint\u001b[39m(k, \u001b[38;5;124m\"\u001b[39m\u001b[38;5;124m=\u001b[39m\u001b[38;5;124m\"\u001b[39m, \u001b[43mdict_v\u001b[49m\u001b[38;5;241;43m.\u001b[39;49m\u001b[43mget\u001b[49m\u001b[43m[\u001b[49m\u001b[43mk\u001b[49m\u001b[43m]\u001b[49m)\n",
      "\u001b[1;31mTypeError\u001b[0m: 'builtin_function_or_method' object is not subscriptable"
     ]
    }
   ],
   "source": [
    "### 값을 이용하는 방식으로 처리\n",
    "for k in dict_v.keys():\n",
    "    print(k, \"=\", dict_v.get[k])"
   ]
  },
  {
   "cell_type": "code",
   "execution_count": 62,
   "id": "3e685027-074f-4cdb-a8cf-da9713ce9912",
   "metadata": {},
   "outputs": [],
   "source": [
    "dict_v.get(\"3\")\n",
    "# 오류가 발생하지 않는 방식\n",
    "# 3이 없기 때문에 아무 것도 출력되지 않음."
   ]
  },
  {
   "cell_type": "code",
   "execution_count": 63,
   "id": "6aadf351-4e66-472b-9760-13cb4c2f8acc",
   "metadata": {},
   "outputs": [
    {
     "data": {
      "text/plain": [
       "'\\n1\\n홍길동\\n홍길동3\\n홍길동3\\n홍길동3\\n'"
      ]
     },
     "execution_count": 63,
     "metadata": {},
     "output_type": "execute_result"
    }
   ],
   "source": [
    "dict_v = {'name':'홍길동', \n",
    "          'age':21, \n",
    "          'list_v':[1, '홍길동', '홍길동3', '홍길동3', '홍길동3'],\n",
    "          'add':'세종'}\n",
    "dict_v\n",
    "### key가 list_v인 리스트 안의 값들을 출력하기\n",
    "\"\"\"\n",
    "1\n",
    "홍길동\n",
    "홍길동3\n",
    "홍길동3\n",
    "홍길동3\n",
    "\"\"\""
   ]
  },
  {
   "cell_type": "code",
   "execution_count": 64,
   "id": "62f86540-c240-45df-9942-ceeb92c87972",
   "metadata": {},
   "outputs": [
    {
     "ename": "KeyError",
     "evalue": "3",
     "output_type": "error",
     "traceback": [
      "\u001b[1;31m---------------------------------------------------------------------------\u001b[0m",
      "\u001b[1;31mKeyError\u001b[0m                                  Traceback (most recent call last)",
      "Cell \u001b[1;32mIn[64], line 1\u001b[0m\n\u001b[1;32m----> 1\u001b[0m \u001b[38;5;28mprint\u001b[39m(\u001b[43mdict_v\u001b[49m\u001b[43m[\u001b[49m\u001b[38;5;241;43m3\u001b[39;49m\u001b[43m]\u001b[49m)\n",
      "\u001b[1;31mKeyError\u001b[0m: 3"
     ]
    }
   ],
   "source": [
    "print(dict_v[3])"
   ]
  },
  {
   "cell_type": "code",
   "execution_count": 65,
   "id": "90a6d229-54f3-4f29-8a0e-8316de5ec93d",
   "metadata": {
    "collapsed": true,
    "jupyter": {
     "outputs_hidden": true
    },
    "tags": []
   },
   "outputs": [
    {
     "ename": "TypeError",
     "evalue": "'dict' object is not callable",
     "output_type": "error",
     "traceback": [
      "\u001b[1;31m---------------------------------------------------------------------------\u001b[0m",
      "\u001b[1;31mTypeError\u001b[0m                                 Traceback (most recent call last)",
      "Cell \u001b[1;32mIn[65], line 3\u001b[0m\n\u001b[0;32m      1\u001b[0m \u001b[38;5;66;03m# for k in dict_v.keys():\u001b[39;00m\n\u001b[0;32m      2\u001b[0m \u001b[38;5;66;03m# .keys()를 쓰나 안 쓰나 같음..\u001b[39;00m\n\u001b[1;32m----> 3\u001b[0m \u001b[38;5;28;01mfor\u001b[39;00m k \u001b[38;5;129;01min\u001b[39;00m \u001b[43mdict_v\u001b[49m\u001b[43m(\u001b[49m\u001b[43m)\u001b[49m:\n\u001b[0;32m      4\u001b[0m     \u001b[38;5;28mprint\u001b[39m(k)\n\u001b[0;32m      5\u001b[0m     \u001b[38;5;28;01mif\u001b[39;00m k \u001b[38;5;241m==\u001b[39m \u001b[38;5;124m\"\u001b[39m\u001b[38;5;124mlist_v\u001b[39m\u001b[38;5;124m\"\u001b[39m:\n",
      "\u001b[1;31mTypeError\u001b[0m: 'dict' object is not callable"
     ]
    }
   ],
   "source": [
    "# for k in dict_v.keys():\n",
    "# .keys()를 쓰나 안 쓰나 같음..\n",
    "for k in dict_v():\n",
    "    print(k)\n",
    "    if k == \"list_v\":\n",
    "        print(k)"
   ]
  },
  {
   "cell_type": "code",
   "execution_count": 66,
   "id": "6ea39cde-e0b9-4912-87bd-639932e715e1",
   "metadata": {},
   "outputs": [],
   "source": [
    "list_v2 = [{1:'홍길동1', 2:'홍길동2'}, \n",
    "           {1:'이순신1', 2:'이순신2'}, \n",
    "           {1:'강감찬1', 2:'강감찬2'}]"
   ]
  },
  {
   "cell_type": "code",
   "execution_count": 69,
   "id": "06cc03a1-be75-42db-9d45-52441967a1fa",
   "metadata": {},
   "outputs": [
    {
     "ename": "TypeError",
     "evalue": "'list' object is not callable",
     "output_type": "error",
     "traceback": [
      "\u001b[1;31m---------------------------------------------------------------------------\u001b[0m",
      "\u001b[1;31mTypeError\u001b[0m                                 Traceback (most recent call last)",
      "Cell \u001b[1;32mIn[69], line 1\u001b[0m\n\u001b[1;32m----> 1\u001b[0m \u001b[38;5;28;01mfor\u001b[39;00m d \u001b[38;5;129;01min\u001b[39;00m \u001b[43mlist_v2\u001b[49m\u001b[43m(\u001b[49m\u001b[43m)\u001b[49m:\n\u001b[0;32m      2\u001b[0m     \u001b[38;5;28;01mfor\u001b[39;00m k \u001b[38;5;129;01min\u001b[39;00m d\u001b[38;5;241m.\u001b[39mkeys():\n\u001b[0;32m      3\u001b[0m         \u001b[38;5;28mprint\u001b[39m(k)\n",
      "\u001b[1;31mTypeError\u001b[0m: 'list' object is not callable"
     ]
    }
   ],
   "source": [
    "for d in list_v2():\n",
    "    for k in d.keys():\n",
    "        print(k)"
   ]
  },
  {
   "cell_type": "code",
   "execution_count": null,
   "id": "91c41717-3a0f-4406-863f-8068437081cd",
   "metadata": {},
   "outputs": [],
   "source": [
    "# \"강감찬1\"이 있는 딕셔너리의 key와 value 값만 출력해주세요.\n",
    "# -> 답: key: 1 / values: 강감찬1\n",
    "\n",
    "### \"강감찬1\"이라는 값이 포함되어 있는 부분의\n",
    "# 딕셔너리의 전체 key와 value를 출력하기\n",
    "# -> 답 : \n",
    "   # key: 1 / values: 강감찬1\n",
    "   # key: 2 / values: 강감찬2"
   ]
  },
  {
   "cell_type": "code",
   "execution_count": 71,
   "id": "943debf0-5932-483f-b3c4-67b15bf0b8bd",
   "metadata": {},
   "outputs": [
    {
     "name": "stdout",
     "output_type": "stream",
     "text": [
      "key: 1 / value: 홍길동1\n",
      "key: 2 / value: 홍길동2\n",
      "key: 1 / value: 이순신1\n",
      "key: 2 / value: 이순신2\n",
      "key: 1 / value: 강감찬1\n",
      "key: 2 / value: 강감찬2\n"
     ]
    }
   ],
   "source": [
    "for d in list_v2:\n",
    "    for k in d:\n",
    "        print(\"key: {} / value: {}\".format(k, d[k]))"
   ]
  },
  {
   "cell_type": "code",
   "execution_count": null,
   "id": "015be47a-50d5-4b07-9d49-0550c77d570b",
   "metadata": {},
   "outputs": [],
   "source": []
  },
  {
   "cell_type": "code",
   "execution_count": null,
   "id": "2ee73617-ca0f-44e0-949f-d1558739f881",
   "metadata": {},
   "outputs": [],
   "source": []
  },
  {
   "cell_type": "code",
   "execution_count": null,
   "id": "33e0a095-8bb7-488e-9683-9f99b6f22df8",
   "metadata": {},
   "outputs": [],
   "source": []
  }
 ],
 "metadata": {
  "kernelspec": {
   "display_name": "Python 3 (ipykernel)",
   "language": "python",
   "name": "python3"
  },
  "language_info": {
   "codemirror_mode": {
    "name": "ipython",
    "version": 3
   },
   "file_extension": ".py",
   "mimetype": "text/x-python",
   "name": "python",
   "nbconvert_exporter": "python",
   "pygments_lexer": "ipython3",
   "version": "3.10.9"
  }
 },
 "nbformat": 4,
 "nbformat_minor": 5
}
