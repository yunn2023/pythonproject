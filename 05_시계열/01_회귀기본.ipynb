{
 "cells": [
  {
   "cell_type": "markdown",
   "id": "1dc40572-14e5-4858-8471-26b554a15ba8",
   "metadata": {},
   "source": [
    "## 파이썬 머신러닝 완벽 가이드 - Ch 05. 회귀"
   ]
  },
  {
   "cell_type": "code",
   "execution_count": 2,
   "id": "ece133de-337e-434b-9888-d6b01bf60d6c",
   "metadata": {},
   "outputs": [],
   "source": [
    "# 영국의 통계학자 갈톤(Galton)\n",
    "# 사람의 키는 평균 키로 회귀하려는 경향을 가진다는 자연의 법칙이 있다.\n",
    "\n",
    "# -> 회귀분석: 데이터 값이 평균과 같은 일정한 값으로 돌아가려는 경향을 이용한 통계학 기법\n",
    "#              여러 개의 독립변수와 한 개의 종속변수 간의 상관관계를 모델링하는 기법을 통칭"
   ]
  },
  {
   "cell_type": "code",
   "execution_count": 3,
   "id": "1b1d7a2b-0591-4dc2-a22d-bc7a7e8a996b",
   "metadata": {},
   "outputs": [],
   "source": [
    "# 상관관계: 양의 상관관계(+), 음의 상관관계(-), 무상관(0)\n",
    "# -1 <= 상관계수 <= 1"
   ]
  },
  {
   "cell_type": "code",
   "execution_count": 4,
   "id": "ba10d34b-d077-40b0-a12f-387b5ba7a603",
   "metadata": {},
   "outputs": [],
   "source": [
    "# y = Wx + b\n",
    "# W : 가중치, 기울기\n",
    "# b : y절편\n",
    "# -> 예측값과 y값과의 차이(오차)가 최소가 되도록 하는 W, b값 찾기"
   ]
  },
  {
   "cell_type": "code",
   "execution_count": 5,
   "id": "e49c2934-7e15-47ce-9640-5e2fe233c510",
   "metadata": {},
   "outputs": [],
   "source": [
    "# 손실함수(loss function)\n",
    "# 학습 데이터의 정답(t)과 입력(x)에 대한 계산값(y)의 차이를 모두 더해 수식으로 나타낸 것\n",
    "# -> W와 b를 찾는 기준: 손실함수의 값이 최소가 되도록 하는 것"
   ]
  },
  {
   "cell_type": "code",
   "execution_count": 6,
   "id": "4db029ee-41ee-4863-8c07-318e1b0edc40",
   "metadata": {},
   "outputs": [],
   "source": [
    "# 단순선형회귀: 종속변수도 1개, 독립변수도 1개"
   ]
  },
  {
   "cell_type": "code",
   "execution_count": 7,
   "id": "5579d2eb-e2db-4299-a726-0f63fda4e132",
   "metadata": {},
   "outputs": [],
   "source": [
    "# ^\n",
    "# Y = w0 + w1 * X (+ e)\n",
    "\n",
    "# w0, w1: 회귀계수\n",
    "# e: 오차항 = 오차값 = 오류값 = 잔차\n",
    "\n",
    "# 오류합 계산 방법: MAE, RSS\n",
    "# MAE(Mean Absolute Error): 절댓값을 취해 더하는 방법\n",
    "# RSS(Residual Sum of Square): 제곱을 구하여 더하는 방법\n",
    "\n",
    "# 일반적으로 미분 등의 계산을 편리하게 하기 위헤서\n",
    "# RSS 방식으로 오류합을 구한다."
   ]
  },
  {
   "cell_type": "code",
   "execution_count": null,
   "id": "dec4b212-9a9a-4354-9b20-8715662488c2",
   "metadata": {},
   "outputs": [],
   "source": []
  },
  {
   "cell_type": "code",
   "execution_count": 8,
   "id": "a3c43941-4b74-4acc-aa30-b8055f254636",
   "metadata": {},
   "outputs": [],
   "source": [
    "# 경사하강법(Gradient Descent)\n",
    "# 사전적 의미: '점진적인 하강' \n",
    "# -> '점진적으로' 반복적인 계산을 통해 W 파라미터 값을 업데이트하면서 오류값이 최소가 되는 W 파라미터를 구한다."
   ]
  },
  {
   "cell_type": "code",
   "execution_count": 9,
   "id": "328b683f-26f4-4c47-8702-3ca608034a3b",
   "metadata": {},
   "outputs": [],
   "source": [
    "# Markdown 으로 바꾼 뒤\n",
    "# ![편미분](img/편미분.png) 입력하면 이미지 불러올 수 있다."
   ]
  },
  {
   "cell_type": "code",
   "execution_count": 10,
   "id": "dbc1f52b-77e4-42e0-a95d-8619470eabec",
   "metadata": {},
   "outputs": [],
   "source": [
    "# w1, w0에 대해 편미분"
   ]
  },
  {
   "cell_type": "markdown",
   "id": "c36bb31d-18cc-4a1e-9373-9f817fae507e",
   "metadata": {},
   "source": [
    "![편미분](img/편미분.png)"
   ]
  },
  {
   "cell_type": "code",
   "execution_count": 11,
   "id": "02a0a8d1-8947-4973-aabd-aa5cbacf029a",
   "metadata": {},
   "outputs": [],
   "source": [
    "import numpy as np\n",
    "import matplotlib.pyplot as plt"
   ]
  },
  {
   "cell_type": "code",
   "execution_count": 12,
   "id": "f1da13f5-b115-4916-9a39-c5a95f01b6aa",
   "metadata": {
    "collapsed": true,
    "jupyter": {
     "outputs_hidden": true
    },
    "tags": []
   },
   "outputs": [
    {
     "data": {
      "text/plain": [
       "array([[1.09762701],\n",
       "       [1.43037873],\n",
       "       [1.20552675],\n",
       "       [1.08976637],\n",
       "       [0.8473096 ],\n",
       "       [1.29178823],\n",
       "       [0.87517442],\n",
       "       [1.783546  ],\n",
       "       [1.92732552],\n",
       "       [0.76688304],\n",
       "       [1.58345008],\n",
       "       [1.05778984],\n",
       "       [1.13608912],\n",
       "       [1.85119328],\n",
       "       [0.14207212],\n",
       "       [0.1742586 ],\n",
       "       [0.04043679],\n",
       "       [1.66523969],\n",
       "       [1.5563135 ],\n",
       "       [1.7400243 ],\n",
       "       [1.95723668],\n",
       "       [1.59831713],\n",
       "       [0.92295872],\n",
       "       [1.56105835],\n",
       "       [0.23654885],\n",
       "       [1.27984204],\n",
       "       [0.28670657],\n",
       "       [1.88933783],\n",
       "       [1.04369664],\n",
       "       [0.82932388],\n",
       "       [0.52911122],\n",
       "       [1.54846738],\n",
       "       [0.91230066],\n",
       "       [1.1368679 ],\n",
       "       [0.0375796 ],\n",
       "       [1.23527099],\n",
       "       [1.22419145],\n",
       "       [1.23386799],\n",
       "       [1.88749616],\n",
       "       [1.3636406 ],\n",
       "       [0.7190158 ],\n",
       "       [0.87406391],\n",
       "       [1.39526239],\n",
       "       [0.12045094],\n",
       "       [1.33353343],\n",
       "       [1.34127574],\n",
       "       [0.42076512],\n",
       "       [0.2578526 ],\n",
       "       [0.6308567 ],\n",
       "       [0.72742154],\n",
       "       [1.14039354],\n",
       "       [0.87720303],\n",
       "       [1.97674768],\n",
       "       [0.20408962],\n",
       "       [0.41775351],\n",
       "       [0.32261904],\n",
       "       [1.30621665],\n",
       "       [0.50658321],\n",
       "       [0.93262155],\n",
       "       [0.48885118],\n",
       "       [0.31793917],\n",
       "       [0.22075028],\n",
       "       [1.31265918],\n",
       "       [0.2763659 ],\n",
       "       [0.39316472],\n",
       "       [0.73745034],\n",
       "       [1.64198646],\n",
       "       [0.19420255],\n",
       "       [1.67588981],\n",
       "       [0.19219682],\n",
       "       [1.95291893],\n",
       "       [0.9373024 ],\n",
       "       [1.95352218],\n",
       "       [1.20969104],\n",
       "       [1.47852716],\n",
       "       [0.07837558],\n",
       "       [0.56561393],\n",
       "       [0.24039312],\n",
       "       [0.5922804 ],\n",
       "       [0.23745544],\n",
       "       [0.63596636],\n",
       "       [0.82852599],\n",
       "       [0.12829499],\n",
       "       [1.38494424],\n",
       "       [1.13320291],\n",
       "       [0.53077898],\n",
       "       [1.04649611],\n",
       "       [0.18788102],\n",
       "       [1.15189299],\n",
       "       [1.8585924 ],\n",
       "       [0.6371379 ],\n",
       "       [1.33482076],\n",
       "       [0.26359572],\n",
       "       [1.43265441],\n",
       "       [0.57881219],\n",
       "       [0.36638272],\n",
       "       [1.17302587],\n",
       "       [0.04021509],\n",
       "       [1.65788006],\n",
       "       [0.00939095]])"
      ]
     },
     "execution_count": 12,
     "metadata": {},
     "output_type": "execute_result"
    }
   ],
   "source": [
    "np.random.seed(0)\n",
    "# y = 4x + 6을 근사(w1=4, w2=6), 임의의 값은 노이즈를 위해 만듦.\n",
    "# y = w * x + b -> y = 4x + 6\n",
    "x = 2 * np.random.rand(100,1)\n",
    "# x"
   ]
  },
  {
   "cell_type": "code",
   "execution_count": 13,
   "id": "46010cbd-97bc-429c-a62e-7ed5a41cf2ea",
   "metadata": {},
   "outputs": [],
   "source": [
    "# np.random.rand()\n",
    "# 0부터 1사이의 균일 분포에서 난수 matrix array 생성"
   ]
  },
  {
   "cell_type": "code",
   "execution_count": 14,
   "id": "52e689f8-7923-489c-8112-bdaac8421cc5",
   "metadata": {},
   "outputs": [],
   "source": [
    "# np.random.randint()\n",
    "# 균일 분포의 정수 난수 생성"
   ]
  },
  {
   "cell_type": "code",
   "execution_count": 15,
   "id": "70110938-dedd-462b-a5f6-6a6760d2c1ed",
   "metadata": {},
   "outputs": [
    {
     "data": {
      "text/plain": [
       "array([ 3,  4, 95, 99, 14, 41, 73, 20, 96, 73])"
      ]
     },
     "execution_count": 15,
     "metadata": {},
     "output_type": "execute_result"
    }
   ],
   "source": [
    "np.random.randint(1,101,10)\n",
    "# 1부터 101까지 정수 난수 10개 생성"
   ]
  },
  {
   "cell_type": "code",
   "execution_count": 16,
   "id": "85f2dafe-6cdb-4023-b6b2-29e4d522eb1c",
   "metadata": {},
   "outputs": [
    {
     "data": {
      "text/plain": [
       "(100, 1)"
      ]
     },
     "execution_count": 16,
     "metadata": {},
     "output_type": "execute_result"
    }
   ],
   "source": [
    "x.shape"
   ]
  },
  {
   "cell_type": "code",
   "execution_count": 17,
   "id": "2057e697-4245-47c0-9504-a99fec2bb6e6",
   "metadata": {},
   "outputs": [],
   "source": [
    "# np.random.randn()\n",
    "# 가우시안 표준정규분포에서 난수 matrix array 생성"
   ]
  },
  {
   "cell_type": "code",
   "execution_count": 18,
   "id": "f15a176d-1b22-4e57-804d-ee2d594dfb0a",
   "metadata": {
    "collapsed": true,
    "jupyter": {
     "outputs_hidden": true
    },
    "tags": []
   },
   "outputs": [
    {
     "data": {
      "text/plain": [
       "array([[10.66750494],\n",
       "       [12.51118206],\n",
       "       [11.14418112],\n",
       "       [11.05945784],\n",
       "       [ 9.77795503],\n",
       "       [11.12588904],\n",
       "       [ 9.79658201],\n",
       "       [12.70890402],\n",
       "       [15.4369412 ],\n",
       "       [ 8.19917958],\n",
       "       [11.51282273],\n",
       "       [ 9.13141735],\n",
       "       [10.63108632],\n",
       "       [13.86106012],\n",
       "       [ 6.99932177],\n",
       "       [ 8.76960793],\n",
       "       [ 5.62396206],\n",
       "       [11.28252867],\n",
       "       [11.73284976],\n",
       "       [15.2878353 ],\n",
       "       [15.6333507 ],\n",
       "       [12.14384719],\n",
       "       [ 8.87097107],\n",
       "       [10.75089345],\n",
       "       [ 7.47037135],\n",
       "       [11.46448134],\n",
       "       [ 7.87120098],\n",
       "       [11.51697049],\n",
       "       [ 9.09500848],\n",
       "       [ 8.62387111],\n",
       "       [ 5.77839875],\n",
       "       [13.85613186],\n",
       "       [ 9.37384992],\n",
       "       [ 9.80090114],\n",
       "       [ 7.37542186],\n",
       "       [10.83065152],\n",
       "       [ 9.6232764 ],\n",
       "       [10.96725813],\n",
       "       [14.01234296],\n",
       "       [11.80811074],\n",
       "       [ 7.81408388],\n",
       "       [ 9.23490096],\n",
       "       [10.40965105],\n",
       "       [ 4.62471633],\n",
       "       [11.18931747],\n",
       "       [10.88123484],\n",
       "       [ 6.90326351],\n",
       "       [ 8.24531633],\n",
       "       [ 6.4009148 ],\n",
       "       [ 8.77191936],\n",
       "       [10.14425154],\n",
       "       [ 9.10227558],\n",
       "       [14.96794185],\n",
       "       [ 6.71283599],\n",
       "       [ 7.81283088],\n",
       "       [ 7.87229589],\n",
       "       [12.57940724],\n",
       "       [ 8.48790988],\n",
       "       [ 9.07877091],\n",
       "       [ 7.95544285],\n",
       "       [ 8.16151098],\n",
       "       [ 5.72671966],\n",
       "       [11.64785411],\n",
       "       [ 7.68231131],\n",
       "       [ 7.63265899],\n",
       "       [ 9.46359521],\n",
       "       [11.91076881],\n",
       "       [ 6.09583113],\n",
       "       [13.05832892],\n",
       "       [ 5.33463287],\n",
       "       [14.2834191 ],\n",
       "       [ 9.7011652 ],\n",
       "       [13.23345038],\n",
       "       [11.09154941],\n",
       "       [11.89517122],\n",
       "       [ 5.62281928],\n",
       "       [ 9.06221735],\n",
       "       [ 9.17571369],\n",
       "       [ 8.807993  ],\n",
       "       [ 7.58808145],\n",
       "       [10.55970682],\n",
       "       [ 9.07045121],\n",
       "       [ 8.04701563],\n",
       "       [12.30452719],\n",
       "       [ 8.07613261],\n",
       "       [ 6.41946722],\n",
       "       [10.6061375 ],\n",
       "       [ 6.45337501],\n",
       "       [10.87117415],\n",
       "       [14.1656355 ],\n",
       "       [ 8.77662204],\n",
       "       [ 9.31075913],\n",
       "       [ 8.0205733 ],\n",
       "       [11.54369583],\n",
       "       [ 7.84292391],\n",
       "       [ 9.40218677],\n",
       "       [12.1694439 ],\n",
       "       [ 6.07597026],\n",
       "       [13.0592168 ],\n",
       "       [ 5.73328422]])"
      ]
     },
     "execution_count": 18,
     "metadata": {},
     "output_type": "execute_result"
    }
   ],
   "source": [
    "y = 6 + 4 * x + np.random.randn(100,1)\n",
    "# y"
   ]
  },
  {
   "cell_type": "code",
   "execution_count": 19,
   "id": "bd398deb-ad37-4e84-8900-ea8b9c164aac",
   "metadata": {},
   "outputs": [
    {
     "data": {
      "text/plain": [
       "<matplotlib.collections.PathCollection at 0x1d6a8bb8f70>"
      ]
     },
     "execution_count": 19,
     "metadata": {},
     "output_type": "execute_result"
    },
    {
     "data": {
      "image/png": "[encoded data removed]",
      "text/plain": [
       "<Figure size 640x480 with 1 Axes>"
      ]
     },
     "metadata": {},
     "output_type": "display_data"
    }
   ],
   "source": [
    "# x, y 데이터 세트 산점도로 시각화하기\n",
    "plt.scatter(x, y)"
   ]
  },
  {
   "cell_type": "code",
   "execution_count": null,
   "id": "670e358f-3ff7-4971-9e70-1c50a5bd1637",
   "metadata": {},
   "outputs": [],
   "source": []
  },
  {
   "cell_type": "code",
   "execution_count": 20,
   "id": "faf8155c-2073-4658-a08b-05f8e5a1b424",
   "metadata": {},
   "outputs": [],
   "source": [
    "# Markdown 으로 바꾼 뒤\n",
    "# ![행렬곱](img/행렬곱.png) 입력하면 이미지 불러올 수 있다."
   ]
  },
  {
   "cell_type": "markdown",
   "id": "42783486-548a-4013-94e6-38f28854545f",
   "metadata": {},
   "source": [
    "![행렬곱](img/행렬곱.png)"
   ]
  },
  {
   "cell_type": "code",
   "execution_count": null,
   "id": "5a973cae-d6c2-441d-8b04-fb76b6b56ed9",
   "metadata": {},
   "outputs": [],
   "source": []
  },
  {
   "cell_type": "code",
   "execution_count": 21,
   "id": "7a5a7a99-4404-451f-a09b-8b5e27b9be01",
   "metadata": {},
   "outputs": [],
   "source": [
    "# 비용함수 get_cost():\n",
    "# 실제 y값과 예측된 y값을 인자로 받아서\n",
    "# ((실제값i - 예측값i)^2 의 합) / n  (i = 1 ~ n) 을 계산해서 반환한다."
   ]
  },
  {
   "cell_type": "code",
   "execution_count": 22,
   "id": "d0726b0b-9fb4-41b1-8054-2c46314ae979",
   "metadata": {},
   "outputs": [],
   "source": [
    "def get_cost(y, y_pred):\n",
    "    n = len(y)\n",
    "    cost = np.sum(np.square(y - y_pred))/n\n",
    "    return cost"
   ]
  },
  {
   "cell_type": "code",
   "execution_count": 23,
   "id": "e563b1df-0790-4266-a3ce-33bd278593c8",
   "metadata": {},
   "outputs": [],
   "source": [
    "# 경사하강법 함수를 생성하기 위해 필요한 함수를 생성한다."
   ]
  },
  {
   "cell_type": "code",
   "execution_count": null,
   "id": "5c2cbabc-690b-4fdf-ad76-e5b56e25d90b",
   "metadata": {},
   "outputs": [],
   "source": []
  },
  {
   "cell_type": "code",
   "execution_count": 24,
   "id": "75660ec9-c596-4738-9421-6648e0fa31ba",
   "metadata": {},
   "outputs": [],
   "source": [
    "# 넘파이 행렬에 W를 업데이트하는 함수\n",
    "# w1과 w0을 업데이트할 w1_update, w0_update를 반환.\n",
    "def get_weight_updates(w1,w0,x,y,learning_rate=0.01):\n",
    "    n = len(y)\n",
    "    # 먼저 w1_update, w0_update를 \n",
    "    # 각각 w1, w0의 shape와 동일한 크기를 가진 0값으로 초기화\n",
    "    w1_update = np.zeros_like(w1)\n",
    "    w0_update = np.zeros_like(w0)\n",
    "    \n",
    "    # 예측 배열 계산하고 예측과 실제값의 차이 계산\n",
    "    y_pred = np.dot(x, w1.T) + w0\n",
    "    diff = y - y_pred\n",
    "    \n",
    "    # w0_update를 dot 행렬 연산으로 구하기 위해 모두 1값을 가진 행렬 생성\n",
    "    w0_factors = np.ones((n,1))\n",
    "    \n",
    "    # w1과 w0을 업데이트할 w1_update와 w0_update 계산\n",
    "    w1_update = - (2/n) * learning_rate * (np.dot(x.T, diff))\n",
    "    w0_update = - (2/n) * learning_rate * (np.dot(w0_factors.T, diff))\n",
    "    \n",
    "    return w1_update, w0_update"
   ]
  },
  {
   "cell_type": "code",
   "execution_count": 25,
   "id": "6fe282c2-4f9b-49ba-872c-acf39e76bcbe",
   "metadata": {},
   "outputs": [],
   "source": [
    "# get_weight_updates()을 경사 하강 방식으로 반복적으로 수행하여\n",
    "# w1과 w0를 업데이트하는 함수 생성하기"
   ]
  },
  {
   "cell_type": "code",
   "execution_count": 26,
   "id": "7049eff6-0c6c-4b51-8b39-91e43954e0bc",
   "metadata": {},
   "outputs": [],
   "source": [
    "def gradient_descent_steps(x,y,iters=10000):\n",
    "    # w0과 w1을 모두 0으로 초기화\n",
    "    w0 = np.zeros((1,1))\n",
    "    w1 = np.zeros((1,1))\n",
    "    \n",
    "    # 인자로 주어진 iters만큼 반복적으로 get_weight_updates() 호출해\n",
    "    # w1, w0 업데이트 수행.\n",
    "    for ind in range(iters):\n",
    "        w1_update, w0_update = get_weight_updates(w1,w0,x,y,learning_rate=0.01)\n",
    "        w1 = w1 - w1_update\n",
    "        w0 = w0 - w0_update\n",
    "        \n",
    "    return w1, w0"
   ]
  },
  {
   "cell_type": "code",
   "execution_count": 27,
   "id": "bb82c70b-4822-4e8d-8913-baea8a7ac14c",
   "metadata": {},
   "outputs": [
    {
     "name": "stdout",
     "output_type": "stream",
     "text": [
      "w1:[[3.99166296]], w0:[[6.01554219]]\n"
     ]
    }
   ],
   "source": [
    "w1, w0 = gradient_descent_steps(x, y, iters=10000)\n",
    "print(f\"w1:{w1}, w0:{w0}\")"
   ]
  },
  {
   "cell_type": "code",
   "execution_count": 28,
   "id": "c824bda8-0936-4ecc-808a-69a5f10cfee3",
   "metadata": {},
   "outputs": [
    {
     "name": "stdout",
     "output_type": "stream",
     "text": [
      "w1:[[4.04052164]], w0:[[5.96047959]]\n",
      "w1: 4.041 w0: 5.960\n",
      "Gradient Descent Total Cost: 1.0409\n"
     ]
    }
   ],
   "source": [
    "# gradient_descent_steps()를 호출해서 w1과 w0을 구하기\n",
    "w1, w0 = gradient_descent_steps(x, y, iters=1000)\n",
    "# iters가 커질수록(= 더 많이 학습할수록) 실제값에 가까워짐\n",
    "print(f\"w1:{w1}, w0:{w0}\")\n",
    "print(\"w1: {0:.3f} w0: {1:.3f}\".format(w1[0,0], w0[0,0]))\n",
    "y_pred = w1[0,0] * x + w0\n",
    "print(\"Gradient Descent Total Cost: {0:.4f}\".format(get_cost(y, y_pred)))"
   ]
  },
  {
   "cell_type": "code",
   "execution_count": 29,
   "id": "27aea50e-45d4-48fc-8e26-c373f045d69d",
   "metadata": {},
   "outputs": [
    {
     "name": "stdout",
     "output_type": "stream",
     "text": [
      "w1:[[3.99166296]], w0:[[6.01554219]]\n",
      "w1: 3.992, w0: 6.016\n",
      "Gradient Descent Total Cost: 1.0400\n"
     ]
    }
   ],
   "source": [
    "# gradient_descent_steps()를 호출해서 w1과 w0을 구하기\n",
    "w1, w0 = gradient_descent_steps(x, y, iters=10000)\n",
    "# iters가 커질수록(= 더 많이 학습할수록) 실제값에 가까워짐\n",
    "print(f\"w1:{w1}, w0:{w0}\")\n",
    "print(\"w1: {0:.3f}, w0: {1:.3f}\".format(w1[0,0], w0[0,0]))\n",
    "y_pred = w1[0,0] * x + w0\n",
    "print(\"Gradient Descent Total Cost: {0:.4f}\".format(get_cost(y, y_pred)))"
   ]
  },
  {
   "cell_type": "code",
   "execution_count": 30,
   "id": "280dd1a8-f1a3-4079-b48a-2ccbe9312b0d",
   "metadata": {},
   "outputs": [
    {
     "name": "stdout",
     "output_type": "stream",
     "text": [
      "w1:[[3.99166296]], w0:[[6.01554219]]\n"
     ]
    }
   ],
   "source": [
    "w1, w0 = gradient_descent_steps(x, y, iters=10000)\n",
    "print(f\"w1:{w1}, w0:{w0}\")"
   ]
  },
  {
   "cell_type": "code",
   "execution_count": 31,
   "id": "4fc95403-b3a2-43e7-94e2-627c329c14a3",
   "metadata": {},
   "outputs": [
    {
     "name": "stdout",
     "output_type": "stream",
     "text": [
      "w1:[[3.99166296]], w0:[[6.01554219]]\n"
     ]
    }
   ],
   "source": [
    "w1, w0 = gradient_descent_steps(x, y, iters=100000)\n",
    "print(f\"w1:{w1}, w0:{w0}\")"
   ]
  },
  {
   "cell_type": "code",
   "execution_count": null,
   "id": "6f7e1d8b-d411-40c5-b79b-05a4618c4e40",
   "metadata": {},
   "outputs": [],
   "source": []
  }
 ],
 "metadata": {
  "kernelspec": {
   "display_name": "Python 3 (ipykernel)",
   "language": "python",
   "name": "python3"
  },
  "language_info": {
   "codemirror_mode": {
    "name": "ipython",
    "version": 3
   },
   "file_extension": ".py",
   "mimetype": "text/x-python",
   "name": "python",
   "nbconvert_exporter": "python",
   "pygments_lexer": "ipython3",
   "version": "3.10.10"
  }
 },
 "nbformat": 4,
 "nbformat_minor": 5
}
