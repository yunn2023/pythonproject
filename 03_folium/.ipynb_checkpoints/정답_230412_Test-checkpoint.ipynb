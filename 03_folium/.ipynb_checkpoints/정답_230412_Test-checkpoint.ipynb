{
 "cells": [
  {
   "cell_type": "markdown",
   "id": "f146bb9e-1320-4927-9814-d55fcea2f423",
   "metadata": {},
   "source": [
    "# 필요한 셀은 추가해서 작성하시면 됩니다.\n",
    "###### https://github.com/vuski/admdongkor/tree/master/ver20230101/HangJeongDong_ver20230101.geojson 파일 다운로드 사용"
   ]
  },
  {
   "cell_type": "code",
   "execution_count": 28,
   "id": "95830af2-1139-4656-bf76-9407eeb645e2",
   "metadata": {
    "tags": []
   },
   "outputs": [],
   "source": [
    "import warnings\n",
    "warnings.filterwarnings('ignore')"
   ]
  },
  {
   "cell_type": "markdown",
   "id": "2d5aa5f8-3eeb-49b7-8c62-7a08fbb46acb",
   "metadata": {},
   "source": [
    "### 1. 202302_202302_주민등록인구및세대현황_월간.csv를 가지고 와서 'data'라는 이름의 데이터 프레임으로 작성하고 5개만 확인합니다."
   ]
  },
  {
   "cell_type": "code",
   "execution_count": 1,
   "id": "ea4eb284-3914-4a97-bfda-6d1639d1dd57",
   "metadata": {
    "tags": []
   },
   "outputs": [],
   "source": [
    "import pandas as pd"
   ]
  },
  {
   "cell_type": "code",
   "execution_count": 3,
   "id": "73237bb8-6d4b-4b6f-9081-dc8a68b2d211",
   "metadata": {
    "tags": []
   },
   "outputs": [],
   "source": [
    "data = pd.read_csv('202302_202302_주민등록인구및세대현황_월간.csv',encoding='cp949')"
   ]
  },
  {
   "cell_type": "code",
   "execution_count": 4,
   "id": "ab41f812-c6cd-43b7-8965-b3d084a006ba",
   "metadata": {
    "tags": []
   },
   "outputs": [
    {
     "data": {
      "text/html": [
       "<div>\n",
       "<style scoped>\n",
       "    .dataframe tbody tr th:only-of-type {\n",
       "        vertical-align: middle;\n",
       "    }\n",
       "\n",
       "    .dataframe tbody tr th {\n",
       "        vertical-align: top;\n",
       "    }\n",
       "\n",
       "    .dataframe thead th {\n",
       "        text-align: right;\n",
       "    }\n",
       "</style>\n",
       "<table border=\"1\" class=\"dataframe\">\n",
       "  <thead>\n",
       "    <tr style=\"text-align: right;\">\n",
       "      <th></th>\n",
       "      <th>행정구역</th>\n",
       "      <th>2023년02월_총인구수</th>\n",
       "      <th>2023년02월_세대수</th>\n",
       "      <th>2023년02월_세대당 인구</th>\n",
       "      <th>2023년02월_남자 인구수</th>\n",
       "      <th>2023년02월_여자 인구수</th>\n",
       "      <th>2023년02월_남여 비율</th>\n",
       "    </tr>\n",
       "  </thead>\n",
       "  <tbody>\n",
       "    <tr>\n",
       "      <th>0</th>\n",
       "      <td>서울특별시  (1100000000)</td>\n",
       "      <td>9,427,583</td>\n",
       "      <td>4,457,982</td>\n",
       "      <td>2.11</td>\n",
       "      <td>4,567,957</td>\n",
       "      <td>4,859,626</td>\n",
       "      <td>0.94</td>\n",
       "    </tr>\n",
       "    <tr>\n",
       "      <th>1</th>\n",
       "      <td>서울특별시 종로구 (1111000000)</td>\n",
       "      <td>141,433</td>\n",
       "      <td>72,773</td>\n",
       "      <td>1.94</td>\n",
       "      <td>68,399</td>\n",
       "      <td>73,034</td>\n",
       "      <td>0.94</td>\n",
       "    </tr>\n",
       "    <tr>\n",
       "      <th>2</th>\n",
       "      <td>서울특별시 종로구 청운효자동(1111051500)</td>\n",
       "      <td>11,605</td>\n",
       "      <td>5,130</td>\n",
       "      <td>2.26</td>\n",
       "      <td>5,325</td>\n",
       "      <td>6,280</td>\n",
       "      <td>0.85</td>\n",
       "    </tr>\n",
       "    <tr>\n",
       "      <th>3</th>\n",
       "      <td>서울특별시 종로구 사직동(1111053000)</td>\n",
       "      <td>9,120</td>\n",
       "      <td>4,593</td>\n",
       "      <td>1.99</td>\n",
       "      <td>4,060</td>\n",
       "      <td>5,060</td>\n",
       "      <td>0.80</td>\n",
       "    </tr>\n",
       "    <tr>\n",
       "      <th>4</th>\n",
       "      <td>서울특별시 종로구 삼청동(1111054000)</td>\n",
       "      <td>2,322</td>\n",
       "      <td>1,143</td>\n",
       "      <td>2.03</td>\n",
       "      <td>1,104</td>\n",
       "      <td>1,218</td>\n",
       "      <td>0.91</td>\n",
       "    </tr>\n",
       "  </tbody>\n",
       "</table>\n",
       "</div>"
      ],
      "text/plain": [
       "                          행정구역 2023년02월_총인구수 2023년02월_세대수  2023년02월_세대당 인구   \n",
       "0          서울특별시  (1100000000)     9,427,583    4,457,982             2.11  \\\n",
       "1       서울특별시 종로구 (1111000000)       141,433       72,773             1.94   \n",
       "2  서울특별시 종로구 청운효자동(1111051500)        11,605        5,130             2.26   \n",
       "3    서울특별시 종로구 사직동(1111053000)         9,120        4,593             1.99   \n",
       "4    서울특별시 종로구 삼청동(1111054000)         2,322        1,143             2.03   \n",
       "\n",
       "  2023년02월_남자 인구수 2023년02월_여자 인구수  2023년02월_남여 비율  \n",
       "0       4,567,957       4,859,626            0.94  \n",
       "1          68,399          73,034            0.94  \n",
       "2           5,325           6,280            0.85  \n",
       "3           4,060           5,060            0.80  \n",
       "4           1,104           1,218            0.91  "
      ]
     },
     "execution_count": 4,
     "metadata": {},
     "output_type": "execute_result"
    }
   ],
   "source": [
    "data.head()"
   ]
  },
  {
   "cell_type": "markdown",
   "id": "59d1eef0-ff3d-4e42-8219-7bd0d60ff1fe",
   "metadata": {},
   "source": [
    "### 2. '행정구역'컬럼을 행정구역명과 행정기관코드로 분리하여 'data' 데이터 프레임에 '행정구역' 컬럼에 행정구역명만 저장하고 5개의 데이터만 확인합니다."
   ]
  },
  {
   "cell_type": "code",
   "execution_count": 8,
   "id": "131ed028-2e54-4170-bbab-1ede1830fa99",
   "metadata": {
    "tags": []
   },
   "outputs": [],
   "source": [
    "data['행정구역'] = data['행정구역'].str.split('(').str[0].str.strip()"
   ]
  },
  {
   "cell_type": "code",
   "execution_count": 9,
   "id": "bcc51492-85fe-43ac-a263-b85c65bbf048",
   "metadata": {
    "collapsed": true,
    "jupyter": {
     "outputs_hidden": true
    },
    "tags": []
   },
   "outputs": [
    {
     "data": {
      "text/html": [
       "<div>\n",
       "<style scoped>\n",
       "    .dataframe tbody tr th:only-of-type {\n",
       "        vertical-align: middle;\n",
       "    }\n",
       "\n",
       "    .dataframe tbody tr th {\n",
       "        vertical-align: top;\n",
       "    }\n",
       "\n",
       "    .dataframe thead th {\n",
       "        text-align: right;\n",
       "    }\n",
       "</style>\n",
       "<table border=\"1\" class=\"dataframe\">\n",
       "  <thead>\n",
       "    <tr style=\"text-align: right;\">\n",
       "      <th></th>\n",
       "      <th>행정구역</th>\n",
       "      <th>2023년02월_총인구수</th>\n",
       "      <th>2023년02월_세대수</th>\n",
       "      <th>2023년02월_세대당 인구</th>\n",
       "      <th>2023년02월_남자 인구수</th>\n",
       "      <th>2023년02월_여자 인구수</th>\n",
       "      <th>2023년02월_남여 비율</th>\n",
       "    </tr>\n",
       "  </thead>\n",
       "  <tbody>\n",
       "    <tr>\n",
       "      <th>0</th>\n",
       "      <td>서울특별시</td>\n",
       "      <td>9,427,583</td>\n",
       "      <td>4,457,982</td>\n",
       "      <td>2.11</td>\n",
       "      <td>4,567,957</td>\n",
       "      <td>4,859,626</td>\n",
       "      <td>0.94</td>\n",
       "    </tr>\n",
       "    <tr>\n",
       "      <th>1</th>\n",
       "      <td>서울특별시 종로구</td>\n",
       "      <td>141,433</td>\n",
       "      <td>72,773</td>\n",
       "      <td>1.94</td>\n",
       "      <td>68,399</td>\n",
       "      <td>73,034</td>\n",
       "      <td>0.94</td>\n",
       "    </tr>\n",
       "    <tr>\n",
       "      <th>2</th>\n",
       "      <td>서울특별시 종로구 청운효자동</td>\n",
       "      <td>11,605</td>\n",
       "      <td>5,130</td>\n",
       "      <td>2.26</td>\n",
       "      <td>5,325</td>\n",
       "      <td>6,280</td>\n",
       "      <td>0.85</td>\n",
       "    </tr>\n",
       "    <tr>\n",
       "      <th>3</th>\n",
       "      <td>서울특별시 종로구 사직동</td>\n",
       "      <td>9,120</td>\n",
       "      <td>4,593</td>\n",
       "      <td>1.99</td>\n",
       "      <td>4,060</td>\n",
       "      <td>5,060</td>\n",
       "      <td>0.80</td>\n",
       "    </tr>\n",
       "    <tr>\n",
       "      <th>4</th>\n",
       "      <td>서울특별시 종로구 삼청동</td>\n",
       "      <td>2,322</td>\n",
       "      <td>1,143</td>\n",
       "      <td>2.03</td>\n",
       "      <td>1,104</td>\n",
       "      <td>1,218</td>\n",
       "      <td>0.91</td>\n",
       "    </tr>\n",
       "  </tbody>\n",
       "</table>\n",
       "</div>"
      ],
      "text/plain": [
       "              행정구역 2023년02월_총인구수 2023년02월_세대수  2023년02월_세대당 인구   \n",
       "0            서울특별시     9,427,583    4,457,982             2.11  \\\n",
       "1        서울특별시 종로구       141,433       72,773             1.94   \n",
       "2  서울특별시 종로구 청운효자동        11,605        5,130             2.26   \n",
       "3    서울특별시 종로구 사직동         9,120        4,593             1.99   \n",
       "4    서울특별시 종로구 삼청동         2,322        1,143             2.03   \n",
       "\n",
       "  2023년02월_남자 인구수 2023년02월_여자 인구수  2023년02월_남여 비율  \n",
       "0       4,567,957       4,859,626            0.94  \n",
       "1          68,399          73,034            0.94  \n",
       "2           5,325           6,280            0.85  \n",
       "3           4,060           5,060            0.80  \n",
       "4           1,104           1,218            0.91  "
      ]
     },
     "execution_count": 9,
     "metadata": {},
     "output_type": "execute_result"
    }
   ],
   "source": [
    "data.head()"
   ]
  },
  {
   "cell_type": "markdown",
   "id": "deb3e798-0c28-4033-b386-c4dc3e3e3abb",
   "metadata": {
    "tags": []
   },
   "source": [
    "### 3. 'data' 데이터 프레임의 컬럼명을 행정구역, 총인구수, 세대수, 세대당인구, 남자, 여자, 남녀비율 로 변경하고 'data'데이터 프레임의 정보를 확인합니다."
   ]
  },
  {
   "cell_type": "code",
   "execution_count": 11,
   "id": "51ffc490-40e0-43c2-a716-6add1cb02b25",
   "metadata": {
    "tags": []
   },
   "outputs": [],
   "source": [
    "data.columns = ['행정구역', '총인구수', '세대수', '세대당인구', '남자', '여자', '남여비율']"
   ]
  },
  {
   "cell_type": "code",
   "execution_count": 12,
   "id": "dc82c6c7-986b-44e3-8726-3662711b9a9b",
   "metadata": {
    "collapsed": true,
    "jupyter": {
     "outputs_hidden": true
    },
    "tags": []
   },
   "outputs": [
    {
     "name": "stdout",
     "output_type": "stream",
     "text": [
      "<class 'pandas.core.frame.DataFrame'>\n",
      "RangeIndex: 3872 entries, 0 to 3871\n",
      "Data columns (total 7 columns):\n",
      " #   Column  Non-Null Count  Dtype  \n",
      "---  ------  --------------  -----  \n",
      " 0   행정구역    3872 non-null   object \n",
      " 1   총인구수    3872 non-null   object \n",
      " 2   세대수     3872 non-null   object \n",
      " 3   세대당인구   3872 non-null   float64\n",
      " 4   남자      3872 non-null   object \n",
      " 5   여자      3872 non-null   object \n",
      " 6   남여비율    3872 non-null   float64\n",
      "dtypes: float64(2), object(5)\n",
      "memory usage: 211.9+ KB\n"
     ]
    }
   ],
   "source": [
    "data.info()"
   ]
  },
  {
   "cell_type": "markdown",
   "id": "dfd7ad84-1153-4bec-9a1b-79e0a010568a",
   "metadata": {},
   "source": [
    "### 4. 남녀비율 컬럼을 제거하고 'data' 데이터프레임 정보를 확인합니다."
   ]
  },
  {
   "cell_type": "code",
   "execution_count": 13,
   "id": "d3cbdf56-cef2-4106-9815-e04866a9764f",
   "metadata": {
    "tags": []
   },
   "outputs": [],
   "source": [
    "data.drop(columns='남여비율',inplace=True)"
   ]
  },
  {
   "cell_type": "code",
   "execution_count": 14,
   "id": "0508cede-209f-4a2b-b807-ea01a5178a27",
   "metadata": {
    "collapsed": true,
    "jupyter": {
     "outputs_hidden": true
    },
    "tags": []
   },
   "outputs": [
    {
     "name": "stdout",
     "output_type": "stream",
     "text": [
      "<class 'pandas.core.frame.DataFrame'>\n",
      "RangeIndex: 3872 entries, 0 to 3871\n",
      "Data columns (total 6 columns):\n",
      " #   Column  Non-Null Count  Dtype  \n",
      "---  ------  --------------  -----  \n",
      " 0   행정구역    3872 non-null   object \n",
      " 1   총인구수    3872 non-null   object \n",
      " 2   세대수     3872 non-null   object \n",
      " 3   세대당인구   3872 non-null   float64\n",
      " 4   남자      3872 non-null   object \n",
      " 5   여자      3872 non-null   object \n",
      "dtypes: float64(1), object(5)\n",
      "memory usage: 181.6+ KB\n"
     ]
    }
   ],
   "source": [
    "data.info()"
   ]
  },
  {
   "cell_type": "markdown",
   "id": "147b443f-a476-49ce-b013-25f366b663d0",
   "metadata": {},
   "source": [
    "### 5. 행정구역 컬럼의 ‘(’ ‘)’를 제거하고 시,구,동 컬럼을 만들어 분리해 넣고 부산지역의 값만 선택해서 'busan' 데이터 프레임에 저장합니다."
   ]
  },
  {
   "cell_type": "code",
   "execution_count": 24,
   "id": "460978f3-d360-4a12-9028-b51fd941b567",
   "metadata": {
    "tags": []
   },
   "outputs": [],
   "source": [
    "data['시'] = data['행정구역'].str.split().str[0]\n",
    "data['구'] = data['행정구역'].str.split().str[1]\n",
    "data['동'] = data['행정구역'].str.split().str[2]\n",
    "busan = data[data['시']=='부산광역시']"
   ]
  },
  {
   "cell_type": "code",
   "execution_count": 25,
   "id": "1be27b2a-5d0a-4918-b6ba-96baa1490159",
   "metadata": {
    "collapsed": true,
    "jupyter": {
     "outputs_hidden": true
    },
    "tags": []
   },
   "outputs": [
    {
     "data": {
      "text/html": [
       "<div>\n",
       "<style scoped>\n",
       "    .dataframe tbody tr th:only-of-type {\n",
       "        vertical-align: middle;\n",
       "    }\n",
       "\n",
       "    .dataframe tbody tr th {\n",
       "        vertical-align: top;\n",
       "    }\n",
       "\n",
       "    .dataframe thead th {\n",
       "        text-align: right;\n",
       "    }\n",
       "</style>\n",
       "<table border=\"1\" class=\"dataframe\">\n",
       "  <thead>\n",
       "    <tr style=\"text-align: right;\">\n",
       "      <th></th>\n",
       "      <th>행정구역</th>\n",
       "      <th>총인구수</th>\n",
       "      <th>세대수</th>\n",
       "      <th>세대당인구</th>\n",
       "      <th>남자</th>\n",
       "      <th>여자</th>\n",
       "      <th>시</th>\n",
       "      <th>구</th>\n",
       "      <th>동</th>\n",
       "    </tr>\n",
       "  </thead>\n",
       "  <tbody>\n",
       "    <tr>\n",
       "      <th>452</th>\n",
       "      <td>부산광역시</td>\n",
       "      <td>3,315,516</td>\n",
       "      <td>1,559,593</td>\n",
       "      <td>2.13</td>\n",
       "      <td>1,618,202</td>\n",
       "      <td>1,697,314</td>\n",
       "      <td>부산광역시</td>\n",
       "      <td>NaN</td>\n",
       "      <td>NaN</td>\n",
       "    </tr>\n",
       "    <tr>\n",
       "      <th>453</th>\n",
       "      <td>부산광역시 중구</td>\n",
       "      <td>39,711</td>\n",
       "      <td>24,123</td>\n",
       "      <td>1.65</td>\n",
       "      <td>19,233</td>\n",
       "      <td>20,478</td>\n",
       "      <td>부산광역시</td>\n",
       "      <td>중구</td>\n",
       "      <td>NaN</td>\n",
       "    </tr>\n",
       "    <tr>\n",
       "      <th>454</th>\n",
       "      <td>부산광역시 중구 중앙동</td>\n",
       "      <td>3,136</td>\n",
       "      <td>2,435</td>\n",
       "      <td>1.29</td>\n",
       "      <td>1,447</td>\n",
       "      <td>1,689</td>\n",
       "      <td>부산광역시</td>\n",
       "      <td>중구</td>\n",
       "      <td>중앙동</td>\n",
       "    </tr>\n",
       "    <tr>\n",
       "      <th>455</th>\n",
       "      <td>부산광역시 중구 동광동</td>\n",
       "      <td>2,539</td>\n",
       "      <td>1,656</td>\n",
       "      <td>1.53</td>\n",
       "      <td>1,291</td>\n",
       "      <td>1,248</td>\n",
       "      <td>부산광역시</td>\n",
       "      <td>중구</td>\n",
       "      <td>동광동</td>\n",
       "    </tr>\n",
       "    <tr>\n",
       "      <th>456</th>\n",
       "      <td>부산광역시 중구 대청동</td>\n",
       "      <td>6,056</td>\n",
       "      <td>3,526</td>\n",
       "      <td>1.72</td>\n",
       "      <td>2,840</td>\n",
       "      <td>3,216</td>\n",
       "      <td>부산광역시</td>\n",
       "      <td>중구</td>\n",
       "      <td>대청동</td>\n",
       "    </tr>\n",
       "  </tbody>\n",
       "</table>\n",
       "</div>"
      ],
      "text/plain": [
       "             행정구역       총인구수        세대수  세대당인구         남자         여자      시   \n",
       "452         부산광역시  3,315,516  1,559,593   2.13  1,618,202  1,697,314  부산광역시  \\\n",
       "453      부산광역시 중구     39,711     24,123   1.65     19,233     20,478  부산광역시   \n",
       "454  부산광역시 중구 중앙동      3,136      2,435   1.29      1,447      1,689  부산광역시   \n",
       "455  부산광역시 중구 동광동      2,539      1,656   1.53      1,291      1,248  부산광역시   \n",
       "456  부산광역시 중구 대청동      6,056      3,526   1.72      2,840      3,216  부산광역시   \n",
       "\n",
       "       구    동  \n",
       "452  NaN  NaN  \n",
       "453   중구  NaN  \n",
       "454   중구  중앙동  \n",
       "455   중구  동광동  \n",
       "456   중구  대청동  "
      ]
     },
     "execution_count": 25,
     "metadata": {},
     "output_type": "execute_result"
    }
   ],
   "source": [
    "busan.head()"
   ]
  },
  {
   "cell_type": "markdown",
   "id": "fd18a967-884a-42a5-a6f2-5832170de717",
   "metadata": {},
   "source": [
    "### 6. 'busan' 데이터 프레임에 NAN 값이 있다면 해당 행을 제거하고, 기존 인덱스 값은 제거하고 새로 인덱스를 부여하고 내용을 확인합니다."
   ]
  },
  {
   "cell_type": "code",
   "execution_count": 26,
   "id": "67d3d975-380e-4514-8f30-88ebd70e0742",
   "metadata": {
    "collapsed": true,
    "jupyter": {
     "outputs_hidden": true
    },
    "tags": []
   },
   "outputs": [
    {
     "name": "stderr",
     "output_type": "stream",
     "text": [
      "C:\\Users\\admin\\AppData\\Local\\Temp\\ipykernel_1820\\785469944.py:1: SettingWithCopyWarning: \n",
      "A value is trying to be set on a copy of a slice from a DataFrame\n",
      "\n",
      "See the caveats in the documentation: https://pandas.pydata.org/pandas-docs/stable/user_guide/indexing.html#returning-a-view-versus-a-copy\n",
      "  busan.dropna(inplace=True)\n"
     ]
    }
   ],
   "source": [
    "busan.dropna(inplace=True)\n",
    "busan.reset_index(inplace=True,drop=True)"
   ]
  },
  {
   "cell_type": "code",
   "execution_count": 27,
   "id": "08bd1235-f76b-4b58-bfa2-fad7b9e13dda",
   "metadata": {
    "tags": []
   },
   "outputs": [
    {
     "data": {
      "text/html": [
       "<div>\n",
       "<style scoped>\n",
       "    .dataframe tbody tr th:only-of-type {\n",
       "        vertical-align: middle;\n",
       "    }\n",
       "\n",
       "    .dataframe tbody tr th {\n",
       "        vertical-align: top;\n",
       "    }\n",
       "\n",
       "    .dataframe thead th {\n",
       "        text-align: right;\n",
       "    }\n",
       "</style>\n",
       "<table border=\"1\" class=\"dataframe\">\n",
       "  <thead>\n",
       "    <tr style=\"text-align: right;\">\n",
       "      <th></th>\n",
       "      <th>행정구역</th>\n",
       "      <th>총인구수</th>\n",
       "      <th>세대수</th>\n",
       "      <th>세대당인구</th>\n",
       "      <th>남자</th>\n",
       "      <th>여자</th>\n",
       "      <th>시</th>\n",
       "      <th>구</th>\n",
       "      <th>동</th>\n",
       "    </tr>\n",
       "  </thead>\n",
       "  <tbody>\n",
       "    <tr>\n",
       "      <th>0</th>\n",
       "      <td>부산광역시 중구 중앙동</td>\n",
       "      <td>3,136</td>\n",
       "      <td>2,435</td>\n",
       "      <td>1.29</td>\n",
       "      <td>1,447</td>\n",
       "      <td>1,689</td>\n",
       "      <td>부산광역시</td>\n",
       "      <td>중구</td>\n",
       "      <td>중앙동</td>\n",
       "    </tr>\n",
       "    <tr>\n",
       "      <th>1</th>\n",
       "      <td>부산광역시 중구 동광동</td>\n",
       "      <td>2,539</td>\n",
       "      <td>1,656</td>\n",
       "      <td>1.53</td>\n",
       "      <td>1,291</td>\n",
       "      <td>1,248</td>\n",
       "      <td>부산광역시</td>\n",
       "      <td>중구</td>\n",
       "      <td>동광동</td>\n",
       "    </tr>\n",
       "    <tr>\n",
       "      <th>2</th>\n",
       "      <td>부산광역시 중구 대청동</td>\n",
       "      <td>6,056</td>\n",
       "      <td>3,526</td>\n",
       "      <td>1.72</td>\n",
       "      <td>2,840</td>\n",
       "      <td>3,216</td>\n",
       "      <td>부산광역시</td>\n",
       "      <td>중구</td>\n",
       "      <td>대청동</td>\n",
       "    </tr>\n",
       "    <tr>\n",
       "      <th>3</th>\n",
       "      <td>부산광역시 중구 보수동</td>\n",
       "      <td>10,463</td>\n",
       "      <td>6,124</td>\n",
       "      <td>1.71</td>\n",
       "      <td>5,005</td>\n",
       "      <td>5,458</td>\n",
       "      <td>부산광역시</td>\n",
       "      <td>중구</td>\n",
       "      <td>보수동</td>\n",
       "    </tr>\n",
       "    <tr>\n",
       "      <th>4</th>\n",
       "      <td>부산광역시 중구 부평동</td>\n",
       "      <td>4,363</td>\n",
       "      <td>2,714</td>\n",
       "      <td>1.61</td>\n",
       "      <td>2,068</td>\n",
       "      <td>2,295</td>\n",
       "      <td>부산광역시</td>\n",
       "      <td>중구</td>\n",
       "      <td>부평동</td>\n",
       "    </tr>\n",
       "  </tbody>\n",
       "</table>\n",
       "</div>"
      ],
      "text/plain": [
       "           행정구역    총인구수    세대수  세대당인구     남자     여자      시   구    동\n",
       "0  부산광역시 중구 중앙동   3,136  2,435   1.29  1,447  1,689  부산광역시  중구  중앙동\n",
       "1  부산광역시 중구 동광동   2,539  1,656   1.53  1,291  1,248  부산광역시  중구  동광동\n",
       "2  부산광역시 중구 대청동   6,056  3,526   1.72  2,840  3,216  부산광역시  중구  대청동\n",
       "3  부산광역시 중구 보수동  10,463  6,124   1.71  5,005  5,458  부산광역시  중구  보수동\n",
       "4  부산광역시 중구 부평동   4,363  2,714   1.61  2,068  2,295  부산광역시  중구  부평동"
      ]
     },
     "execution_count": 27,
     "metadata": {},
     "output_type": "execute_result"
    }
   ],
   "source": [
    "busan.head()"
   ]
  },
  {
   "cell_type": "markdown",
   "id": "96a2cab9-acee-444f-8da4-829af5c43616",
   "metadata": {},
   "source": [
    "### 7. 총인구수, 남자, 여자 컬럼의 데이타 타입을 정수형으로 변경하고 변경내용을 확인합니다."
   ]
  },
  {
   "cell_type": "code",
   "execution_count": 30,
   "id": "ba6210ba-7d87-44d2-bafe-ff5bdf93ec14",
   "metadata": {
    "tags": []
   },
   "outputs": [],
   "source": [
    "busan['총인구수'] = busan['총인구수'].str.replace(',','').astype('int')\n",
    "busan['남자'] = busan['남자'].str.replace(',','').astype('int')\n",
    "busan['여자'] = busan['여자'].str.replace(',','').astype('int')"
   ]
  },
  {
   "cell_type": "code",
   "execution_count": 31,
   "id": "54d88708-b438-4569-b518-0a3ba8d4e831",
   "metadata": {
    "collapsed": true,
    "jupyter": {
     "outputs_hidden": true
    },
    "tags": []
   },
   "outputs": [
    {
     "name": "stdout",
     "output_type": "stream",
     "text": [
      "<class 'pandas.core.frame.DataFrame'>\n",
      "RangeIndex: 205 entries, 0 to 204\n",
      "Data columns (total 9 columns):\n",
      " #   Column  Non-Null Count  Dtype  \n",
      "---  ------  --------------  -----  \n",
      " 0   행정구역    205 non-null    object \n",
      " 1   총인구수    205 non-null    int32  \n",
      " 2   세대수     205 non-null    object \n",
      " 3   세대당인구   205 non-null    float64\n",
      " 4   남자      205 non-null    int32  \n",
      " 5   여자      205 non-null    int32  \n",
      " 6   시       205 non-null    object \n",
      " 7   구       205 non-null    object \n",
      " 8   동       205 non-null    object \n",
      "dtypes: float64(1), int32(3), object(5)\n",
      "memory usage: 12.1+ KB\n"
     ]
    }
   ],
   "source": [
    "busan.info()"
   ]
  },
  {
   "cell_type": "markdown",
   "id": "55b9bfcb-030a-4f7c-9da6-ab98f7ec7048",
   "metadata": {},
   "source": [
    "### 8. 구별로 부산 인구를 차트로 표시합니다.(인구순 5개만)"
   ]
  },
  {
   "cell_type": "code",
   "execution_count": 32,
   "id": "aa2478c9-6a94-46f8-a919-60ef9ef61cae",
   "metadata": {
    "tags": []
   },
   "outputs": [],
   "source": [
    "import matplotlib.pyplot as plt\n",
    "import seaborn as sns"
   ]
  },
  {
   "cell_type": "code",
   "execution_count": 39,
   "id": "c1d0613e-2634-4fe7-bbb0-fa42553ecdd5",
   "metadata": {
    "tags": []
   },
   "outputs": [
    {
     "data": {
      "image/png": "[encoded data removed]",
      "text/plain": [
       "<Figure size 1000x300 with 1 Axes>"
      ]
     },
     "metadata": {},
     "output_type": "display_data"
    }
   ],
   "source": [
    "busan_g = busan.groupby(['구'])['총인구수'].sum().sort_values(ascending=False).head(5).reset_index()\n",
    "plt.figure(figsize=(10,3))\n",
    "sns.barplot(data=busan_g,x='구',y='총인구수')\n",
    "plt.show()"
   ]
  },
  {
   "cell_type": "markdown",
   "id": "994596b4-fd36-469c-9d1a-c97d74928252",
   "metadata": {},
   "source": [
    "### 9. 동별로 부산 인구를 차트로 표시합니다.(인구순 5개만)"
   ]
  },
  {
   "cell_type": "code",
   "execution_count": 41,
   "id": "42d6b4b3-1916-4b0f-ba5b-5d995830dcfd",
   "metadata": {
    "tags": []
   },
   "outputs": [
    {
     "data": {
      "image/png": "[encoded data removed]",
      "text/plain": [
       "<Figure size 1000x300 with 1 Axes>"
      ]
     },
     "metadata": {},
     "output_type": "display_data"
    }
   ],
   "source": [
    "busan_g1 = busan.sort_values(by='총인구수',ascending=False).head(5)\n",
    "plt.figure(figsize=(10,3))\n",
    "sns.barplot(data=busan_g1,y='동',x='총인구수')\n",
    "plt.show()"
   ]
  },
  {
   "cell_type": "code",
   "execution_count": null,
   "id": "66cd7f2f-ae5f-4ab6-98d2-444139a81848",
   "metadata": {},
   "outputs": [],
   "source": []
  }
 ],
 "metadata": {
  "kernelspec": {
   "display_name": "Python 3 (ipykernel)",
   "language": "python",
   "name": "python3"
  },
  "language_info": {
   "codemirror_mode": {
    "name": "ipython",
    "version": 3
   },
   "file_extension": ".py",
   "mimetype": "text/x-python",
   "name": "python",
   "nbconvert_exporter": "python",
   "pygments_lexer": "ipython3",
   "version": "3.10.10"
  }
 },
 "nbformat": 4,
 "nbformat_minor": 5
}
