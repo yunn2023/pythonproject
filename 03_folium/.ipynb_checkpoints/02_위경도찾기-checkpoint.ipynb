{
 "cells": [
  {
   "cell_type": "code",
   "execution_count": 3,
   "id": "f090133e-dc7d-472c-a54e-875e2238c191",
   "metadata": {},
   "outputs": [],
   "source": [
    "# !pip install geopy"
   ]
  },
  {
   "cell_type": "code",
   "execution_count": 4,
   "id": "fd245e6a-2cf9-4cb3-b152-9c02c16e82be",
   "metadata": {},
   "outputs": [],
   "source": [
    "from geopy.geocoders import Nominatim"
   ]
  },
  {
   "cell_type": "code",
   "execution_count": 5,
   "id": "d0c896a6-c484-44e6-8d34-798c271d6eb5",
   "metadata": {},
   "outputs": [
    {
     "name": "stdout",
     "output_type": "stream",
     "text": [
      "Flatiron Building, 175, 5th Avenue, Manhattan Community Board 5, Manhattan, New York County, City of New York, New York, 10010, United States\n"
     ]
    }
   ],
   "source": [
    "geolocator = Nominatim(user_agent=\"web\")\n",
    "location = geolocator.geocode(\"175 5th Avenue NYC\")\n",
    "print(location.address)"
   ]
  },
  {
   "cell_type": "code",
   "execution_count": 6,
   "id": "c930c222-c16e-4adc-8ee1-8a1f137c790d",
   "metadata": {},
   "outputs": [
    {
     "data": {
      "text/plain": [
       "40.741059199999995"
      ]
     },
     "execution_count": 6,
     "metadata": {},
     "output_type": "execute_result"
    }
   ],
   "source": [
    "location.latitude"
   ]
  },
  {
   "cell_type": "code",
   "execution_count": 7,
   "id": "9001795c-4195-4919-91ec-7f6238b34168",
   "metadata": {},
   "outputs": [
    {
     "data": {
      "text/plain": [
       "-73.98964162240998"
      ]
     },
     "execution_count": 7,
     "metadata": {},
     "output_type": "execute_result"
    }
   ],
   "source": [
    "location.longitude"
   ]
  },
  {
   "cell_type": "code",
   "execution_count": 10,
   "id": "37a5754c-577c-4951-8ef2-b123a813e881",
   "metadata": {},
   "outputs": [
    {
     "name": "stdout",
     "output_type": "stream",
     "text": [
      "35.158271150000004 126.795781369881 대한상공회의소 광주인력개발원, 37, 소촌로152번길, 소촌온세계아파트, 광산구, 광주, 62379, 대한민국\n"
     ]
    }
   ],
   "source": [
    "location = geolocator.geocode(\"광주광역시 광산구 소촌로152번길 37\")\n",
    "print(location.latitude, location.longitude, location.address)"
   ]
  },
  {
   "cell_type": "code",
   "execution_count": 11,
   "id": "4c16e335-f912-4baa-9b99-255df6b0e525",
   "metadata": {},
   "outputs": [
    {
     "data": {
      "text/plain": [
       "{'place_id': 210684969,\n",
       " 'licence': 'Data © OpenStreetMap contributors, ODbL 1.0. https://osm.org/copyright',\n",
       " 'osm_type': 'way',\n",
       " 'osm_id': 472475874,\n",
       " 'boundingbox': ['35.1574848', '35.1592417', '126.7943724', '126.7972005'],\n",
       " 'lat': '35.158271150000004',\n",
       " 'lon': '126.795781369881',\n",
       " 'display_name': '대한상공회의소 광주인력개발원, 37, 소촌로152번길, 소촌온세계아파트, 광산구, 광주, 62379, 대한민국',\n",
       " 'class': 'amenity',\n",
       " 'type': 'school',\n",
       " 'importance': 0.33001,\n",
       " 'icon': 'https://nominatim.openstreetmap.org/ui/mapicons/education_school.p.20.png'}"
      ]
     },
     "execution_count": 11,
     "metadata": {},
     "output_type": "execute_result"
    }
   ],
   "source": [
    "location.raw"
   ]
  },
  {
   "cell_type": "code",
   "execution_count": 12,
   "id": "57fbfb5d-647f-430b-8de2-1265acd774a8",
   "metadata": {},
   "outputs": [],
   "source": [
    "# https://developers.kakao.com/docs/latest/ko/local/dev-guide#address-coord-sample"
   ]
  },
  {
   "cell_type": "code",
   "execution_count": 13,
   "id": "fce7db8a-66b1-46eb-a8af-ad85732409a6",
   "metadata": {},
   "outputs": [],
   "source": [
    "#curl -v -X GET \"https://dapi.kakao.com/v2/local/search/address.json\" \\\n",
    "#  -H \"Authorization: KakaoAK ${REST_API_KEY}\" \\\n",
    "#  --data-urlencode \"query=전북 삼성동 100\" "
   ]
  },
  {
   "cell_type": "code",
   "execution_count": 14,
   "id": "803e0a8b-631a-443f-a0dc-5c42ee3ce2d8",
   "metadata": {},
   "outputs": [],
   "source": [
    "REST_API_KEY = 'cf322f1480f79ac2bba557f9c073eda9'"
   ]
  },
  {
   "cell_type": "code",
   "execution_count": 15,
   "id": "68cf2fd3-408a-4e21-8857-db0c0da3ca50",
   "metadata": {},
   "outputs": [],
   "source": [
    "import requests"
   ]
  },
  {
   "cell_type": "code",
   "execution_count": 17,
   "id": "8a6013a3-84e4-4c12-8460-345012f6ea96",
   "metadata": {
    "collapsed": true,
    "jupyter": {
     "outputs_hidden": true
    },
    "tags": []
   },
   "outputs": [
    {
     "data": {
      "text/plain": [
       "{'documents': [{'address': {'address_name': '전북 익산시 부송동 100',\n",
       "    'b_code': '4514013400',\n",
       "    'h_code': '4514069000',\n",
       "    'main_address_no': '100',\n",
       "    'mountain_yn': 'N',\n",
       "    'region_1depth_name': '전북',\n",
       "    'region_2depth_name': '익산시',\n",
       "    'region_3depth_h_name': '삼성동',\n",
       "    'region_3depth_name': '부송동',\n",
       "    'sub_address_no': '',\n",
       "    'x': '126.99597495347',\n",
       "    'y': '35.9766482774579'},\n",
       "   'address_name': '전북 익산시 부송동 100',\n",
       "   'address_type': 'REGION_ADDR',\n",
       "   'road_address': None,\n",
       "   'x': '126.99597495347',\n",
       "   'y': '35.9766482774579'},\n",
       "  {'address': {'address_name': '전북 익산시 임상동 100',\n",
       "    'b_code': '4514013200',\n",
       "    'h_code': '4514069000',\n",
       "    'main_address_no': '100',\n",
       "    'mountain_yn': 'N',\n",
       "    'region_1depth_name': '전북',\n",
       "    'region_2depth_name': '익산시',\n",
       "    'region_3depth_h_name': '삼성동',\n",
       "    'region_3depth_name': '임상동',\n",
       "    'sub_address_no': '',\n",
       "    'x': '126.980268573424',\n",
       "    'y': '35.9816612949055'},\n",
       "   'address_name': '전북 익산시 임상동 100',\n",
       "   'address_type': 'REGION_ADDR',\n",
       "   'road_address': None,\n",
       "   'x': '126.980268573424',\n",
       "   'y': '35.9816612949055'},\n",
       "  {'address': {'address_name': '전북 익산시 정족동 100',\n",
       "    'b_code': '4514013100',\n",
       "    'h_code': '4514069000',\n",
       "    'main_address_no': '100',\n",
       "    'mountain_yn': 'N',\n",
       "    'region_1depth_name': '전북',\n",
       "    'region_2depth_name': '익산시',\n",
       "    'region_3depth_h_name': '삼성동',\n",
       "    'region_3depth_name': '정족동',\n",
       "    'sub_address_no': '',\n",
       "    'x': '127.002020445866',\n",
       "    'y': '35.9829740190924'},\n",
       "   'address_name': '전북 익산시 정족동 100',\n",
       "   'address_type': 'REGION_ADDR',\n",
       "   'road_address': None,\n",
       "   'x': '127.002020445866',\n",
       "   'y': '35.9829740190924'}],\n",
       " 'meta': {'is_end': True, 'pageable_count': 3, 'total_count': 3}}"
      ]
     },
     "execution_count": 17,
     "metadata": {},
     "output_type": "execute_result"
    }
   ],
   "source": [
    "url = 'https://dapi.kakao.com/v2/local/search/address.json?query=전북 삼성동 100'\n",
    "# header = {'Authorization': 'KakaoAK ${REST_API_KEY}'}\n",
    "# f 포맷 방법을 사용 -> 앞에 f 붙이고 뒤에 $ 지우기\n",
    "header = {'Authorization': f'KakaoAK {REST_API_KEY}'}\n",
    "r = requests.get(url, headers=header)\n",
    "jsondata = r.json()\n",
    "jsondata"
   ]
  },
  {
   "cell_type": "code",
   "execution_count": 18,
   "id": "3b18c6f6-12a1-4dec-9ef3-19397298ddc1",
   "metadata": {
    "collapsed": true,
    "jupyter": {
     "outputs_hidden": true
    },
    "tags": []
   },
   "outputs": [
    {
     "data": {
      "text/plain": [
       "{'documents': [{'address': {'address_name': '광주 광산구 소촌동 235',\n",
       "    'b_code': '2920010800',\n",
       "    'h_code': '2920056500',\n",
       "    'main_address_no': '235',\n",
       "    'mountain_yn': 'N',\n",
       "    'region_1depth_name': '광주',\n",
       "    'region_2depth_name': '광산구',\n",
       "    'region_3depth_h_name': '어룡동',\n",
       "    'region_3depth_name': '소촌동',\n",
       "    'sub_address_no': '',\n",
       "    'x': '126.79600938096',\n",
       "    'y': '35.1585158999773'},\n",
       "   'address_name': '광주 광산구 소촌로152번길 37',\n",
       "   'address_type': 'ROAD_ADDR',\n",
       "   'road_address': {'address_name': '광주 광산구 소촌로152번길 37',\n",
       "    'building_name': '광주인력개발원',\n",
       "    'main_building_no': '37',\n",
       "    'region_1depth_name': '광주',\n",
       "    'region_2depth_name': '광산구',\n",
       "    'region_3depth_name': '소촌동',\n",
       "    'road_name': '소촌로152번길',\n",
       "    'sub_building_no': '',\n",
       "    'underground_yn': 'N',\n",
       "    'x': '126.79600938096',\n",
       "    'y': '35.1585158999773',\n",
       "    'zone_no': '62383'},\n",
       "   'x': '126.79600938096',\n",
       "   'y': '35.1585158999773'}],\n",
       " 'meta': {'is_end': True, 'pageable_count': 1, 'total_count': 1}}"
      ]
     },
     "execution_count": 18,
     "metadata": {},
     "output_type": "execute_result"
    }
   ],
   "source": [
    "url = 'https://dapi.kakao.com/v2/local/search/address.json?query=광주광역시 광산구 소촌로152번길 37'\n",
    "# header = {'Authorization': 'KakaoAK ${REST_API_KEY}'}\n",
    "# f 포맷 방법을 사용 -> 앞에 f 붙이고 뒤에 $ 지우기\n",
    "header = {'Authorization': f'KakaoAK {REST_API_KEY}'}\n",
    "r = requests.get(url, headers=header)\n",
    "jsondata = r.json()\n",
    "jsondata"
   ]
  },
  {
   "cell_type": "code",
   "execution_count": 19,
   "id": "73ea0415-60f7-4900-99cc-507b061d0f14",
   "metadata": {
    "tags": []
   },
   "outputs": [
    {
     "data": {
      "text/plain": [
       "('126.79600938096', '126.79600938096')"
      ]
     },
     "execution_count": 19,
     "metadata": {},
     "output_type": "execute_result"
    }
   ],
   "source": [
    "url = 'https://dapi.kakao.com/v2/local/search/address.json?query=광주광역시 광산구 소촌로152번길 37'\n",
    "# header = {'Authorization': 'KakaoAK ${REST_API_KEY}'}\n",
    "# f 포맷 방법을 사용 -> 앞에 f 붙이고 뒤에 $ 지우기\n",
    "header = {'Authorization': f'KakaoAK {REST_API_KEY}'}\n",
    "r = requests.get(url, headers=header)\n",
    "jsondata = r.json()\n",
    "jsondata['documents'][0]['address']['x'], jsondata['documents'][0]['address']['x']"
   ]
  },
  {
   "cell_type": "code",
   "execution_count": 30,
   "id": "c1d78aae-26a3-470f-b98e-26e3aa3f9606",
   "metadata": {},
   "outputs": [
    {
     "data": {
      "text/plain": [
       "('35.1585158999773', '126.79600938096')"
      ]
     },
     "execution_count": 30,
     "metadata": {},
     "output_type": "execute_result"
    }
   ],
   "source": [
    "query = '광주광역시 광산구 소촌로152번길 37'\n",
    "# f 포맷 이용하기\n",
    "url = f'https://dapi.kakao.com/v2/local/search/address.json?query={query}'\n",
    "# header = {'Authorization': 'KakaoAK ${REST_API_KEY}'}\n",
    "# f 포맷 방법을 사용 -> 앞에 f 붙이고 뒤에 $ 지우기\n",
    "header = {'Authorization': f'KakaoAK {REST_API_KEY}'}\n",
    "r = requests.get(url, headers=header)\n",
    "jsondata = r.json()\n",
    "jsondata['documents'][0]['address']['y'], jsondata['documents'][0]['address']['x']"
   ]
  },
  {
   "cell_type": "code",
   "execution_count": 31,
   "id": "2f90aee2-2f53-442d-92b5-8453238d3bf2",
   "metadata": {},
   "outputs": [],
   "source": [
    "# 서울 강남구 삼성동 20km 반경에서 카카오프렌즈 매장 검색"
   ]
  },
  {
   "cell_type": "code",
   "execution_count": 32,
   "id": "11646c9b-7fb4-4a49-8807-87a348cc8b15",
   "metadata": {},
   "outputs": [],
   "source": [
    "#curl -v -X GET \"https://dapi.kakao.com/v2/local/search/keyword.json?y=37.514322572335935&x=127.06283102249932&radius=20000\" \\\n",
    "#  -H \"Authorization: KakaoAK ${REST_API_KEY}\" \\\n",
    "#  --data-urlencode \"query=카카오프렌즈\" "
   ]
  },
  {
   "cell_type": "code",
   "execution_count": 33,
   "id": "ab4d7005-1b18-431e-b88f-58a53b5cdf1a",
   "metadata": {
    "collapsed": true,
    "jupyter": {
     "outputs_hidden": true
    },
    "tags": []
   },
   "outputs": [
    {
     "data": {
      "text/plain": [
       "{'documents': [{'address_name': '서울 강남구 삼성동 159',\n",
       "   'category_group_code': '',\n",
       "   'category_group_name': '',\n",
       "   'category_name': '가정,생활 > 문구,사무용품 > 디자인문구 > 카카오프렌즈',\n",
       "   'distance': '418',\n",
       "   'id': '26338954',\n",
       "   'phone': '02-6002-1880',\n",
       "   'place_name': '카카오프렌즈 스타필드 코엑스몰점',\n",
       "   'place_url': 'http://place.map.kakao.com/26338954',\n",
       "   'road_address_name': '서울 강남구 영동대로 513',\n",
       "   'x': '127.059028716089',\n",
       "   'y': '37.5120756277877'},\n",
       "  {'address_name': '서울 서초구 서초동 1305-7',\n",
       "   'category_group_code': '',\n",
       "   'category_group_name': '',\n",
       "   'category_name': '가정,생활 > 문구,사무용품 > 디자인문구 > 카카오프렌즈',\n",
       "   'distance': '3596',\n",
       "   'id': '653245473',\n",
       "   'phone': '02-6494-1100',\n",
       "   'place_name': '카카오프렌즈 강남플래그십스토어',\n",
       "   'place_url': 'http://place.map.kakao.com/653245473',\n",
       "   'road_address_name': '서울 서초구 강남대로 429',\n",
       "   'x': '127.025811882515',\n",
       "   'y': '37.5008934694709'},\n",
       "  {'address_name': '서울 송파구 신천동 29',\n",
       "   'category_group_code': '',\n",
       "   'category_group_name': '',\n",
       "   'category_name': '가정,생활 > 문구,사무용품 > 디자인문구 > 카카오프렌즈',\n",
       "   'distance': '3679',\n",
       "   'id': '27375630',\n",
       "   'phone': '02-3213-4514',\n",
       "   'place_name': '카카오프렌즈 롯데월드몰 잠실점',\n",
       "   'place_url': 'http://place.map.kakao.com/27375630',\n",
       "   'road_address_name': '서울 송파구 올림픽로 300',\n",
       "   'x': '127.104446099818',\n",
       "   'y': '37.5137525026039'},\n",
       "  {'address_name': '서울 중구 남대문로2가 123',\n",
       "   'category_group_code': '',\n",
       "   'category_group_name': '',\n",
       "   'category_name': '가정,생활 > 문구,사무용품 > 디자인문구 > 카카오프렌즈',\n",
       "   'distance': '9014',\n",
       "   'id': '1044004404',\n",
       "   'phone': '02-2118-5150',\n",
       "   'place_name': '카카오프렌즈 롯데영플라자명동점',\n",
       "   'place_url': 'http://place.map.kakao.com/1044004404',\n",
       "   'road_address_name': '서울 중구 남대문로 67',\n",
       "   'x': '126.981682046205',\n",
       "   'y': '37.5635252637636'},\n",
       "  {'address_name': '서울 용산구 한강로3가 40-999',\n",
       "   'category_group_code': '',\n",
       "   'category_group_name': '',\n",
       "   'category_name': '가정,생활 > 문구,사무용품 > 디자인문구 > 카카오프렌즈',\n",
       "   'distance': '8853',\n",
       "   'id': '63582914',\n",
       "   'phone': '010-2897-6546',\n",
       "   'place_name': '카카오프렌즈 용산역 팝업스토어',\n",
       "   'place_url': 'http://place.map.kakao.com/63582914',\n",
       "   'road_address_name': '서울 용산구 한강대로23길 55',\n",
       "   'x': '126.96457755024218',\n",
       "   'y': '37.529816802466584'},\n",
       "  {'address_name': '서울 중구 충무로1가 52-5',\n",
       "   'category_group_code': '',\n",
       "   'category_group_name': '',\n",
       "   'category_name': '가정,생활 > 문구,사무용품 > 디자인문구 > 카카오프렌즈',\n",
       "   'distance': '8887',\n",
       "   'id': '1777071768',\n",
       "   'phone': '02-6370-4278',\n",
       "   'place_name': '카카오프렌즈 신세계면세 명동점',\n",
       "   'place_url': 'http://place.map.kakao.com/1777071768',\n",
       "   'road_address_name': '서울 중구 소공로 63',\n",
       "   'x': '126.981089600579',\n",
       "   'y': '37.5609663400347'},\n",
       "  {'address_name': '서울 중구 봉래동2가 122-11',\n",
       "   'category_group_code': '',\n",
       "   'category_group_name': '',\n",
       "   'category_name': '가정,생활 > 문구,사무용품 > 디자인문구 > 카카오프렌즈',\n",
       "   'distance': '9302',\n",
       "   'id': '1256445945',\n",
       "   'phone': '010-2743-6546',\n",
       "   'place_name': '카카오프렌즈 서울역점',\n",
       "   'place_url': 'http://place.map.kakao.com/1256445945',\n",
       "   'road_address_name': '서울 중구 한강대로 405',\n",
       "   'x': '126.970586543568',\n",
       "   'y': '37.5546860417757'},\n",
       "  {'address_name': '서울 마포구 동교동 165-5',\n",
       "   'category_group_code': '',\n",
       "   'category_group_name': '',\n",
       "   'category_name': '가정,생활 > 문구,사무용품 > 디자인문구 > 카카오프렌즈',\n",
       "   'distance': '13132',\n",
       "   'id': '1786432255',\n",
       "   'phone': '02-6010-0104',\n",
       "   'place_name': '카카오프렌즈 홍대플래그십스토어',\n",
       "   'place_url': 'http://place.map.kakao.com/1786432255',\n",
       "   'road_address_name': '서울 마포구 양화로 162',\n",
       "   'x': '126.923919460392',\n",
       "   'y': '37.5563194254356'},\n",
       "  {'address_name': '서울 영등포구 영등포동4가 442',\n",
       "   'category_group_code': '',\n",
       "   'category_group_name': '',\n",
       "   'category_name': '가정,생활 > 문구,사무용품 > 디자인문구 > 카카오프렌즈',\n",
       "   'distance': '14128',\n",
       "   'id': '1411970905',\n",
       "   'phone': '02-2638-2750',\n",
       "   'place_name': '카카오프렌즈 타임스퀘어점',\n",
       "   'place_url': 'http://place.map.kakao.com/1411970905',\n",
       "   'road_address_name': '서울 영등포구 영중로 15',\n",
       "   'x': '126.90306008669398',\n",
       "   'y': '37.51710703022398'},\n",
       "  {'address_name': '경기 성남시 분당구 백현동 532',\n",
       "   'category_group_code': '',\n",
       "   'category_group_name': '',\n",
       "   'category_name': '가정,생활 > 문구,사무용품 > 디자인문구 > 카카오프렌즈',\n",
       "   'distance': '13814',\n",
       "   'id': '143299114',\n",
       "   'phone': '031-601-7225',\n",
       "   'place_name': '카카오프렌즈 판교아지트점',\n",
       "   'place_url': 'http://place.map.kakao.com/143299114',\n",
       "   'road_address_name': '경기 성남시 분당구 판교역로 166',\n",
       "   'x': '127.11011277516864',\n",
       "   'y': '37.395696683829094'},\n",
       "  {'address_name': '서울 마포구 동교동 165-5',\n",
       "   'category_group_code': '',\n",
       "   'category_group_name': '',\n",
       "   'category_name': '가정,생활 > 문구,사무용품 > 디자인문구 > 카카오프렌즈',\n",
       "   'distance': '13141',\n",
       "   'id': '1021339493',\n",
       "   'phone': '',\n",
       "   'place_name': '카카오프렌즈 홍대팩토리스토어',\n",
       "   'place_url': 'http://place.map.kakao.com/1021339493',\n",
       "   'road_address_name': '서울 마포구 양화로 162',\n",
       "   'x': '126.92385033954983',\n",
       "   'y': '37.55640227262816'},\n",
       "  {'address_name': '경기 고양시 덕양구 향동동 473',\n",
       "   'category_group_code': '',\n",
       "   'category_group_name': '',\n",
       "   'category_name': '스포츠,레저 > 골프 > 골프연습장 > 스크린골프연습장',\n",
       "   'distance': '17933',\n",
       "   'id': '1877255135',\n",
       "   'phone': '02-3158-4200',\n",
       "   'place_name': '카카오골프 프렌즈아카데미&스크린 향동점',\n",
       "   'place_url': 'http://place.map.kakao.com/1877255135',\n",
       "   'road_address_name': '경기 고양시 덕양구 꽃마을로 42',\n",
       "   'x': '126.89147999334304',\n",
       "   'y': '37.600932897468155'},\n",
       "  {'address_name': '경기 성남시 중원구 상대원동 138-7',\n",
       "   'category_group_code': '',\n",
       "   'category_group_name': '',\n",
       "   'category_name': '스포츠,레저 > 골프 > 골프연습장 > 스크린골프연습장',\n",
       "   'distance': '12985',\n",
       "   'id': '1725581678',\n",
       "   'phone': '031-745-3456',\n",
       "   'place_name': '카카오프렌즈 스크린골프',\n",
       "   'place_url': 'http://place.map.kakao.com/1725581678',\n",
       "   'road_address_name': '경기 성남시 중원구 사기막골로 111',\n",
       "   'x': '127.175204179706',\n",
       "   'y': '37.4390381953571'},\n",
       "  {'address_name': '경기 하남시 미사동 237-9',\n",
       "   'category_group_code': '',\n",
       "   'category_group_name': '',\n",
       "   'category_name': '스포츠,레저 > 스포츠용품 > 골프용품',\n",
       "   'distance': '13874',\n",
       "   'id': '752591300',\n",
       "   'phone': '',\n",
       "   'place_name': '카카오프렌즈골프 아지트in하남',\n",
       "   'place_url': 'http://place.map.kakao.com/752591300',\n",
       "   'road_address_name': '경기 하남시 미사동로40번길 113',\n",
       "   'x': '127.205387165474',\n",
       "   'y': '37.566677211206'},\n",
       "  {'address_name': '경기 성남시 분당구 삼평동 681',\n",
       "   'category_group_code': '',\n",
       "   'category_group_name': '',\n",
       "   'category_name': '스포츠,레저 > 골프 > 골프연습장 > 스크린골프연습장',\n",
       "   'distance': '13101',\n",
       "   'id': '245183397',\n",
       "   'phone': '031-778-6806',\n",
       "   'place_name': '프렌즈 스크린 판교',\n",
       "   'place_url': 'http://place.map.kakao.com/245183397',\n",
       "   'road_address_name': '경기 성남시 분당구 판교역로 235',\n",
       "   'x': '127.10863915834963',\n",
       "   'y': '37.40206286030239'}],\n",
       " 'meta': {'is_end': False,\n",
       "  'pageable_count': 22,\n",
       "  'same_name': {'keyword': '카카오프렌즈', 'region': [], 'selected_region': ''},\n",
       "  'total_count': 22}}"
      ]
     },
     "execution_count": 33,
     "metadata": {},
     "output_type": "execute_result"
    }
   ],
   "source": [
    "query = '카카오프렌즈'\n",
    "x = 127.06283102249932\n",
    "y = 37.514322572335935\n",
    "radius = 20000\n",
    "url = f'https://dapi.kakao.com/v2/local/search/keyword.json?y={y}&x={x}&radius={radius}&query={query}'\n",
    "header = {'Authorization': f'KakaoAK {REST_API_KEY}'}\n",
    "r = requests.get(url, headers=header)\n",
    "jsondata = r.json()\n",
    "jsondata"
   ]
  },
  {
   "cell_type": "code",
   "execution_count": 36,
   "id": "8331e398-67c0-4ef5-a3fb-314bfdff2105",
   "metadata": {
    "collapsed": true,
    "jupyter": {
     "outputs_hidden": true
    },
    "tags": []
   },
   "outputs": [
    {
     "data": {
      "text/plain": [
       "{'documents': [{'address_name': '광주 광산구 소촌동 752-6',\n",
       "   'category_group_code': 'PM9',\n",
       "   'category_group_name': '약국',\n",
       "   'category_name': '의료,건강 > 약국',\n",
       "   'distance': '329',\n",
       "   'id': '8870859',\n",
       "   'phone': '062-941-7975',\n",
       "   'place_name': '대명당약국',\n",
       "   'place_url': 'http://place.map.kakao.com/8870859',\n",
       "   'road_address_name': '광주 광산구 소촌로 146',\n",
       "   'x': '126.792293086965',\n",
       "   'y': '35.157474736868'},\n",
       "  {'address_name': '광주 광산구 소촌동 185',\n",
       "   'category_group_code': 'PM9',\n",
       "   'category_group_name': '약국',\n",
       "   'category_name': '의료,건강 > 약국',\n",
       "   'distance': '416',\n",
       "   'id': '26037849',\n",
       "   'phone': '',\n",
       "   'place_name': '디엠바이오',\n",
       "   'place_url': 'http://place.map.kakao.com/26037849',\n",
       "   'road_address_name': '광주 광산구 용아로 143',\n",
       "   'x': '126.799645167694',\n",
       "   'y': '35.1562612706407'},\n",
       "  {'address_name': '광주 광산구 우산동 1575-1',\n",
       "   'category_group_code': 'PM9',\n",
       "   'category_group_name': '약국',\n",
       "   'category_name': '의료,건강 > 약국',\n",
       "   'distance': '860',\n",
       "   'id': '173275069',\n",
       "   'phone': '062-962-0166',\n",
       "   'place_name': '글래스팜대학약국',\n",
       "   'place_url': 'http://place.map.kakao.com/173275069',\n",
       "   'road_address_name': '광주 광산구 용아로 234',\n",
       "   'x': '126.802181524052',\n",
       "   'y': '35.1639737600791'},\n",
       "  {'address_name': '광주 광산구 우산동 1604-2',\n",
       "   'category_group_code': 'PM9',\n",
       "   'category_group_name': '약국',\n",
       "   'category_name': '의료,건강 > 약국',\n",
       "   'distance': '863',\n",
       "   'id': '9226769',\n",
       "   'phone': '062-944-8495',\n",
       "   'place_name': '에덴약국',\n",
       "   'place_url': 'http://place.map.kakao.com/9226769',\n",
       "   'road_address_name': '광주 광산구 사암로171번길 52',\n",
       "   'x': '126.804991909506',\n",
       "   'y': '35.1600989636393'},\n",
       "  {'address_name': '광주 광산구 우산동 1573-6',\n",
       "   'category_group_code': 'PM9',\n",
       "   'category_group_name': '약국',\n",
       "   'category_name': '의료,건강 > 약국',\n",
       "   'distance': '936',\n",
       "   'id': '26583809',\n",
       "   'phone': '062-531-6123',\n",
       "   'place_name': '우리동네온누리약국',\n",
       "   'place_url': 'http://place.map.kakao.com/26583809',\n",
       "   'road_address_name': '광주 광산구 사암로215번길 85',\n",
       "   'x': '126.803494572011',\n",
       "   'y': '35.1638534025418'},\n",
       "  {'address_name': '광주 광산구 산정동 143-21',\n",
       "   'category_group_code': 'PM9',\n",
       "   'category_group_name': '약국',\n",
       "   'category_name': '의료,건강 > 약국',\n",
       "   'distance': '1025',\n",
       "   'id': '99474834',\n",
       "   'phone': '062-952-2092',\n",
       "   'place_name': '종로당온누리약국',\n",
       "   'place_url': 'http://place.map.kakao.com/99474834',\n",
       "   'road_address_name': '광주 광산구 용아로 257',\n",
       "   'x': '126.80152187656707',\n",
       "   'y': '35.16622255848864'},\n",
       "  {'address_name': '광주 광산구 우산동 1571-1',\n",
       "   'category_group_code': 'PM9',\n",
       "   'category_group_name': '약국',\n",
       "   'category_name': '의료,건강 > 약국',\n",
       "   'distance': '1017',\n",
       "   'id': '9791681',\n",
       "   'phone': '062-951-9987',\n",
       "   'place_name': '빛고을약국',\n",
       "   'place_url': 'http://place.map.kakao.com/9791681',\n",
       "   'road_address_name': '광주 광산구 월곡산정로 12',\n",
       "   'x': '126.80421467253548',\n",
       "   'y': '35.16428631854358'},\n",
       "  {'address_name': '광주 광산구 우산동 1578-3',\n",
       "   'category_group_code': 'PM9',\n",
       "   'category_group_name': '약국',\n",
       "   'category_name': '의료,건강 > 약국',\n",
       "   'distance': '1065',\n",
       "   'id': '27304117',\n",
       "   'phone': '062-266-5431',\n",
       "   'place_name': '동인약국',\n",
       "   'place_url': 'http://place.map.kakao.com/27304117',\n",
       "   'road_address_name': '광주 광산구 사암로215번길 51',\n",
       "   'x': '126.805479581028',\n",
       "   'y': '35.1636402802552'},\n",
       "  {'address_name': '광주 광산구 우산동 1582-1',\n",
       "   'category_group_code': 'PM9',\n",
       "   'category_group_name': '약국',\n",
       "   'category_name': '의료,건강 > 약국',\n",
       "   'distance': '1247',\n",
       "   'id': '425227884',\n",
       "   'phone': '062-955-5652',\n",
       "   'place_name': '건강약국',\n",
       "   'place_url': 'http://place.map.kakao.com/425227884',\n",
       "   'road_address_name': '광주 광산구 사암로 211',\n",
       "   'x': '126.807987179116',\n",
       "   'y': '35.16337026794'},\n",
       "  {'address_name': '광주 광산구 산정동 1010',\n",
       "   'category_group_code': 'PM9',\n",
       "   'category_group_name': '약국',\n",
       "   'category_name': '의료,건강 > 약국',\n",
       "   'distance': '1085',\n",
       "   'id': '272154380',\n",
       "   'phone': '062-953-0250',\n",
       "   'place_name': '한마음약국',\n",
       "   'place_url': 'http://place.map.kakao.com/272154380',\n",
       "   'road_address_name': '광주 광산구 손재로 1',\n",
       "   'x': '126.801392791676',\n",
       "   'y': '35.1669000771296'},\n",
       "  {'address_name': '광주 광산구 우산동 1571-1',\n",
       "   'category_group_code': 'PM9',\n",
       "   'category_group_name': '약국',\n",
       "   'category_name': '의료,건강 > 약국',\n",
       "   'distance': '1120',\n",
       "   'id': '9443595',\n",
       "   'phone': '062-951-3344',\n",
       "   'place_name': '진달래약국',\n",
       "   'place_url': 'http://place.map.kakao.com/9443595',\n",
       "   'road_address_name': '광주 광산구 월곡산정로 12',\n",
       "   'x': '126.80326039791',\n",
       "   'y': '35.1662902920269'},\n",
       "  {'address_name': '광주 광산구 우산동 1579-1',\n",
       "   'category_group_code': 'PM9',\n",
       "   'category_group_name': '약국',\n",
       "   'category_name': '의료,건강 > 약국',\n",
       "   'distance': '1131',\n",
       "   'id': '950290210',\n",
       "   'phone': '062-962-7876',\n",
       "   'place_name': '밝은명약국',\n",
       "   'place_url': 'http://place.map.kakao.com/950290210',\n",
       "   'road_address_name': '광주 광산구 사암로215번길 35',\n",
       "   'x': '126.80638855196042',\n",
       "   'y': '35.16358044402019'},\n",
       "  {'address_name': '광주 광산구 월곡동 612-24',\n",
       "   'category_group_code': 'PM9',\n",
       "   'category_group_name': '약국',\n",
       "   'category_name': '의료,건강 > 약국',\n",
       "   'distance': '1622',\n",
       "   'id': '9005522',\n",
       "   'phone': '062-951-2388',\n",
       "   'place_name': '무등약국',\n",
       "   'place_url': 'http://place.map.kakao.com/9005522',\n",
       "   'road_address_name': '광주 광산구 월곡산정로 79',\n",
       "   'x': '126.81077523606876',\n",
       "   'y': '35.166165256816214'},\n",
       "  {'address_name': '광주 광산구 우산동 1598-3',\n",
       "   'category_group_code': 'PM9',\n",
       "   'category_group_name': '약국',\n",
       "   'category_name': '의료,건강 > 약국',\n",
       "   'distance': '1187',\n",
       "   'id': '13544635',\n",
       "   'phone': '062-946-2520',\n",
       "   'place_name': '기쁨약국',\n",
       "   'place_url': 'http://place.map.kakao.com/13544635',\n",
       "   'road_address_name': '광주 광산구 사암로 172',\n",
       "   'x': '126.808622614001',\n",
       "   'y': '35.160126385771'},\n",
       "  {'address_name': '광주 광산구 우산동 1363-14',\n",
       "   'category_group_code': 'PM9',\n",
       "   'category_group_name': '약국',\n",
       "   'category_name': '의료,건강 > 약국',\n",
       "   'distance': '1634',\n",
       "   'id': '2008323971',\n",
       "   'phone': '062-959-1205',\n",
       "   'place_name': '약국산책',\n",
       "   'place_url': 'http://place.map.kakao.com/2008323971',\n",
       "   'road_address_name': '광주 광산구 풍영철길로 20-6',\n",
       "   'x': '126.812853118058',\n",
       "   'y': '35.1628010135645'}],\n",
       " 'meta': {'is_end': False,\n",
       "  'pageable_count': 41,\n",
       "  'same_name': {'keyword': '약국', 'region': [], 'selected_region': ''},\n",
       "  'total_count': 41}}"
      ]
     },
     "execution_count": 36,
     "metadata": {},
     "output_type": "execute_result"
    }
   ],
   "source": [
    "# 광주인력개발원을 기준으로 주변 2km 근방 약국 찾아보기\n",
    "query = '약국'\n",
    "x = 126.795781369881\n",
    "y = 35.158271150000004\n",
    "radius = 2000\n",
    "code = 'PM9'\n",
    "url = f'https://dapi.kakao.com/v2/local/search/keyword.json?y={y}&x={x}&radius={radius}&query={query}&category_group_code={code}'\n",
    "header = {'Authorization': f'KakaoAK {REST_API_KEY}'}\n",
    "r = requests.get(url, headers=header)\n",
    "jsondata = r.json()\n",
    "jsondata"
   ]
  },
  {
   "cell_type": "code",
   "execution_count": null,
   "id": "adb1e361-55a2-4adb-ae8a-46b73f77e62b",
   "metadata": {},
   "outputs": [],
   "source": []
  }
 ],
 "metadata": {
  "kernelspec": {
   "display_name": "Python 3 (ipykernel)",
   "language": "python",
   "name": "python3"
  },
  "language_info": {
   "codemirror_mode": {
    "name": "ipython",
    "version": 3
   },
   "file_extension": ".py",
   "mimetype": "text/x-python",
   "name": "python",
   "nbconvert_exporter": "python",
   "pygments_lexer": "ipython3",
   "version": "3.10.10"
  }
 },
 "nbformat": 4,
 "nbformat_minor": 5
}
