{
 "cells": [
  {
   "cell_type": "markdown",
   "id": "f146bb9e-1320-4927-9814-d55fcea2f423",
   "metadata": {},
   "source": [
    "# 필요한 셀은 추가해서 작성하시면 됩니다.\n",
    "###### https://github.com/vuski/admdongkor/tree/master/ver20230101/HangJeongDong_ver20230101.geojson 파일 다운로드 사용"
   ]
  },
  {
   "cell_type": "code",
   "execution_count": null,
   "id": "95830af2-1139-4656-bf76-9407eeb645e2",
   "metadata": {},
   "outputs": [],
   "source": [
    "import warnings\n",
    "warnings.filterwarnings('ignore')"
   ]
  },
  {
   "cell_type": "markdown",
   "id": "2d5aa5f8-3eeb-49b7-8c62-7a08fbb46acb",
   "metadata": {},
   "source": [
    "### 1. 202302_202302_주민등록인구및세대현황_월간.csv를 가지고 와서 'data'라는 이름의 데이터 프레임으로 작성하고 5개만 확인합니다."
   ]
  },
  {
   "cell_type": "code",
   "execution_count": null,
   "id": "ea4eb284-3914-4a97-bfda-6d1639d1dd57",
   "metadata": {
    "tags": []
   },
   "outputs": [],
   "source": []
  },
  {
   "cell_type": "code",
   "execution_count": null,
   "id": "73237bb8-6d4b-4b6f-9081-dc8a68b2d211",
   "metadata": {},
   "outputs": [],
   "source": []
  },
  {
   "cell_type": "code",
   "execution_count": null,
   "id": "ab41f812-c6cd-43b7-8965-b3d084a006ba",
   "metadata": {},
   "outputs": [],
   "source": []
  },
  {
   "cell_type": "markdown",
   "id": "59d1eef0-ff3d-4e42-8219-7bd0d60ff1fe",
   "metadata": {},
   "source": [
    "### 2. '행정구역'컬럼을 행정구역명과 행정기관코드로 분리하여 'data' 데이터 프레임에 '행정구역' 컬럼에 행정구역명만 저장하고 5개의 데이터만 확인합니다."
   ]
  },
  {
   "cell_type": "code",
   "execution_count": null,
   "id": "131ed028-2e54-4170-bbab-1ede1830fa99",
   "metadata": {},
   "outputs": [],
   "source": []
  },
  {
   "cell_type": "code",
   "execution_count": null,
   "id": "bcc51492-85fe-43ac-a263-b85c65bbf048",
   "metadata": {},
   "outputs": [],
   "source": []
  },
  {
   "cell_type": "markdown",
   "id": "deb3e798-0c28-4033-b386-c4dc3e3e3abb",
   "metadata": {
    "tags": []
   },
   "source": [
    "### 3. 'data' 데이터 프레임의 컬럼명을 행정구역, 총인구수, 세대수, 세대당인구, 남자, 여자, 남녀비율 로 변경하고 'data'데이터 프레임의 정보를 확인합니다."
   ]
  },
  {
   "cell_type": "code",
   "execution_count": null,
   "id": "51ffc490-40e0-43c2-a716-6add1cb02b25",
   "metadata": {},
   "outputs": [],
   "source": []
  },
  {
   "cell_type": "code",
   "execution_count": null,
   "id": "dc82c6c7-986b-44e3-8726-3662711b9a9b",
   "metadata": {},
   "outputs": [],
   "source": []
  },
  {
   "cell_type": "markdown",
   "id": "dfd7ad84-1153-4bec-9a1b-79e0a010568a",
   "metadata": {},
   "source": [
    "### 4. 남녀비율 컬럼을 제거하고 'data' 데이터프레임 정보를 확인합니다."
   ]
  },
  {
   "cell_type": "code",
   "execution_count": null,
   "id": "d3cbdf56-cef2-4106-9815-e04866a9764f",
   "metadata": {},
   "outputs": [],
   "source": []
  },
  {
   "cell_type": "code",
   "execution_count": null,
   "id": "0508cede-209f-4a2b-b807-ea01a5178a27",
   "metadata": {},
   "outputs": [],
   "source": []
  },
  {
   "cell_type": "markdown",
   "id": "147b443f-a476-49ce-b013-25f366b663d0",
   "metadata": {},
   "source": [
    "### 5. 행정구역 컬럼의 ‘(’ ‘)’를 제거하고 시,구,동 컬럼을 만들어 분리해 넣고 부산지역의 값만 선택해서 'busan' 데이터 프레임에 저장합니다."
   ]
  },
  {
   "cell_type": "code",
   "execution_count": null,
   "id": "460978f3-d360-4a12-9028-b51fd941b567",
   "metadata": {},
   "outputs": [],
   "source": []
  },
  {
   "cell_type": "code",
   "execution_count": null,
   "id": "1be27b2a-5d0a-4918-b6ba-96baa1490159",
   "metadata": {},
   "outputs": [],
   "source": []
  },
  {
   "cell_type": "markdown",
   "id": "fd18a967-884a-42a5-a6f2-5832170de717",
   "metadata": {},
   "source": [
    "### 6. 'busan' 데이터 프레임에 NAN 값이 있다면 해당 행을 제거하고, 기존 인덱스 값은 제거하고 새로 인덱스를 부여하고 내용을 확인합니다."
   ]
  },
  {
   "cell_type": "code",
   "execution_count": null,
   "id": "67d3d975-380e-4514-8f30-88ebd70e0742",
   "metadata": {
    "tags": []
   },
   "outputs": [],
   "source": []
  },
  {
   "cell_type": "markdown",
   "id": "96a2cab9-acee-444f-8da4-829af5c43616",
   "metadata": {},
   "source": [
    "### 7. 총인구수, 남자, 여자 컬럼의 데이타 타입을 정수형으로 변경하고 변경내용을 확인합니다."
   ]
  },
  {
   "cell_type": "code",
   "execution_count": null,
   "id": "ba6210ba-7d87-44d2-bafe-ff5bdf93ec14",
   "metadata": {},
   "outputs": [],
   "source": []
  },
  {
   "cell_type": "code",
   "execution_count": null,
   "id": "54d88708-b438-4569-b518-0a3ba8d4e831",
   "metadata": {},
   "outputs": [],
   "source": []
  },
  {
   "cell_type": "markdown",
   "id": "55b9bfcb-030a-4f7c-9da6-ab98f7ec7048",
   "metadata": {},
   "source": [
    "### 8. 구별로 부산 인구를 차트로 표시합니다.(인구순 5개만)"
   ]
  },
  {
   "cell_type": "code",
   "execution_count": null,
   "id": "aa2478c9-6a94-46f8-a919-60ef9ef61cae",
   "metadata": {},
   "outputs": [],
   "source": []
  },
  {
   "cell_type": "code",
   "execution_count": null,
   "id": "c1d0613e-2634-4fe7-bbb0-fa42553ecdd5",
   "metadata": {},
   "outputs": [],
   "source": []
  },
  {
   "cell_type": "markdown",
   "id": "994596b4-fd36-469c-9d1a-c97d74928252",
   "metadata": {},
   "source": [
    "### 9. 동별로 부산 인구를 차트로 표시합니다.(인구순 5개만)"
   ]
  },
  {
   "cell_type": "code",
   "execution_count": null,
   "id": "42d6b4b3-1916-4b0f-ba5b-5d995830dcfd",
   "metadata": {
    "tags": []
   },
   "outputs": [],
   "source": []
  },
  {
   "cell_type": "code",
   "execution_count": null,
   "id": "66cd7f2f-ae5f-4ab6-98d2-444139a81848",
   "metadata": {},
   "outputs": [],
   "source": []
  },
  {
   "cell_type": "markdown",
   "id": "63d84d92-2891-4c01-84e1-23a2a7d6a3eb",
   "metadata": {},
   "source": [
    "### 10. Choropleth, geojson 등을 이용하여 동별 인구수를 색상별로 지도에 나타내시오"
   ]
  },
  {
   "cell_type": "code",
   "execution_count": null,
   "id": "16619904-7423-4009-bb9a-e4c6ec3675d2",
   "metadata": {
    "tags": []
   },
   "outputs": [],
   "source": []
  },
  {
   "cell_type": "code",
   "execution_count": null,
   "id": "46826e8a-5119-4816-b534-f9b9bb07e2fa",
   "metadata": {},
   "outputs": [],
   "source": []
  },
  {
   "cell_type": "code",
   "execution_count": null,
   "id": "9c7da872-d4fd-40ed-b102-e91d15792e35",
   "metadata": {},
   "outputs": [],
   "source": []
  }
 ],
 "metadata": {
  "kernelspec": {
   "display_name": "Python 3 (ipykernel)",
   "language": "python",
   "name": "python3"
  },
  "language_info": {
   "codemirror_mode": {
    "name": "ipython",
    "version": 3
   },
   "file_extension": ".py",
   "mimetype": "text/x-python",
   "name": "python",
   "nbconvert_exporter": "python",
   "pygments_lexer": "ipython3",
   "version": "3.9.15"
  }
 },
 "nbformat": 4,
 "nbformat_minor": 5
}
