{
 "cells": [
  {
   "cell_type": "markdown",
   "id": "18fbc738-ae4b-41a0-bfb8-4fe09507f6f9",
   "metadata": {},
   "source": [
    "### Data Wrangling Test"
   ]
  },
  {
   "cell_type": "code",
   "execution_count": 1,
   "id": "171fae8b-1f71-41df-a05d-8970863698b6",
   "metadata": {},
   "outputs": [],
   "source": [
    "import warnings\n",
    "warnings.filterwarnings('ignore')"
   ]
  },
  {
   "cell_type": "markdown",
   "id": "073958a0-ef2a-4da6-baaf-139a82551327",
   "metadata": {},
   "source": [
    "### 1. 202302_202302_주민등록인구및세대현황_월간.csv를 가지고 와서 'data'라는 이름의 데이터 프레임으로 작성하고 5개만 확인합니다."
   ]
  },
  {
   "cell_type": "code",
   "execution_count": 2,
   "id": "aa7767dd-c5ef-452b-96a1-676407fda6e2",
   "metadata": {},
   "outputs": [],
   "source": [
    "import pandas as pd\n",
    "import numpy as np"
   ]
  },
  {
   "cell_type": "code",
   "execution_count": 3,
   "id": "61136701-865b-4428-acaa-7a53796dfabe",
   "metadata": {},
   "outputs": [],
   "source": [
    "data = pd.read_csv('202302_202302_주민등록인구및세대현황_월간.csv', encoding='cp949')"
   ]
  },
  {
   "cell_type": "code",
   "execution_count": 4,
   "id": "7743cde1-5fc3-42dd-909d-b761f2ec46b4",
   "metadata": {},
   "outputs": [
    {
     "data": {
      "text/html": [
       "<div>\n",
       "<style scoped>\n",
       "    .dataframe tbody tr th:only-of-type {\n",
       "        vertical-align: middle;\n",
       "    }\n",
       "\n",
       "    .dataframe tbody tr th {\n",
       "        vertical-align: top;\n",
       "    }\n",
       "\n",
       "    .dataframe thead th {\n",
       "        text-align: right;\n",
       "    }\n",
       "</style>\n",
       "<table border=\"1\" class=\"dataframe\">\n",
       "  <thead>\n",
       "    <tr style=\"text-align: right;\">\n",
       "      <th></th>\n",
       "      <th>행정구역</th>\n",
       "      <th>2023년02월_총인구수</th>\n",
       "      <th>2023년02월_세대수</th>\n",
       "      <th>2023년02월_세대당 인구</th>\n",
       "      <th>2023년02월_남자 인구수</th>\n",
       "      <th>2023년02월_여자 인구수</th>\n",
       "      <th>2023년02월_남여 비율</th>\n",
       "    </tr>\n",
       "  </thead>\n",
       "  <tbody>\n",
       "    <tr>\n",
       "      <th>0</th>\n",
       "      <td>서울특별시  (1100000000)</td>\n",
       "      <td>9,427,583</td>\n",
       "      <td>4,457,982</td>\n",
       "      <td>2.11</td>\n",
       "      <td>4,567,957</td>\n",
       "      <td>4,859,626</td>\n",
       "      <td>0.94</td>\n",
       "    </tr>\n",
       "    <tr>\n",
       "      <th>1</th>\n",
       "      <td>서울특별시 종로구 (1111000000)</td>\n",
       "      <td>141,433</td>\n",
       "      <td>72,773</td>\n",
       "      <td>1.94</td>\n",
       "      <td>68,399</td>\n",
       "      <td>73,034</td>\n",
       "      <td>0.94</td>\n",
       "    </tr>\n",
       "    <tr>\n",
       "      <th>2</th>\n",
       "      <td>서울특별시 종로구 청운효자동(1111051500)</td>\n",
       "      <td>11,605</td>\n",
       "      <td>5,130</td>\n",
       "      <td>2.26</td>\n",
       "      <td>5,325</td>\n",
       "      <td>6,280</td>\n",
       "      <td>0.85</td>\n",
       "    </tr>\n",
       "    <tr>\n",
       "      <th>3</th>\n",
       "      <td>서울특별시 종로구 사직동(1111053000)</td>\n",
       "      <td>9,120</td>\n",
       "      <td>4,593</td>\n",
       "      <td>1.99</td>\n",
       "      <td>4,060</td>\n",
       "      <td>5,060</td>\n",
       "      <td>0.80</td>\n",
       "    </tr>\n",
       "    <tr>\n",
       "      <th>4</th>\n",
       "      <td>서울특별시 종로구 삼청동(1111054000)</td>\n",
       "      <td>2,322</td>\n",
       "      <td>1,143</td>\n",
       "      <td>2.03</td>\n",
       "      <td>1,104</td>\n",
       "      <td>1,218</td>\n",
       "      <td>0.91</td>\n",
       "    </tr>\n",
       "  </tbody>\n",
       "</table>\n",
       "</div>"
      ],
      "text/plain": [
       "                          행정구역 2023년02월_총인구수 2023년02월_세대수  2023년02월_세대당 인구  \\\n",
       "0          서울특별시  (1100000000)     9,427,583    4,457,982             2.11   \n",
       "1       서울특별시 종로구 (1111000000)       141,433       72,773             1.94   \n",
       "2  서울특별시 종로구 청운효자동(1111051500)        11,605        5,130             2.26   \n",
       "3    서울특별시 종로구 사직동(1111053000)         9,120        4,593             1.99   \n",
       "4    서울특별시 종로구 삼청동(1111054000)         2,322        1,143             2.03   \n",
       "\n",
       "  2023년02월_남자 인구수 2023년02월_여자 인구수  2023년02월_남여 비율  \n",
       "0       4,567,957       4,859,626            0.94  \n",
       "1          68,399          73,034            0.94  \n",
       "2           5,325           6,280            0.85  \n",
       "3           4,060           5,060            0.80  \n",
       "4           1,104           1,218            0.91  "
      ]
     },
     "execution_count": 4,
     "metadata": {},
     "output_type": "execute_result"
    }
   ],
   "source": [
    "# 데이터 확인\n",
    "data.head()"
   ]
  },
  {
   "cell_type": "markdown",
   "id": "0b890ec6-406c-463b-9daa-e3d805cfc3c6",
   "metadata": {},
   "source": [
    "### 2. '행정구역'컬럼을 행정구역명과 행정기관코드로 분리하여 'data' 데이터 프레임에 '행정구역' 컬럼에 행정구역명만 저장하고 5개의 데이터만 확인합니다."
   ]
  },
  {
   "cell_type": "code",
   "execution_count": 5,
   "id": "4b4d1124-4457-4616-b5e6-c56924462482",
   "metadata": {},
   "outputs": [
    {
     "data": {
      "text/plain": [
       "0                서울특별시  (1100000000)\n",
       "1             서울특별시 종로구 (1111000000)\n",
       "2        서울특별시 종로구 청운효자동(1111051500)\n",
       "3          서울특별시 종로구 사직동(1111053000)\n",
       "4          서울특별시 종로구 삼청동(1111054000)\n",
       "                    ...             \n",
       "3867    제주특별자치도 서귀포시 서홍동(5013058000)\n",
       "3868    제주특별자치도 서귀포시 대륜동(5013059000)\n",
       "3869    제주특별자치도 서귀포시 대천동(5013060000)\n",
       "3870    제주특별자치도 서귀포시 중문동(5013061000)\n",
       "3871    제주특별자치도 서귀포시 예래동(5013062000)\n",
       "Name: 행정구역, Length: 3872, dtype: object"
      ]
     },
     "execution_count": 5,
     "metadata": {},
     "output_type": "execute_result"
    }
   ],
   "source": [
    "# 원래 데이터 확인하기\n",
    "data['행정구역']"
   ]
  },
  {
   "cell_type": "code",
   "execution_count": 6,
   "id": "67614b6c-c0ab-47e9-89ad-25022c9d47ab",
   "metadata": {},
   "outputs": [
    {
     "data": {
      "text/plain": [
       "0                [서울특별시  , 1100000000)]\n",
       "1             [서울특별시 종로구 , 1111000000)]\n",
       "2        [서울특별시 종로구 청운효자동, 1111051500)]\n",
       "3          [서울특별시 종로구 사직동, 1111053000)]\n",
       "4          [서울특별시 종로구 삼청동, 1111054000)]\n",
       "                     ...               \n",
       "3867    [제주특별자치도 서귀포시 서홍동, 5013058000)]\n",
       "3868    [제주특별자치도 서귀포시 대륜동, 5013059000)]\n",
       "3869    [제주특별자치도 서귀포시 대천동, 5013060000)]\n",
       "3870    [제주특별자치도 서귀포시 중문동, 5013061000)]\n",
       "3871    [제주특별자치도 서귀포시 예래동, 5013062000)]\n",
       "Name: 행정구역, Length: 3872, dtype: object"
      ]
     },
     "execution_count": 6,
     "metadata": {},
     "output_type": "execute_result"
    }
   ],
   "source": [
    "# '행정구역'컬럼을 행정구역명과 행정기관코드로 분리\n",
    "data['행정구역'].str.split('(')"
   ]
  },
  {
   "cell_type": "code",
   "execution_count": 7,
   "id": "6c44cff0-e8a1-4b73-8f85-72b4e3a2cc4b",
   "metadata": {},
   "outputs": [
    {
     "data": {
      "text/plain": [
       "0                  서울특별시\n",
       "1              서울특별시 종로구\n",
       "2        서울특별시 종로구 청운효자동\n",
       "3          서울특별시 종로구 사직동\n",
       "4          서울특별시 종로구 삼청동\n",
       "              ...       \n",
       "3867    제주특별자치도 서귀포시 서홍동\n",
       "3868    제주특별자치도 서귀포시 대륜동\n",
       "3869    제주특별자치도 서귀포시 대천동\n",
       "3870    제주특별자치도 서귀포시 중문동\n",
       "3871    제주특별자치도 서귀포시 예래동\n",
       "Name: 행정구역, Length: 3872, dtype: object"
      ]
     },
     "execution_count": 7,
     "metadata": {},
     "output_type": "execute_result"
    }
   ],
   "source": [
    "# 행정구역명만 가져오기\n",
    "data['행정구역'].str.split('(').str[0].str.strip()\n",
    "# .str.strip()으로 공백 제거"
   ]
  },
  {
   "cell_type": "code",
   "execution_count": 10,
   "id": "3d1e08aa-ea4a-4902-a3de-d4b8fb33df6a",
   "metadata": {},
   "outputs": [],
   "source": [
    "# 분리한 결과를 '행정구역'컬럼에 저장하기\n",
    "# 정답 코드\n",
    "data['행정구역'] = data['행정구역'].str.split('(').str[0].str.strip()"
   ]
  },
  {
   "cell_type": "code",
   "execution_count": 11,
   "id": "41c480b8-8474-4ec0-857d-89459da7f4cf",
   "metadata": {},
   "outputs": [
    {
     "data": {
      "text/plain": [
       "0                  서울특별시\n",
       "1              서울특별시 종로구\n",
       "2        서울특별시 종로구 청운효자동\n",
       "3          서울특별시 종로구 사직동\n",
       "4          서울특별시 종로구 삼청동\n",
       "              ...       \n",
       "3867    제주특별자치도 서귀포시 서홍동\n",
       "3868    제주특별자치도 서귀포시 대륜동\n",
       "3869    제주특별자치도 서귀포시 대천동\n",
       "3870    제주특별자치도 서귀포시 중문동\n",
       "3871    제주특별자치도 서귀포시 예래동\n",
       "Name: 행정구역, Length: 3872, dtype: object"
      ]
     },
     "execution_count": 11,
     "metadata": {},
     "output_type": "execute_result"
    }
   ],
   "source": [
    "# 결과 확인하기\n",
    "data['행정구역']"
   ]
  },
  {
   "cell_type": "markdown",
   "id": "75a29765-5d24-4645-bdb5-20e52ab33b25",
   "metadata": {},
   "source": [
    "### 3. 'data' 데이터 프레임의 컬럼명을 행정구역, 총인구수, 세대수, 세대당인구, 남자, 여자, 남녀비율 로 변경하고 'data' 데이터 프레임의 정보를 확인합니다."
   ]
  },
  {
   "cell_type": "code",
   "execution_count": null,
   "id": "31cc7d49-5c03-498b-89d6-e4915a31c39b",
   "metadata": {},
   "outputs": [],
   "source": [
    "# 컬럼명 변경하는 방법\n",
    "# 1. data.columns = []\n",
    "# 2. data.rename(columns={'기존이름':'변경할이름'}, inplace=True)"
   ]
  },
  {
   "cell_type": "code",
   "execution_count": null,
   "id": "66fc239d-16af-4abb-be79-3e426ca5ef40",
   "metadata": {},
   "outputs": [],
   "source": [
    "# 여기에서는 컬럼명 여러 개를 바꿔야 하므로\n",
    "# 코드가 더 간단한 1번 방법을 사용하는게 좋다."
   ]
  },
  {
   "cell_type": "code",
   "execution_count": null,
   "id": "d54be632-40bf-47c5-99c1-d82cabe8cbcb",
   "metadata": {},
   "outputs": [],
   "source": []
  },
  {
   "cell_type": "code",
   "execution_count": null,
   "id": "c31c3cd0-987b-41da-86f5-4ebded58e9bd",
   "metadata": {},
   "outputs": [],
   "source": [
    "# 기존 컬럼 확인하기\n",
    "# data.columns 또는 data.info() 로 확인할 수 있다."
   ]
  },
  {
   "cell_type": "code",
   "execution_count": null,
   "id": "6ceed171-1a1a-4d4a-91be-6160ab038979",
   "metadata": {},
   "outputs": [],
   "source": [
    "data.columns"
   ]
  },
  {
   "cell_type": "code",
   "execution_count": null,
   "id": "8c53ea2c-b1b5-4133-951d-45919378f23f",
   "metadata": {},
   "outputs": [],
   "source": [
    "data.info()"
   ]
  },
  {
   "cell_type": "code",
   "execution_count": null,
   "id": "7dd67641-e650-4ba6-a253-ca9414d49d32",
   "metadata": {},
   "outputs": [],
   "source": []
  },
  {
   "cell_type": "code",
   "execution_count": null,
   "id": "cf5a5681-6844-457a-afaa-10e8231bb48b",
   "metadata": {},
   "outputs": [],
   "source": [
    "# 1번 방법"
   ]
  },
  {
   "cell_type": "code",
   "execution_count": null,
   "id": "ac2f6f59-1293-4816-8751-e60d7cc2642e",
   "metadata": {},
   "outputs": [],
   "source": [
    "data.columns = ['행정구역','총인구수','세대수','세대당인구','남자','여자','남녀비율']"
   ]
  },
  {
   "cell_type": "code",
   "execution_count": null,
   "id": "db3f5ed1-c52b-4409-a28f-e2d52380e195",
   "metadata": {},
   "outputs": [],
   "source": [
    "data.info()"
   ]
  },
  {
   "cell_type": "code",
   "execution_count": null,
   "id": "2dcf92e9-7b0e-4720-8b93-825d479fb341",
   "metadata": {},
   "outputs": [],
   "source": []
  },
  {
   "cell_type": "code",
   "execution_count": null,
   "id": "db9fa92c-7a52-4d34-a49d-3144e79c52dc",
   "metadata": {},
   "outputs": [],
   "source": [
    "# 2번 방법"
   ]
  },
  {
   "cell_type": "code",
   "execution_count": null,
   "id": "a59a8af8-e057-4fcf-8d06-192cf61b40ed",
   "metadata": {},
   "outputs": [],
   "source": [
    "data.rename(columns={'2023년02월_총인구수':'총인구수'}, inplace=True)\n",
    "data.rename(columns={'2023년02월_세대수':'세대수'}, inplace=True)\n",
    "data.rename(columns={'2023년02월_세대당 인구':'세대당인구'}, inplace=True)\n",
    "data.rename(columns={'2023년02월_남자 인구수':'남자'}, inplace=True)\n",
    "data.rename(columns={'2023년02월_여자 인구수':'여자'}, inplace=True)\n",
    "data.rename(columns={'2023년02월_남여 비율':'남녀비율'}, inplace=True)"
   ]
  },
  {
   "cell_type": "code",
   "execution_count": null,
   "id": "9e9c5c1d-f929-446f-8c07-6651be6e56af",
   "metadata": {},
   "outputs": [],
   "source": []
  },
  {
   "cell_type": "code",
   "execution_count": null,
   "id": "fec45e13-3a68-439a-a769-85c91a1f31a3",
   "metadata": {},
   "outputs": [],
   "source": [
    "# 컬럼명 잘 변경됐는지 확인하기\n",
    "# data.columns 또는 data.info() 로 확인해보기"
   ]
  },
  {
   "cell_type": "code",
   "execution_count": null,
   "id": "94cdc787-09bf-43f9-b515-a423979d1ffb",
   "metadata": {},
   "outputs": [],
   "source": [
    "data.columns"
   ]
  },
  {
   "cell_type": "code",
   "execution_count": null,
   "id": "570d832a-cb01-4b0e-b3e5-b953438a8d9f",
   "metadata": {},
   "outputs": [],
   "source": [
    "data.info()"
   ]
  },
  {
   "cell_type": "code",
   "execution_count": null,
   "id": "abfc9065-501b-4260-aa97-dd5b2ac9889b",
   "metadata": {},
   "outputs": [],
   "source": []
  },
  {
   "cell_type": "markdown",
   "id": "4cca1514-d5e5-48ec-ab59-d55375495e87",
   "metadata": {},
   "source": [
    "### 4. 남녀비율 컬럼을 제거하고 'data' 데이터프레임 정보를 확인합니다."
   ]
  },
  {
   "cell_type": "code",
   "execution_count": null,
   "id": "1016ba89-f401-4ad0-bc78-a0e92e109718",
   "metadata": {},
   "outputs": [],
   "source": [
    "# 남녀비율 컬럼 제거하기\n",
    "data.drop(columns='남녀비율', inplace=True)"
   ]
  },
  {
   "cell_type": "code",
   "execution_count": null,
   "id": "5a7a1cdb-1f14-458d-a016-fdfdf2c3cfba",
   "metadata": {},
   "outputs": [],
   "source": [
    "# 데이터프레임 정보 확인하기\n",
    "data.info()"
   ]
  },
  {
   "cell_type": "code",
   "execution_count": null,
   "id": "7e1d9b06-4fc2-4e21-a304-b75bcd16afde",
   "metadata": {},
   "outputs": [],
   "source": []
  },
  {
   "cell_type": "markdown",
   "id": "66707106-8d52-4719-8bc5-08056e0a4c74",
   "metadata": {},
   "source": [
    "### 5. 행정구역 컬럼의 '(' ')'를 제거하고 시,구,동 컬럼을 만들어 분리해 넣고 부산 지역의 값만 선택해서 'busan' 데이터 프레임에 저장합니다."
   ]
  },
  {
   "cell_type": "code",
   "execution_count": null,
   "id": "6b4dda29-c50c-445f-9148-1004a9fd0309",
   "metadata": {},
   "outputs": [],
   "source": [
    "# 정답 코드"
   ]
  },
  {
   "cell_type": "code",
   "execution_count": null,
   "id": "18fd5540-ef76-4c0f-ac5b-85951513be62",
   "metadata": {},
   "outputs": [],
   "source": [
    "data['시'] = data['행정구역'].str.split().str[0]\n",
    "data['구'] = data['행정구역'].str.split().str[1]\n",
    "data['동'] = data['행정구역'].str.split().str[2]"
   ]
  },
  {
   "cell_type": "code",
   "execution_count": 12,
   "id": "80b5d373-92ea-4808-a43d-389960b2dac1",
   "metadata": {},
   "outputs": [
    {
     "data": {
      "text/html": [
       "<div>\n",
       "<style scoped>\n",
       "    .dataframe tbody tr th:only-of-type {\n",
       "        vertical-align: middle;\n",
       "    }\n",
       "\n",
       "    .dataframe tbody tr th {\n",
       "        vertical-align: top;\n",
       "    }\n",
       "\n",
       "    .dataframe thead th {\n",
       "        text-align: right;\n",
       "    }\n",
       "</style>\n",
       "<table border=\"1\" class=\"dataframe\">\n",
       "  <thead>\n",
       "    <tr style=\"text-align: right;\">\n",
       "      <th></th>\n",
       "      <th>행정구역</th>\n",
       "      <th>2023년02월_총인구수</th>\n",
       "      <th>2023년02월_세대수</th>\n",
       "      <th>2023년02월_세대당 인구</th>\n",
       "      <th>2023년02월_남자 인구수</th>\n",
       "      <th>2023년02월_여자 인구수</th>\n",
       "      <th>2023년02월_남여 비율</th>\n",
       "    </tr>\n",
       "  </thead>\n",
       "  <tbody>\n",
       "    <tr>\n",
       "      <th>0</th>\n",
       "      <td>서울특별시</td>\n",
       "      <td>9,427,583</td>\n",
       "      <td>4,457,982</td>\n",
       "      <td>2.11</td>\n",
       "      <td>4,567,957</td>\n",
       "      <td>4,859,626</td>\n",
       "      <td>0.94</td>\n",
       "    </tr>\n",
       "    <tr>\n",
       "      <th>1</th>\n",
       "      <td>서울특별시 종로구</td>\n",
       "      <td>141,433</td>\n",
       "      <td>72,773</td>\n",
       "      <td>1.94</td>\n",
       "      <td>68,399</td>\n",
       "      <td>73,034</td>\n",
       "      <td>0.94</td>\n",
       "    </tr>\n",
       "    <tr>\n",
       "      <th>2</th>\n",
       "      <td>서울특별시 종로구 청운효자동</td>\n",
       "      <td>11,605</td>\n",
       "      <td>5,130</td>\n",
       "      <td>2.26</td>\n",
       "      <td>5,325</td>\n",
       "      <td>6,280</td>\n",
       "      <td>0.85</td>\n",
       "    </tr>\n",
       "    <tr>\n",
       "      <th>3</th>\n",
       "      <td>서울특별시 종로구 사직동</td>\n",
       "      <td>9,120</td>\n",
       "      <td>4,593</td>\n",
       "      <td>1.99</td>\n",
       "      <td>4,060</td>\n",
       "      <td>5,060</td>\n",
       "      <td>0.80</td>\n",
       "    </tr>\n",
       "    <tr>\n",
       "      <th>4</th>\n",
       "      <td>서울특별시 종로구 삼청동</td>\n",
       "      <td>2,322</td>\n",
       "      <td>1,143</td>\n",
       "      <td>2.03</td>\n",
       "      <td>1,104</td>\n",
       "      <td>1,218</td>\n",
       "      <td>0.91</td>\n",
       "    </tr>\n",
       "  </tbody>\n",
       "</table>\n",
       "</div>"
      ],
      "text/plain": [
       "              행정구역 2023년02월_총인구수 2023년02월_세대수  2023년02월_세대당 인구  \\\n",
       "0            서울특별시     9,427,583    4,457,982             2.11   \n",
       "1        서울특별시 종로구       141,433       72,773             1.94   \n",
       "2  서울특별시 종로구 청운효자동        11,605        5,130             2.26   \n",
       "3    서울특별시 종로구 사직동         9,120        4,593             1.99   \n",
       "4    서울특별시 종로구 삼청동         2,322        1,143             2.03   \n",
       "\n",
       "  2023년02월_남자 인구수 2023년02월_여자 인구수  2023년02월_남여 비율  \n",
       "0       4,567,957       4,859,626            0.94  \n",
       "1          68,399          73,034            0.94  \n",
       "2           5,325           6,280            0.85  \n",
       "3           4,060           5,060            0.80  \n",
       "4           1,104           1,218            0.91  "
      ]
     },
     "execution_count": 12,
     "metadata": {},
     "output_type": "execute_result"
    }
   ],
   "source": [
    "# 결과 확인하기\n",
    "data.head()"
   ]
  },
  {
   "cell_type": "code",
   "execution_count": null,
   "id": "1e80ec99-f3ca-4734-8b2c-ad4f45d6e1cd",
   "metadata": {},
   "outputs": [],
   "source": []
  },
  {
   "cell_type": "code",
   "execution_count": null,
   "id": "5f0c4b08-2de6-4eeb-9010-72391f978182",
   "metadata": {},
   "outputs": [],
   "source": [
    "# 내 코드는 split(' ')을 사용했지만 선생님은 split()을 사용하셨다."
   ]
  },
  {
   "cell_type": "code",
   "execution_count": null,
   "id": "e56fb222-5126-4360-9d15-d95a1b5eeffa",
   "metadata": {},
   "outputs": [],
   "source": [
    "# split()과 split(' ')는 여기에서는 실행 결과가 같지만\n",
    "# 두 가지는 차이점이 있다."
   ]
  },
  {
   "cell_type": "code",
   "execution_count": null,
   "id": "50a125a1-141a-44d2-8cea-efa37ba796c6",
   "metadata": {},
   "outputs": [],
   "source": [
    "# split()는 공백이 1개이든 2개이든 n개이든\n",
    "# 공백의 개수와 상관없이 무조건 1개로 보고 처리하지만\n",
    "\n",
    "# split(' ')은 공백 1개, 1개를 각각의 공백으로 따로따로 처리한다."
   ]
  },
  {
   "cell_type": "code",
   "execution_count": null,
   "id": "4161c1ef-aaf8-490a-9729-4259990496fb",
   "metadata": {},
   "outputs": [],
   "source": [
    "# 차이점을 잘 염두해두고 상황에 맞게 잘 사용하자."
   ]
  },
  {
   "cell_type": "code",
   "execution_count": null,
   "id": "bd70326a-3d0f-4eed-844f-f8d75ddd3a18",
   "metadata": {},
   "outputs": [],
   "source": []
  },
  {
   "cell_type": "code",
   "execution_count": null,
   "id": "2ec385a5-83eb-4649-b854-0dc5ba40f671",
   "metadata": {},
   "outputs": [],
   "source": [
    "# 내 코드"
   ]
  },
  {
   "cell_type": "code",
   "execution_count": null,
   "id": "892312e3-eff3-4d36-bf68-4bbbefacf5b1",
   "metadata": {},
   "outputs": [],
   "source": [
    "# 선생님 코드와 달리 나는 행정구역 컬럼 옆(오른쪽)에\n",
    "# 시,구,동 컬럼을 추가하고 싶어서\n",
    "# data.insert()를 활용하였다.\n",
    "\n",
    "# data.insert() -> 위치를 지정하여 컬럼을 추가할 수 있다."
   ]
  },
  {
   "cell_type": "code",
   "execution_count": null,
   "id": "e659d693-6a92-4fa2-bfa0-57d9ffe2ba7c",
   "metadata": {},
   "outputs": [],
   "source": [
    "data.insert(1,'시',data['행정구역'].str.split(' ').str[0])\n",
    "data.insert(2,'구',data['행정구역'].str.split(' ').str[1])\n",
    "data.insert(3,'동',data['행정구역'].str.split(' ').str[2])"
   ]
  },
  {
   "cell_type": "code",
   "execution_count": null,
   "id": "26f496dd-bec1-4515-87d1-2d0440c62f34",
   "metadata": {},
   "outputs": [],
   "source": [
    "# 결과 확인하기\n",
    "data.head()"
   ]
  },
  {
   "cell_type": "code",
   "execution_count": null,
   "id": "a95bf2d1-bac0-4b97-9811-7f9f52934fa6",
   "metadata": {},
   "outputs": [],
   "source": []
  },
  {
   "cell_type": "code",
   "execution_count": null,
   "id": "517ef1f4-b680-45d5-ba28-825c67cbe5d8",
   "metadata": {},
   "outputs": [],
   "source": [
    "# 부산 지역의 값만 선택하여 'busan' 데이터 프레임에 저장하기"
   ]
  },
  {
   "cell_type": "code",
   "execution_count": null,
   "id": "d7ae7f5a-07db-492f-b638-dbdc21e0fba2",
   "metadata": {},
   "outputs": [],
   "source": [
    "busan = data[data['시'] == '부산광역시']"
   ]
  },
  {
   "cell_type": "code",
   "execution_count": null,
   "id": "db3b2467-16fe-4201-97f4-fda2e8d9f49b",
   "metadata": {},
   "outputs": [],
   "source": [
    "# 결과 확인하기\n",
    "busan"
   ]
  },
  {
   "cell_type": "code",
   "execution_count": null,
   "id": "2a649d3e-26ae-4efe-9b19-29f8dd9d4829",
   "metadata": {},
   "outputs": [],
   "source": []
  },
  {
   "cell_type": "markdown",
   "id": "d20647a9-7221-48bf-9799-c0590c6eadf5",
   "metadata": {},
   "source": [
    "### 6. 'busan' 데이터 프레임에 NAN 값이 있다면 해당 행을 제거하고, 기존 인덱스 값은 제거하고 새로 인덱스를 부여하고 내용을 확인합니다."
   ]
  },
  {
   "cell_type": "code",
   "execution_count": null,
   "id": "139a346c-1ad6-4be1-b82d-ca15e929fda3",
   "metadata": {},
   "outputs": [],
   "source": [
    "busan.dropna(inplace=True)\n",
    "busan.reset_index(inplace=True, drop=True)"
   ]
  },
  {
   "cell_type": "code",
   "execution_count": null,
   "id": "9b3d6d82-a338-4349-b754-23703a14c0cc",
   "metadata": {},
   "outputs": [],
   "source": [
    "# 결과 확인하기\n",
    "busan"
   ]
  },
  {
   "cell_type": "code",
   "execution_count": null,
   "id": "a140695f-7454-4804-98e1-6d2eceef3708",
   "metadata": {},
   "outputs": [],
   "source": []
  },
  {
   "cell_type": "markdown",
   "id": "cf1bd466-5937-48d7-b28f-de25da217dd7",
   "metadata": {},
   "source": [
    "### 7. 총인구수, 남자, 여자 컬럼의 데이터 타입을 정수형으로 변경하고 변경 내용을 확인합니다."
   ]
  },
  {
   "cell_type": "code",
   "execution_count": null,
   "id": "32425909-c1ad-4144-a974-9ee4ea0a8a92",
   "metadata": {},
   "outputs": [],
   "source": [
    "# 원래 데이터 타입 확인하기\n",
    "# .info() 또는 .dtypes로 확인할 수 있다. \n",
    "busan.dtypes"
   ]
  },
  {
   "cell_type": "code",
   "execution_count": null,
   "id": "f31bce6c-ecb1-409e-bddf-122f49394f7e",
   "metadata": {},
   "outputs": [],
   "source": [
    "# 정수형으로 변경하기\n",
    "# 숫자 사이에 있는 콤마(,)를 제거하고 int로 변경해준다.\n",
    "# 콤마(,) 제거하는 것 제발 잊지 말자..."
   ]
  },
  {
   "cell_type": "code",
   "execution_count": null,
   "id": "eca3c6aa-f30f-40ed-8a5c-f22a5e92b758",
   "metadata": {},
   "outputs": [],
   "source": [
    "busan['총인구수'] = busan['총인구수'].str.replace(',','').astype(int)\n",
    "busan['남자'] = busan['남자'].str.replace(',','').astype(int)\n",
    "busan['여자'] = busan['여자'].str.replace(',','').astype(int)"
   ]
  },
  {
   "cell_type": "code",
   "execution_count": null,
   "id": "b8d07f9f-287c-427f-8ad7-eb2695e477ac",
   "metadata": {},
   "outputs": [],
   "source": [
    "# 변경 결과 확인하기\n",
    "busan.info()"
   ]
  },
  {
   "cell_type": "code",
   "execution_count": null,
   "id": "29c39e07-6e55-488f-8075-e7461a3729c4",
   "metadata": {},
   "outputs": [],
   "source": []
  },
  {
   "cell_type": "code",
   "execution_count": null,
   "id": "582cf3c8-2acd-4349-9bd4-cf568500b2ff",
   "metadata": {},
   "outputs": [],
   "source": [
    "# 데이터 타입을 정수형으로 변경하고 싶을 때\n",
    "# pandas의 pd.to_numeric()을 활용하는 방법도 있다."
   ]
  },
  {
   "cell_type": "code",
   "execution_count": null,
   "id": "14fc441f-25c0-4554-90ab-5e8ec8a05d90",
   "metadata": {},
   "outputs": [],
   "source": [
    "# 여기서는 str.replace()랑 한 줄에 같이 사용하기 좋고 코드가 좀 더 간단하기 때문에 \n",
    "# 선생님이 astype(int)를 사용하신 것 같다."
   ]
  },
  {
   "cell_type": "code",
   "execution_count": null,
   "id": "306c5d30-ddc9-4870-ac5a-da013f698bfa",
   "metadata": {},
   "outputs": [],
   "source": []
  },
  {
   "cell_type": "markdown",
   "id": "d158a996-8769-4269-9b4e-8b95dafebd13",
   "metadata": {},
   "source": [
    "### 8. 구별로 부산 인구를 차트로 표시합니다. (인구순 5개만)"
   ]
  },
  {
   "cell_type": "code",
   "execution_count": null,
   "id": "41a3bcbc-8390-4828-b1b9-8b8d67bc7db8",
   "metadata": {},
   "outputs": [],
   "source": [
    "import seaborn as sns\n",
    "import matplotlib.pyplot as plt"
   ]
  },
  {
   "cell_type": "code",
   "execution_count": null,
   "id": "d84118a4-fa86-4a3f-b8d0-553fae053fbb",
   "metadata": {},
   "outputs": [],
   "source": [
    "# 정답 코드"
   ]
  },
  {
   "cell_type": "code",
   "execution_count": null,
   "id": "465f293d-0520-47ef-aaba-4c9fcbb1884c",
   "metadata": {},
   "outputs": [],
   "source": [
    "busan_g = busan.groupby(['구'])['총인구수'].sum().sort_values(ascending=False).head(5).reset_index()\n",
    "plt.figure(figsize=(10,4))\n",
    "sns.barplot(data=busan_g, y='구', x='총인구수')\n",
    "plt.show()"
   ]
  },
  {
   "cell_type": "code",
   "execution_count": null,
   "id": "3293e082-1d33-4cc7-9e25-c63f71f6b2fe",
   "metadata": {},
   "outputs": [],
   "source": []
  },
  {
   "cell_type": "code",
   "execution_count": null,
   "id": "0d7d9d28-e485-4e01-9689-b5cedf358f1b",
   "metadata": {},
   "outputs": [],
   "source": [
    "# 내 코드"
   ]
  },
  {
   "cell_type": "code",
   "execution_count": null,
   "id": "afa3663c-6e32-4e55-86f1-2a85cdad6ba8",
   "metadata": {},
   "outputs": [],
   "source": [
    "b1 = busan.groupby('구')['총인구수'].sum().to_frame().reset_index()\n",
    "b1"
   ]
  },
  {
   "cell_type": "code",
   "execution_count": null,
   "id": "33514202-c07a-432a-b1af-0ad539a091e9",
   "metadata": {},
   "outputs": [],
   "source": [
    "sorted_b1 = b1.sort_values('총인구수', ascending=False)[0:5]\n",
    "sorted_b1"
   ]
  },
  {
   "cell_type": "code",
   "execution_count": null,
   "id": "e4958c9e-dab5-409c-87df-bf32a52ac116",
   "metadata": {},
   "outputs": [],
   "source": [
    "sorted_b1.plot.bar(x='구', rot=0, xlabel='부산광역시')"
   ]
  },
  {
   "cell_type": "code",
   "execution_count": null,
   "id": "a9fed915-6d3a-4ee4-86d2-945b67b8d5e9",
   "metadata": {},
   "outputs": [],
   "source": []
  },
  {
   "cell_type": "markdown",
   "id": "e14a3de0-e997-4a44-bbd4-60ebb64f2f4b",
   "metadata": {},
   "source": [
    "### 9. 동별로 부산 인구를 차트로 표시합니다. (인구순 5개만)"
   ]
  },
  {
   "cell_type": "code",
   "execution_count": null,
   "id": "6c887b3b-6229-48db-91cc-aad1b134708e",
   "metadata": {},
   "outputs": [],
   "source": [
    "# 정답 코드"
   ]
  },
  {
   "cell_type": "code",
   "execution_count": null,
   "id": "b5419de2-9056-4aec-854c-cca200683028",
   "metadata": {},
   "outputs": [],
   "source": [
    "busan_g1 = busan.sort_values(by='총인구수', ascending=False).head(5)\n",
    "plt.figure(figsize=(10,4))\n",
    "sns.barplot(data=busan_g1, y='동', x='총인구수')\n",
    "plt.show()"
   ]
  },
  {
   "cell_type": "code",
   "execution_count": null,
   "id": "c789146b-86fb-47c3-8aa7-74ca78dc6b3d",
   "metadata": {},
   "outputs": [],
   "source": []
  },
  {
   "cell_type": "code",
   "execution_count": null,
   "id": "cd78e45d-cbe7-4c60-9361-7e11855bb431",
   "metadata": {},
   "outputs": [],
   "source": [
    "# 내 코드"
   ]
  },
  {
   "cell_type": "code",
   "execution_count": null,
   "id": "402e39c7-181a-4fbb-abfe-d879efd94564",
   "metadata": {},
   "outputs": [],
   "source": [
    "b2 = busan.groupby('동')['총인구수'].sum().to_frame().reset_index()\n",
    "b2"
   ]
  },
  {
   "cell_type": "code",
   "execution_count": null,
   "id": "964ffa02-0116-4d6f-bb3d-d55362000660",
   "metadata": {},
   "outputs": [],
   "source": [
    "sorted_b2 = b2.sort_values('총인구수', ascending=False)[0:5]\n",
    "sorted_b2"
   ]
  },
  {
   "cell_type": "code",
   "execution_count": null,
   "id": "ce6c0d6a-05bf-4e2f-be62-cdcd1fe85701",
   "metadata": {},
   "outputs": [],
   "source": [
    "sorted_b2.plot.bar(x='동', rot=0, xlabel='부산광역시')"
   ]
  },
  {
   "cell_type": "code",
   "execution_count": null,
   "id": "eb5d67ae-9a65-4132-95ad-9713d08878e6",
   "metadata": {},
   "outputs": [],
   "source": []
  },
  {
   "cell_type": "markdown",
   "id": "b54b987d-292f-4001-a90d-11ce3714dd90",
   "metadata": {},
   "source": [
    "### 10. Choropleth, geojson 등을 이용하여 동별 인구수를 색상별로 지도에 나타내시오"
   ]
  },
  {
   "cell_type": "code",
   "execution_count": null,
   "id": "9b622288-3f60-4208-84ca-8c3823c8eb14",
   "metadata": {},
   "outputs": [],
   "source": [
    "# 정답 코드"
   ]
  },
  {
   "cell_type": "code",
   "execution_count": null,
   "id": "412859a8-a09c-4e34-aad8-3938da7f2ceb",
   "metadata": {
    "tags": []
   },
   "outputs": [],
   "source": [
    "import json, folium"
   ]
  },
  {
   "cell_type": "code",
   "execution_count": null,
   "id": "27a5805c-4ba9-430a-97e5-f542e42b7034",
   "metadata": {},
   "outputs": [],
   "source": [
    "jsonfile = open('HangJeongDong_ver20230101.geojson','r',encoding='utf8')\n",
    "jsondata = json.load(jsonfile)\n",
    "# jsondata\n",
    "jsondata_busan = {'type':'FeatureCollection'}\n",
    "jsondata_pick = []\n",
    "jsondata_dong = []\n",
    "for item in jsondata['features']:\n",
    "    if item['properties']['sidonm'] == \"부산광역시\":\n",
    "        # print(item)\n",
    "        dong = item['properties']['adm_nm'].split()[-1].strip()\n",
    "        # print(dong)\n",
    "        jsondata_dong.append(dong)\n",
    "        item['id'] = dong\n",
    "        jsondata_pick.append(item)\n",
    "jsondata_busan['features'] = jsondata_pick"
   ]
  },
  {
   "cell_type": "code",
   "execution_count": null,
   "id": "ea153e08-9c00-460c-b318-c9b3f3f83b5b",
   "metadata": {},
   "outputs": [],
   "source": [
    "# jsondata_busan"
   ]
  },
  {
   "cell_type": "code",
   "execution_count": null,
   "id": "a33e9eeb-378a-4dda-890d-c7d86ea9d82c",
   "metadata": {},
   "outputs": [],
   "source": [
    "busan.columns"
   ]
  },
  {
   "cell_type": "code",
   "execution_count": null,
   "id": "2a019484-2756-472b-93b3-54cecf6ca7b5",
   "metadata": {},
   "outputs": [],
   "source": [
    "map = folium.Map((35.1954434,129.0750953),zoom_start=10)\n",
    "folium.Choropleth(jsondata_busan,\n",
    "                  data=busan,\n",
    "                  columns=['동','총인구수'],\n",
    "                  key_on='feature.id',\n",
    "                  bins=10,\n",
    "                  fill_color='YlOrRd',\n",
    "                  legend_name='부산시 동별 인구수').add_to(map)\n",
    "map"
   ]
  },
  {
   "cell_type": "code",
   "execution_count": null,
   "id": "b41d4d5b-232d-41fd-b14c-c7aa824704f2",
   "metadata": {},
   "outputs": [],
   "source": [
    "df_dong = sorted(busan['동'].to_list())\n",
    "json_dong = sorted(jsondata_dong)\n",
    "print(len(df_dong),len(json_dong))\n",
    "for i ,item in enumerate(zip(df_dong,json_dong)):\n",
    "    if item[0] != item[1]:\n",
    "        print(i,' ',item)"
   ]
  },
  {
   "cell_type": "code",
   "execution_count": null,
   "id": "9b709bdc-bc1f-4b39-92a8-2b4e7c933da7",
   "metadata": {},
   "outputs": [],
   "source": [
    "jsonfile = open('HangJeongDong_ver20230101.geojson','r',encoding='utf8')\n",
    "jsondata = json.load(jsonfile)\n",
    "# jsondata\n",
    "jsondata_busan = {'type': 'FeatureCollection'}\n",
    "jsondata_pick = []\n",
    "jsondata_dong = []\n",
    "for item in jsondata['features']:\n",
    "    if item['properties']['sidonm'] == \"부산광역시\":\n",
    "        # print(item)\n",
    "        dong = item['properties']['adm_nm'].split()[-1].strip()\n",
    "        if dong == '가야제1동':\n",
    "            dong = '가야1동'\n",
    "        # print(dong)\n",
    "        jsondata_dong.append(dong)\n",
    "        item['id'] = dong\n",
    "        jsondata_pick.append(item)\n",
    "jsondata_busan['features'] = jsondata_pick"
   ]
  },
  {
   "cell_type": "code",
   "execution_count": null,
   "id": "5c1d3bd2-96cb-47c9-b0a8-06513495f59d",
   "metadata": {},
   "outputs": [],
   "source": [
    "df_dong = sorted(busan['동'].to_list())\n",
    "json_dong = sorted(jsondata_dong)\n",
    "print(len(df_dong),len(json_dong))\n",
    "for i ,item in enumerate(zip(df_dong,json_dong)):\n",
    "    if item[0] != item[1]:\n",
    "        print(i,' ',item)"
   ]
  },
  {
   "cell_type": "code",
   "execution_count": null,
   "id": "67e56eb9-34ab-426d-85b1-c2d811c70608",
   "metadata": {},
   "outputs": [],
   "source": [
    "busan['동'] = busan['동'].str.replace('제','')"
   ]
  },
  {
   "cell_type": "code",
   "execution_count": null,
   "id": "313ea251-a97e-4410-bc0c-e273ae89e194",
   "metadata": {},
   "outputs": [],
   "source": [
    "df_dong = sorted(busan['동'].to_list())\n",
    "json_dong = sorted(jsondata_dong)\n",
    "print(len(df_dong),len(json_dong))\n",
    "for i ,item in enumerate(zip(df_dong,json_dong)):\n",
    "    if item[0] != item[1]:\n",
    "        print(i,' ',item)"
   ]
  },
  {
   "cell_type": "code",
   "execution_count": null,
   "id": "2b841ae3-217a-4bee-9ebe-31282012b9a6",
   "metadata": {},
   "outputs": [],
   "source": [
    "busan['동'] = busan['동'].replace(['거1동','거2동','거3동','거4동'],['거제1동','거제2동','거제3동','거제4동'])"
   ]
  },
  {
   "cell_type": "code",
   "execution_count": null,
   "id": "a1d51874-ddc6-44eb-9fd9-564baee1d071",
   "metadata": {},
   "outputs": [],
   "source": [
    "df_dong = sorted(busan['동'].to_list())\n",
    "json_dong = sorted(jsondata_dong)\n",
    "print(len(df_dong),len(json_dong))\n",
    "for i ,item in enumerate(zip(df_dong,json_dong)):\n",
    "    if item[0] != item[1]:\n",
    "        print(i,' ',item)"
   ]
  },
  {
   "cell_type": "code",
   "execution_count": null,
   "id": "1e571623-b9d7-4568-b138-0f56bea8ff3b",
   "metadata": {},
   "outputs": [],
   "source": [
    "# jsondata_busan"
   ]
  },
  {
   "cell_type": "code",
   "execution_count": null,
   "id": "56f19749-aeb5-4285-8c77-8ca9eda243dc",
   "metadata": {},
   "outputs": [],
   "source": []
  },
  {
   "cell_type": "code",
   "execution_count": null,
   "id": "10cfca78-f9c2-49ae-b65b-b4bb69fbbb2f",
   "metadata": {},
   "outputs": [],
   "source": [
    "map = folium.Map((35.1954434,129.0750953),zoom_start=10)\n",
    "cho = folium.Choropleth(jsondata_busan,\n",
    "                  data=busan,\n",
    "                  columns=['동','총인구수'],\n",
    "                  key_on='feature.id',\n",
    "                  bins=10,\n",
    "                  fill_color='YlOrRd',\n",
    "                  legend_name='부산시 동별 인구수').add_to(map)\n",
    "cho.geojson.add_child(\n",
    "    folium.features.GeoJsonTooltip(['adm_nm','OBJECTID'],labels=False)\n",
    ")\n",
    "map"
   ]
  },
  {
   "cell_type": "code",
   "execution_count": null,
   "id": "5933e098-ec11-49e7-a741-740aaff309bd",
   "metadata": {},
   "outputs": [],
   "source": []
  }
 ],
 "metadata": {
  "kernelspec": {
   "display_name": "Python 3 (ipykernel)",
   "language": "python",
   "name": "python3"
  },
  "language_info": {
   "codemirror_mode": {
    "name": "ipython",
    "version": 3
   },
   "file_extension": ".py",
   "mimetype": "text/x-python",
   "name": "python",
   "nbconvert_exporter": "python",
   "pygments_lexer": "ipython3",
   "version": "3.10.10"
  }
 },
 "nbformat": 4,
 "nbformat_minor": 5
}
