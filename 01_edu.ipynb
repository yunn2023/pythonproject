{
 "cells": [
  {
   "cell_type": "code",
   "execution_count": 1,
   "id": "f637b86c",
   "metadata": {},
   "outputs": [
    {
     "data": {
      "text/plain": [
       "[['a', 'b', 'c'], [['a', 'b', 'c']]]"
      ]
     },
     "execution_count": 1,
     "metadata": {},
     "output_type": "execute_result"
    }
   ],
   "source": [
    "A = [\"a\", \"b\", \"c\"]\n",
    "B = [A]\n",
    "C = [A, B]\n",
    "C"
   ]
  },
  {
   "cell_type": "code",
   "execution_count": 5,
   "id": "4764ce27",
   "metadata": {},
   "outputs": [
    {
     "name": "stdout",
     "output_type": "stream",
     "text": [
      "1234 21\n"
     ]
    }
   ],
   "source": [
    "# 일반변수 \n",
    "name = \"홍길동\"\n",
    "age = 21\n",
    "name = \"1111\"\n",
    "name = 1234\n",
    "print(name, age)\n"
   ]
  },
  {
   "cell_type": "code",
   "execution_count": 3,
   "id": "5eba4d6d",
   "metadata": {},
   "outputs": [],
   "source": [
    "### 여러개의 값을 가지는 변수\n",
    "list_v = []\n",
    "dict_v = {}\n",
    "tuple_v = ()"
   ]
  },
  {
   "cell_type": "code",
   "execution_count": 13,
   "id": "3b049713",
   "metadata": {},
   "outputs": [
    {
     "data": {
      "text/plain": [
       "[1, 2, '홍길동1', '홍길동2']"
      ]
     },
     "execution_count": 13,
     "metadata": {},
     "output_type": "execute_result"
    }
   ],
   "source": [
    "### 리스트에 값을 추가하기\n",
    "list_v = [1, 2]\n",
    "list_v.append(\"홍길동1\")\n",
    "list_v.append(\"홍길동2\")\n",
    "list_v"
   ]
  },
  {
   "cell_type": "code",
   "execution_count": 14,
   "id": "03943b34",
   "metadata": {},
   "outputs": [
    {
     "name": "stdout",
     "output_type": "stream",
     "text": [
      "1\n",
      "2\n",
      "홍길동1\n",
      "홍길동2\n"
     ]
    }
   ],
   "source": [
    "### 인덱스 번호를 이용하는 방식 -for문 작성\n",
    "for i in range(0, len(list_v), 1) :\n",
    "    print(list_v[i])"
   ]
  },
  {
   "cell_type": "code",
   "execution_count": 15,
   "id": "f59d3991",
   "metadata": {},
   "outputs": [
    {
     "name": "stdout",
     "output_type": "stream",
     "text": [
      "1\n",
      "2\n",
      "홍길동1\n",
      "홍길동2\n"
     ]
    }
   ],
   "source": [
    "### 값을 이용한 반복 처리\n",
    "for v in list_v:\n",
    "    print(v)"
   ]
  },
  {
   "cell_type": "code",
   "execution_count": 25,
   "id": "980f3742",
   "metadata": {},
   "outputs": [
    {
     "name": "stdout",
     "output_type": "stream",
     "text": [
      "{'홍길동': 28, '2': '홍길동2', '홍길동2': 30}\n"
     ]
    }
   ],
   "source": [
    "### 같은 key가 있으면 수정, 없으면 추가\n",
    "# - key를 줄테니, 값을 다오..\n",
    "dict_v = {\"홍길동\" : 39, \"2\" : \"홍길동2\"}\n",
    "dict_v[\"홍길동\"] = 28\n",
    "dict_v[\"홍길동2\"] = 30\n",
    "print(dict_v)"
   ]
  },
  {
   "cell_type": "code",
   "execution_count": 27,
   "id": "170fa951",
   "metadata": {},
   "outputs": [
    {
     "name": "stdout",
     "output_type": "stream",
     "text": [
      "dict_keys(['홍길동', '2', '홍길동2'])\n"
     ]
    }
   ],
   "source": [
    "print(dict_v.keys())"
   ]
  },
  {
   "cell_type": "code",
   "execution_count": 28,
   "id": "b0d748fe",
   "metadata": {},
   "outputs": [
    {
     "data": {
      "text/plain": [
       "3"
      ]
     },
     "execution_count": 28,
     "metadata": {},
     "output_type": "execute_result"
    }
   ],
   "source": [
    "len(dict_v.keys())"
   ]
  },
  {
   "cell_type": "code",
   "execution_count": 39,
   "id": "a67706f6",
   "metadata": {},
   "outputs": [
    {
     "name": "stdout",
     "output_type": "stream",
     "text": [
      "홍길동 = 28\n",
      "홍길동 = 28\n",
      "2 = 홍길동2\n",
      "2 = 홍길동2\n",
      "홍길동2 = 30\n",
      "홍길동2 = 30\n"
     ]
    }
   ],
   "source": [
    "### 인덱스 번호를 이용하는 방식\n",
    "#for i in range(0, len(dict_v.keys()), 1) :\n",
    "#    print(dict_v.keys()[0])\n",
    "\n",
    "### 값을 이용하는 방식으로 처리\n",
    "for k in dict_v.keys() :\n",
    "    print(k, \"=\", dict_v[k])\n",
    "    print(k, \"=\", dict_v.get(k))"
   ]
  },
  {
   "cell_type": "code",
   "execution_count": 41,
   "id": "60e7fdfa",
   "metadata": {},
   "outputs": [],
   "source": [
    "dict_v.get(\"3\")"
   ]
  },
  {
   "cell_type": "code",
   "execution_count": 45,
   "id": "5d6184ea",
   "metadata": {},
   "outputs": [
    {
     "name": "stdout",
     "output_type": "stream",
     "text": [
      "1\n",
      "홍기동\n",
      "홍길동3\n",
      "홍길동3\n",
      "홍길동3\n"
     ]
    },
    {
     "data": {
      "text/plain": [
       "'\\n1\\n홍기동\\n홍길동3\\n홍길동3\\n홍길동3\\n'"
      ]
     },
     "execution_count": 45,
     "metadata": {},
     "output_type": "execute_result"
    }
   ],
   "source": [
    "dict_v = {'name': '홍길동',\n",
    " 'age': 21,\n",
    " 'list_v': [1, '홍기동', '홍길동3', '홍길동3', '홍길동3'],\n",
    " 'add': '세종'}\n",
    "\n",
    "for k in dict_v:\n",
    "    if k == \"list_v\":\n",
    "        #print(dict_v[k])\n",
    "        for v in dict_v[k] :\n",
    "            print(v)\n",
    "### key가 list_v인 리스트 안의 값들을 출력해 주세요..\n",
    "\"\"\"\n",
    "1\n",
    "홍기동\n",
    "홍길동3\n",
    "홍길동3\n",
    "홍길동3\n",
    "\"\"\""
   ]
  },
  {
   "cell_type": "code",
   "execution_count": 50,
   "id": "2c884632",
   "metadata": {},
   "outputs": [
    {
     "name": "stdout",
     "output_type": "stream",
     "text": [
      "key : 1 / value : 홍길동1\n",
      "key : 2 / value : 홍길동2\n",
      "key : 1 / value : 이순신1\n",
      "key : 2 / value : 이순신2\n",
      "key : 1 / value : 강감찬1\n",
      "key : 2 / value : 강감찬2\n"
     ]
    }
   ],
   "source": [
    "list_v2 = [{1: '홍길동1', 2: '홍길동2'}, \n",
    "             {1: '이순신1', 2: '이순신2'}, \n",
    "             {1: '강감찬1', 2: '강감찬2'}]\n",
    "list_v2\n",
    "\n",
    "for d in list_v2 :\n",
    "    # print(d)\n",
    "    for k in d :\n",
    "        print(\"key : {} / value : {}\".format(k, d[k]))"
   ]
  },
  {
   "cell_type": "code",
   "execution_count": 47,
   "id": "5460d9ae",
   "metadata": {},
   "outputs": [
    {
     "data": {
      "text/plain": [
       "'\\nkey :  1  / values :  홍길동1\\nkey :  2  / values :  홍길동2\\nkey :  1  / values :  이순신1\\nkey :  2  / values :  이순신2\\nkey :  1  / values :  강감찬1\\nkey :  2  / values :  강감찬2\\n'"
      ]
     },
     "execution_count": 47,
     "metadata": {},
     "output_type": "execute_result"
    }
   ],
   "source": [
    "\"\"\"\n",
    "key :  1  / values :  홍길동1\n",
    "key :  2  / values :  홍길동2\n",
    "key :  1  / values :  이순신1\n",
    "key :  2  / values :  이순신2\n",
    "key :  1  / values :  강감찬1\n",
    "key :  2  / values :  강감찬2\n",
    "\"\"\""
   ]
  },
  {
   "cell_type": "code",
   "execution_count": null,
   "id": "be73d433",
   "metadata": {},
   "outputs": [],
   "source": [
    "# \"강감찬1\"값이 있는 key와 value값만 출력해 주세요.\n",
    "# -> 답 : key :  1  / values :  강감찬1\n",
    "\n",
    "### \"강감찬1\"이라는 값이 포함되어 있는 부분의 \n",
    "#    딕셔너리의 전체 key와 value를 출력하기.  \n",
    "# -> 답: \n",
    "  # key :  1  / values :  강감찬1\n",
    "  # key :  2  / values :  강감찬2"
   ]
  }
 ],
 "metadata": {
  "kernelspec": {
   "display_name": "Python 3 (ipykernel)",
   "language": "python",
   "name": "python3"
  },
  "language_info": {
   "codemirror_mode": {
    "name": "ipython",
    "version": 3
   },
   "file_extension": ".py",
   "mimetype": "text/x-python",
   "name": "python",
   "nbconvert_exporter": "python",
   "pygments_lexer": "ipython3",
   "version": "3.10.10"
  }
 },
 "nbformat": 4,
 "nbformat_minor": 5
}
