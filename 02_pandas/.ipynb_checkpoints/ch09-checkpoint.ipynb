{
 "cells": [
  {
   "cell_type": "code",
   "execution_count": null,
   "id": "bb2d7b78-78ee-42bf-abc5-4a27353129b1",
   "metadata": {},
   "outputs": [],
   "source": [
    "# 문자열 처리하기"
   ]
  },
  {
   "cell_type": "code",
   "execution_count": null,
   "id": "5ba54fa8-3de3-4914-a4fe-617293fd1e79",
   "metadata": {},
   "outputs": [],
   "source": [
    "# 1. 문자열 다루기"
   ]
  },
  {
   "cell_type": "code",
   "execution_count": null,
   "id": "c9b5e61c-6e31-4ed2-9789-0fb616777537",
   "metadata": {},
   "outputs": [],
   "source": [
    "# 2. 문자열 메서드"
   ]
  },
  {
   "cell_type": "code",
   "execution_count": null,
   "id": "a7a730d0-537c-4112-ac09-4c6cdb9d4eb3",
   "metadata": {},
   "outputs": [],
   "source": [
    "# 3. 문자열 포매팅"
   ]
  },
  {
   "cell_type": "code",
   "execution_count": null,
   "id": "404c742d-b637-4333-b7bc-5fca41153250",
   "metadata": {},
   "outputs": [],
   "source": []
  }
 ],
 "metadata": {
  "kernelspec": {
   "display_name": "Python 3 (ipykernel)",
   "language": "python",
   "name": "python3"
  },
  "language_info": {
   "codemirror_mode": {
    "name": "ipython",
    "version": 3
   },
   "file_extension": ".py",
   "mimetype": "text/x-python",
   "name": "python",
   "nbconvert_exporter": "python",
   "pygments_lexer": "ipython3",
   "version": "3.10.9"
  }
 },
 "nbformat": 4,
 "nbformat_minor": 5
}
