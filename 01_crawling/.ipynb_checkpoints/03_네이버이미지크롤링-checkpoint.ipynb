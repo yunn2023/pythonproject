{
 "cells": [
  {
   "cell_type": "markdown",
   "id": "9c9a6ef7-362a-4894-b2d9-33e6c2b3ddef",
   "metadata": {},
   "source": [
    "네이버 이미지에서 검색 키워드를 입력받아서 검색한 다음"
   ]
  },
  {
   "cell_type": "markdown",
   "id": "bbecd6cb-5bf6-4f7d-bb4d-051d4449c48b",
   "metadata": {},
   "source": [
    "이미지 결과에서 이미지를 10개 정도 다운로드 받아서 img 폴더에 저장하기"
   ]
  },
  {
   "cell_type": "code",
   "execution_count": 23,
   "id": "31a9e152-f76a-4f10-b6c2-dec3e5c4c6f9",
   "metadata": {},
   "outputs": [],
   "source": [
    "import requests\n",
    "from urllib import request\n",
    "from bs4 import BeautifulSoup"
   ]
  },
  {
   "cell_type": "code",
   "execution_count": 5,
   "id": "3bb83c5c-1e2d-48a9-8b69-9b4f6b56e304",
   "metadata": {},
   "outputs": [],
   "source": [
    "# https://search.naver.com/search.naver?where=image&sm=tab_jum&query=%EB%B4%84"
   ]
  },
  {
   "cell_type": "code",
   "execution_count": 21,
   "id": "9a281707-5642-4ea0-853f-de758914f952",
   "metadata": {
    "collapsed": true,
    "jupyter": {
     "outputs_hidden": true
    },
    "tags": []
   },
   "outputs": [
    {
     "name": "stdin",
     "output_type": "stream",
     "text": [
      "검색어 >>>  봄\n"
     ]
    },
    {
     "name": "stdout",
     "output_type": "stream",
     "text": [
      "[<img alt=\"\" height=\"38\" onerror=\"this.parentNode.style.display='none';\" src=\"https://search.pstatic.net/common/?src=http%3A%2F%2Fcafefiles.naver.net%2FMjAyMTAyMjhfMTU1%2FMDAxNjE0NDY5NjQzMTcw.YhwEgIQB_QTRGwRXWVNW50MwLxdSUt-iTuE5snyEhl0g.MF8kozbobjg4IQaNw6CvGJy1ZG2RYCZ7M4S3mGGbpD4g.JPEG%2F16144695598924905842576595907778.jpg&amp;type=f54_54\" width=\"38\"/>, <img alt=\"\" height=\"38\" onerror=\"this.parentNode.style.display='none';\" src=\"https://search.pstatic.net/common/?src=http%3A%2F%2Fblogfiles.naver.net%2FMjAyMjAzMDdfMTY2%2FMDAxNjQ2NjEzNTU4OTMx.jtI5WTGhkp-FPP0mPxXa9LoQwrHB4rU_0IpvtD7awm4g.peBwo-39I5RREUeoiIP0bIoW-HEIXGv5uFW8yvYU2ccg.JPEG.nexusbooks%2F%25BA%25BD.jpg&amp;type=f54_54\" width=\"38\"/>, <img alt=\"\" height=\"38\" onerror=\"this.parentNode.style.display='none';\" src=\"https://search.pstatic.net/common/?src=http%3A%2F%2Fblogfiles.naver.net%2FMjAyMjAzMThfMTky%2FMDAxNjQ3NTkyNzM4NzYy.8X0SQTGsYCVeBX5fu2leohjz3dOaTvXBiKK1gpz6FPwg.HDHRWPeyhLk0gduZpJvig8BoiUHVK_2z4k1p4E8Vtv4g.PNG.bbalsong%2F%25BA%25BD3%25BF%25F9%25C0%25CE%25BB%25E7%25B9%25AE%25B1%25B8-001.png&amp;type=f54_54\" width=\"38\"/>, <img alt=\"\" height=\"38\" onerror=\"this.parentNode.style.display='none';\" src=\"https://search.pstatic.net/common/?src=http%3A%2F%2Fblogfiles.naver.net%2FMjAyMjA1MzFfMjk2%2FMDAxNjU0MDA0NDk0NzMy.exvL9O02gz_6hyqbNY5OWvhiDWgI1z91GkvvmjVhwA0g.f0NiD4Fenoyty4AwdXxeh1vgtTekCQk0j-n2y2qI2hQg.JPEG.kst0712%2FDSC_3656.jpg&amp;type=f54_54\" width=\"38\"/>, <img alt=\"\" height=\"38\" onerror=\"this.parentNode.style.display='none';\" src=\"https://search.pstatic.net/common/?src=http%3A%2F%2Fcafefiles.naver.net%2FMjAyMTAyMjdfOCAg%2FMDAxNjE0Mzg3MzM2MDkx.Ck7a9KlGB98It0XkPSkNmgEpiwHQy_30h94HpGBB4Y8g.xR6v7qCAbXynuvP5TOEMnBvlC_LYnPUXbNh7Zalxfw8g.JPEG%2F%25B4%25D9%25BF%25EE%25B7%25CE%25B5%25E5_%252820%2529.jpg&amp;type=f54_54\" width=\"38\"/>, <img alt=\"\" height=\"38\" onerror=\"this.parentNode.style.display='none';\" src=\"https://search.pstatic.net/common/?src=http%3A%2F%2Fkinimage.naver.net%2F20210304_110%2F16148481267898GonM_JPEG%2F1614848126550.jpeg&amp;type=f54_54\" width=\"38\"/>, <img alt=\"\" height=\"38\" onerror=\"this.parentNode.style.display='none';\" src=\"https://search.pstatic.net/common/?src=http%3A%2F%2Fblogfiles.naver.net%2FMjAyMDAzMTJfMTY2%2FMDAxNTgzOTQwMjc1NzMy.MtDrJrEhN-70Jjp_vvbagBFBSj65DeSLwPJeWSeBODUg.gxjr7SbFp5d3ebkNIW7G4FTl5XG4Iey0g9XF4EIGc-Ig.JPEG.sinfo8282%2F04.jpg&amp;type=f54_54\" width=\"38\"/>, <img alt=\"\" height=\"38\" onerror=\"this.parentNode.style.display='none';\" src=\"https://search.pstatic.net/common/?src=http%3A%2F%2Fblogfiles.naver.net%2FMjAyMTAzMTVfMzYg%2FMDAxNjE1Nzg5NjYxNTk1.UX91mxc0RCTAi7P7ihgts9l1fvGhRa2D_qaX432yCskg.onkaXny7RHdpcqTNhdbYpJPO1BpallPYlhCKkoT1V6Qg.JPEG.sea_7852%2Fjazmin-flowers-with-copyspace-and-blue-background.jpg&amp;type=f54_54\" width=\"38\"/>, <img alt=\"\" height=\"38\" onerror=\"this.parentNode.style.display='none';\" src=\"https://search.pstatic.net/sunny/?src=https%3A%2F%2Fi.pinimg.com%2F736x%2F7b%2F2d%2Fe8%2F7b2de82e6eefd0d2db92494963d52819.jpg&amp;type=f54_54\" width=\"38\"/>, <img alt=\"\" height=\"38\" onerror=\"this.parentNode.style.display='none';\" src=\"https://search.pstatic.net/common/?src=http%3A%2F%2Fblogfiles.naver.net%2FMjAyMDAzMTlfMTI2%2FMDAxNTg0NjAwMjUwMTg1.a_p6vUwCTkGZU94O70sk83Xpu3stOP10K-3_KH_hLFIg.PbbWbTpU3k-Pip2k-kf2pNp2SEcsCcdMLHnVJDxgPYQg.PNG.pskms618%2F2020-03-19_15%253B42%253B51.PNG&amp;type=f54_54\" width=\"38\"/>, <img alt=\"\" height=\"38\" onerror=\"this.parentNode.style.display='none';\" src=\"https://search.pstatic.net/common/?src=http%3A%2F%2Fblogfiles.naver.net%2FMjAyMzAyMDZfODMg%2FMDAxNjc1NjQzNzk5OTY5.zMOx4WuBUHQqJuc1jj1LpsjfqyecyEqY2b5Uq_1RQ7og.273b4L8cpQPyuVIJP6q68bnyTqXkljCf7xgx65mtb_gg.JPEG.kimyongw2%2FKakaoTalk_20230201_195318648_03.jpg&amp;type=f54_54\" width=\"38\"/>, <img alt=\"\" height=\"38\" onerror=\"this.parentNode.style.display='none';\" src=\"https://search.pstatic.net/common/?src=http%3A%2F%2Fblogfiles.naver.net%2FMjAyMDEwMTBfMjQy%2FMDAxNjAyMjc1MjAyNjMx.RUuYcopLtziccSX9mqhADOVqgLr-p7fhMjvTj9nCjGcg.WiC1YhIn40THjVI8g4JA5klhWlk996w4zKKQesPOQZsg.JPEG.enjell1144%2Fyellow-freesia-flower-delivery.jpg&amp;type=f54_54\" width=\"38\"/>, <img alt=\"\" height=\"38\" onerror=\"this.parentNode.style.display='none';\" src=\"https://search.pstatic.net/common/?src=http%3A%2F%2Fblogfiles.naver.net%2FMjAxOTA0MTVfNTQg%2FMDAxNTU1Mjg5NjA5NjY1.vAVtxkyl-_xYYEd54ElgX75gjgmVgTmsmGN_6r91hlcg.8AYozp0lxLJWsX77K952HZgD-KUadHsLoqZu8YfBzD4g.JPEG.infogram%2F%25B0%25E8%25C0%25FD_%25C0%25CF%25B7%25AF%25BD%25BA%25C6%25AE_061.jpg&amp;type=f54_54\" width=\"38\"/>, <img alt=\"\" height=\"38\" onerror=\"this.parentNode.style.display='none';\" src=\"https://search.pstatic.net/common/?src=http%3A%2F%2Fblogfiles.naver.net%2FMjAyMjA1MDZfNyAg%2FMDAxNjUxODA2MjA4ODQ5.seKEXdM_vNNboNqmTio5VVt4MkoV7JtzzOz7GwBv1qQg.ajthuMVSRLylaL5RUnCh3jAXTUIwHlkTWrKBfFojyTgg.JPEG.wlgpdydfur12%2F20220501%25A3%25DF151405%25A3%25DFHDR.jpg&amp;type=f54_54\" width=\"38\"/>, <img alt=\"\" height=\"38\" onerror=\"this.parentNode.style.display='none';\" src=\"https://search.pstatic.net/common/?src=http%3A%2F%2Fblogfiles.naver.net%2FMjAxOTExMTZfOTkg%2FMDAxNTczODc5NTY5OTI3.a6J8edXTQMNWOAxCYQVy1rji0cGWfxDqEov2GQC3gCUg.W-XRHThii77ybDb8zliyoYzpBAvwtk4TI2Zaidz9l3gg.JPEG.heysi3%2FBeautyPlus_20191116134208219_save.jpg&amp;type=f54_54\" width=\"38\"/>, <img alt=\"\" height=\"38\" onerror=\"this.parentNode.style.display='none';\" src=\"https://search.pstatic.net/common/?src=http%3A%2F%2Fimage.nmv.naver.net%2Fcafe_2022_05_02_1013%2F47975e30-c9f7-11ec-bdfe-48df37ae3dc4_01.jpg&amp;type=f54_54\" width=\"38\"/>, <img alt=\"\" height=\"38\" onerror=\"this.parentNode.style.display='none';\" src=\"https://search.pstatic.net/sunny/?src=http%3A%2F%2Fwww.picturebook-illust.com%2Fupload_board%2Fnew_Gallery%2FOriginal%2Fm%2F201732821056.jpg&amp;type=f54_54\" width=\"38\"/>, <img alt=\"로딩중\" class=\"bg_loading\" height=\"10\" src=\"https://ssl.pstatic.net/sstatic/search/pc/2016/img/blank.gif\" width=\"100%\"/>]\n"
     ]
    }
   ],
   "source": [
    "key = input('검색어 >>> ')\n",
    "url = 'https://search.naver.com/search.naver'\n",
    "param = {\n",
    "    'where':'image', \n",
    "    'sm':'tab_jum', \n",
    "    'query':key\n",
    "}\n",
    "\n",
    "r = requests.get(url, params=param)\n",
    "soup = BeautifulSoup(r.text, 'lxml')\n",
    "result = soup.find_all('img')\n",
    "print(result)"
   ]
  },
  {
   "cell_type": "code",
   "execution_count": 10,
   "id": "0d6c3392-9006-4230-8120-8cf389b6c2ae",
   "metadata": {
    "collapsed": true,
    "jupyter": {
     "outputs_hidden": true
    },
    "tags": []
   },
   "outputs": [
    {
     "name": "stdin",
     "output_type": "stream",
     "text": [
      "검색어 >>>  봄\n"
     ]
    },
    {
     "name": "stdout",
     "output_type": "stream",
     "text": [
      "https://search.pstatic.net/common/?src=http%3A%2F%2Fcafefiles.naver.net%2FMjAyMTAyMjhfMTU1%2FMDAxNjE0NDY5NjQzMTcw.YhwEgIQB_QTRGwRXWVNW50MwLxdSUt-iTuE5snyEhl0g.MF8kozbobjg4IQaNw6CvGJy1ZG2RYCZ7M4S3mGGbpD4g.JPEG%2F16144695598924905842576595907778.jpg&type=f54_54\n",
      "https://search.pstatic.net/common/?src=http%3A%2F%2Fblogfiles.naver.net%2FMjAyMjAzMDdfMTY2%2FMDAxNjQ2NjEzNTU4OTMx.jtI5WTGhkp-FPP0mPxXa9LoQwrHB4rU_0IpvtD7awm4g.peBwo-39I5RREUeoiIP0bIoW-HEIXGv5uFW8yvYU2ccg.JPEG.nexusbooks%2F%25BA%25BD.jpg&type=f54_54\n",
      "https://search.pstatic.net/common/?src=http%3A%2F%2Fblogfiles.naver.net%2FMjAyMjAzMThfMTky%2FMDAxNjQ3NTkyNzM4NzYy.8X0SQTGsYCVeBX5fu2leohjz3dOaTvXBiKK1gpz6FPwg.HDHRWPeyhLk0gduZpJvig8BoiUHVK_2z4k1p4E8Vtv4g.PNG.bbalsong%2F%25BA%25BD3%25BF%25F9%25C0%25CE%25BB%25E7%25B9%25AE%25B1%25B8-001.png&type=f54_54\n",
      "https://search.pstatic.net/common/?src=http%3A%2F%2Fblogfiles.naver.net%2FMjAyMjA1MzFfMjk2%2FMDAxNjU0MDA0NDk0NzMy.exvL9O02gz_6hyqbNY5OWvhiDWgI1z91GkvvmjVhwA0g.f0NiD4Fenoyty4AwdXxeh1vgtTekCQk0j-n2y2qI2hQg.JPEG.kst0712%2FDSC_3656.jpg&type=f54_54\n",
      "https://search.pstatic.net/common/?src=http%3A%2F%2Fcafefiles.naver.net%2FMjAyMTAyMjdfOCAg%2FMDAxNjE0Mzg3MzM2MDkx.Ck7a9KlGB98It0XkPSkNmgEpiwHQy_30h94HpGBB4Y8g.xR6v7qCAbXynuvP5TOEMnBvlC_LYnPUXbNh7Zalxfw8g.JPEG%2F%25B4%25D9%25BF%25EE%25B7%25CE%25B5%25E5_%252820%2529.jpg&type=f54_54\n",
      "https://search.pstatic.net/common/?src=http%3A%2F%2Fkinimage.naver.net%2F20210304_110%2F16148481267898GonM_JPEG%2F1614848126550.jpeg&type=f54_54\n",
      "https://search.pstatic.net/common/?src=http%3A%2F%2Fblogfiles.naver.net%2FMjAyMDAzMTJfMTY2%2FMDAxNTgzOTQwMjc1NzMy.MtDrJrEhN-70Jjp_vvbagBFBSj65DeSLwPJeWSeBODUg.gxjr7SbFp5d3ebkNIW7G4FTl5XG4Iey0g9XF4EIGc-Ig.JPEG.sinfo8282%2F04.jpg&type=f54_54\n",
      "https://search.pstatic.net/common/?src=http%3A%2F%2Fblogfiles.naver.net%2FMjAyMTAzMTVfMzYg%2FMDAxNjE1Nzg5NjYxNTk1.UX91mxc0RCTAi7P7ihgts9l1fvGhRa2D_qaX432yCskg.onkaXny7RHdpcqTNhdbYpJPO1BpallPYlhCKkoT1V6Qg.JPEG.sea_7852%2Fjazmin-flowers-with-copyspace-and-blue-background.jpg&type=f54_54\n",
      "https://search.pstatic.net/sunny/?src=https%3A%2F%2Fi.pinimg.com%2F736x%2F7b%2F2d%2Fe8%2F7b2de82e6eefd0d2db92494963d52819.jpg&type=f54_54\n",
      "https://search.pstatic.net/common/?src=http%3A%2F%2Fblogfiles.naver.net%2FMjAyMDAzMTlfMTI2%2FMDAxNTg0NjAwMjUwMTg1.a_p6vUwCTkGZU94O70sk83Xpu3stOP10K-3_KH_hLFIg.PbbWbTpU3k-Pip2k-kf2pNp2SEcsCcdMLHnVJDxgPYQg.PNG.pskms618%2F2020-03-19_15%253B42%253B51.PNG&type=f54_54\n",
      "https://search.pstatic.net/common/?src=http%3A%2F%2Fblogfiles.naver.net%2FMjAyMzAyMDZfODMg%2FMDAxNjc1NjQzNzk5OTY5.zMOx4WuBUHQqJuc1jj1LpsjfqyecyEqY2b5Uq_1RQ7og.273b4L8cpQPyuVIJP6q68bnyTqXkljCf7xgx65mtb_gg.JPEG.kimyongw2%2FKakaoTalk_20230201_195318648_03.jpg&type=f54_54\n",
      "https://search.pstatic.net/common/?src=http%3A%2F%2Fblogfiles.naver.net%2FMjAyMDEwMTBfMjQy%2FMDAxNjAyMjc1MjAyNjMx.RUuYcopLtziccSX9mqhADOVqgLr-p7fhMjvTj9nCjGcg.WiC1YhIn40THjVI8g4JA5klhWlk996w4zKKQesPOQZsg.JPEG.enjell1144%2Fyellow-freesia-flower-delivery.jpg&type=f54_54\n",
      "https://search.pstatic.net/common/?src=http%3A%2F%2Fblogfiles.naver.net%2FMjAxOTA0MTVfNTQg%2FMDAxNTU1Mjg5NjA5NjY1.vAVtxkyl-_xYYEd54ElgX75gjgmVgTmsmGN_6r91hlcg.8AYozp0lxLJWsX77K952HZgD-KUadHsLoqZu8YfBzD4g.JPEG.infogram%2F%25B0%25E8%25C0%25FD_%25C0%25CF%25B7%25AF%25BD%25BA%25C6%25AE_061.jpg&type=f54_54\n",
      "https://search.pstatic.net/common/?src=http%3A%2F%2Fblogfiles.naver.net%2FMjAyMjA1MDZfNyAg%2FMDAxNjUxODA2MjA4ODQ5.seKEXdM_vNNboNqmTio5VVt4MkoV7JtzzOz7GwBv1qQg.ajthuMVSRLylaL5RUnCh3jAXTUIwHlkTWrKBfFojyTgg.JPEG.wlgpdydfur12%2F20220501%25A3%25DF151405%25A3%25DFHDR.jpg&type=f54_54\n",
      "https://search.pstatic.net/common/?src=http%3A%2F%2Fblogfiles.naver.net%2FMjAxOTExMTZfOTkg%2FMDAxNTczODc5NTY5OTI3.a6J8edXTQMNWOAxCYQVy1rji0cGWfxDqEov2GQC3gCUg.W-XRHThii77ybDb8zliyoYzpBAvwtk4TI2Zaidz9l3gg.JPEG.heysi3%2FBeautyPlus_20191116134208219_save.jpg&type=f54_54\n",
      "https://search.pstatic.net/common/?src=http%3A%2F%2Fimage.nmv.naver.net%2Fcafe_2022_05_02_1013%2F47975e30-c9f7-11ec-bdfe-48df37ae3dc4_01.jpg&type=f54_54\n",
      "https://search.pstatic.net/sunny/?src=http%3A%2F%2Fwww.picturebook-illust.com%2Fupload_board%2Fnew_Gallery%2FOriginal%2Fm%2F201732821056.jpg&type=f54_54\n",
      "https://ssl.pstatic.net/sstatic/search/pc/2016/img/blank.gif\n"
     ]
    }
   ],
   "source": [
    "key = input('검색어 >>> ')\n",
    "url = 'https://search.naver.com/search.naver'\n",
    "param = {\n",
    "    'where':'image', \n",
    "    'sm':'tab_jum', \n",
    "    'query':key\n",
    "}\n",
    "\n",
    "r = requests.get(url, params=param)\n",
    "soup = BeautifulSoup(r.text, 'lxml')\n",
    "result = soup.find_all('img')\n",
    "# print(result)\n",
    "\n",
    "for item in result:\n",
    "    print(item['src'])"
   ]
  },
  {
   "cell_type": "code",
   "execution_count": 8,
   "id": "7ad40ed3-7601-483c-846b-9997eee6a7b6",
   "metadata": {
    "collapsed": true,
    "jupyter": {
     "outputs_hidden": true
    },
    "tags": []
   },
   "outputs": [
    {
     "name": "stdin",
     "output_type": "stream",
     "text": [
      "검색어 >>>  봄\n"
     ]
    },
    {
     "name": "stdout",
     "output_type": "stream",
     "text": [
      "[<img alt=\"\" height=\"38\" onerror=\"this.parentNode.style.display='none';\" src=\"https://search.pstatic.net/common/?src=http%3A%2F%2Fcafefiles.naver.net%2FMjAyMTAyMjhfMTU1%2FMDAxNjE0NDY5NjQzMTcw.YhwEgIQB_QTRGwRXWVNW50MwLxdSUt-iTuE5snyEhl0g.MF8kozbobjg4IQaNw6CvGJy1ZG2RYCZ7M4S3mGGbpD4g.JPEG%2F16144695598924905842576595907778.jpg&amp;type=f54_54\" width=\"38\"/>, <img alt=\"\" height=\"38\" onerror=\"this.parentNode.style.display='none';\" src=\"https://search.pstatic.net/common/?src=http%3A%2F%2Fblogfiles.naver.net%2FMjAyMjAzMDdfMTY2%2FMDAxNjQ2NjEzNTU4OTMx.jtI5WTGhkp-FPP0mPxXa9LoQwrHB4rU_0IpvtD7awm4g.peBwo-39I5RREUeoiIP0bIoW-HEIXGv5uFW8yvYU2ccg.JPEG.nexusbooks%2F%25BA%25BD.jpg&amp;type=f54_54\" width=\"38\"/>, <img alt=\"\" height=\"38\" onerror=\"this.parentNode.style.display='none';\" src=\"https://search.pstatic.net/common/?src=http%3A%2F%2Fblogfiles.naver.net%2FMjAyMjAzMThfMTky%2FMDAxNjQ3NTkyNzM4NzYy.8X0SQTGsYCVeBX5fu2leohjz3dOaTvXBiKK1gpz6FPwg.HDHRWPeyhLk0gduZpJvig8BoiUHVK_2z4k1p4E8Vtv4g.PNG.bbalsong%2F%25BA%25BD3%25BF%25F9%25C0%25CE%25BB%25E7%25B9%25AE%25B1%25B8-001.png&amp;type=f54_54\" width=\"38\"/>, <img alt=\"\" height=\"38\" onerror=\"this.parentNode.style.display='none';\" src=\"https://search.pstatic.net/common/?src=http%3A%2F%2Fblogfiles.naver.net%2FMjAyMjA1MzFfMjk2%2FMDAxNjU0MDA0NDk0NzMy.exvL9O02gz_6hyqbNY5OWvhiDWgI1z91GkvvmjVhwA0g.f0NiD4Fenoyty4AwdXxeh1vgtTekCQk0j-n2y2qI2hQg.JPEG.kst0712%2FDSC_3656.jpg&amp;type=f54_54\" width=\"38\"/>, <img alt=\"\" height=\"38\" onerror=\"this.parentNode.style.display='none';\" src=\"https://search.pstatic.net/common/?src=http%3A%2F%2Fcafefiles.naver.net%2FMjAyMTAyMjdfOCAg%2FMDAxNjE0Mzg3MzM2MDkx.Ck7a9KlGB98It0XkPSkNmgEpiwHQy_30h94HpGBB4Y8g.xR6v7qCAbXynuvP5TOEMnBvlC_LYnPUXbNh7Zalxfw8g.JPEG%2F%25B4%25D9%25BF%25EE%25B7%25CE%25B5%25E5_%252820%2529.jpg&amp;type=f54_54\" width=\"38\"/>, <img alt=\"\" height=\"38\" onerror=\"this.parentNode.style.display='none';\" src=\"https://search.pstatic.net/common/?src=http%3A%2F%2Fkinimage.naver.net%2F20210304_110%2F16148481267898GonM_JPEG%2F1614848126550.jpeg&amp;type=f54_54\" width=\"38\"/>, <img alt=\"\" height=\"38\" onerror=\"this.parentNode.style.display='none';\" src=\"https://search.pstatic.net/common/?src=http%3A%2F%2Fblogfiles.naver.net%2FMjAyMDAzMTJfMTY2%2FMDAxNTgzOTQwMjc1NzMy.MtDrJrEhN-70Jjp_vvbagBFBSj65DeSLwPJeWSeBODUg.gxjr7SbFp5d3ebkNIW7G4FTl5XG4Iey0g9XF4EIGc-Ig.JPEG.sinfo8282%2F04.jpg&amp;type=f54_54\" width=\"38\"/>, <img alt=\"\" height=\"38\" onerror=\"this.parentNode.style.display='none';\" src=\"https://search.pstatic.net/common/?src=http%3A%2F%2Fblogfiles.naver.net%2FMjAyMTAzMTVfMzYg%2FMDAxNjE1Nzg5NjYxNTk1.UX91mxc0RCTAi7P7ihgts9l1fvGhRa2D_qaX432yCskg.onkaXny7RHdpcqTNhdbYpJPO1BpallPYlhCKkoT1V6Qg.JPEG.sea_7852%2Fjazmin-flowers-with-copyspace-and-blue-background.jpg&amp;type=f54_54\" width=\"38\"/>, <img alt=\"\" height=\"38\" onerror=\"this.parentNode.style.display='none';\" src=\"https://search.pstatic.net/sunny/?src=https%3A%2F%2Fi.pinimg.com%2F736x%2F7b%2F2d%2Fe8%2F7b2de82e6eefd0d2db92494963d52819.jpg&amp;type=f54_54\" width=\"38\"/>, <img alt=\"\" height=\"38\" onerror=\"this.parentNode.style.display='none';\" src=\"https://search.pstatic.net/common/?src=http%3A%2F%2Fblogfiles.naver.net%2FMjAyMDAzMTlfMTI2%2FMDAxNTg0NjAwMjUwMTg1.a_p6vUwCTkGZU94O70sk83Xpu3stOP10K-3_KH_hLFIg.PbbWbTpU3k-Pip2k-kf2pNp2SEcsCcdMLHnVJDxgPYQg.PNG.pskms618%2F2020-03-19_15%253B42%253B51.PNG&amp;type=f54_54\" width=\"38\"/>, <img alt=\"\" height=\"38\" onerror=\"this.parentNode.style.display='none';\" src=\"https://search.pstatic.net/common/?src=http%3A%2F%2Fblogfiles.naver.net%2FMjAyMzAyMDZfODMg%2FMDAxNjc1NjQzNzk5OTY5.zMOx4WuBUHQqJuc1jj1LpsjfqyecyEqY2b5Uq_1RQ7og.273b4L8cpQPyuVIJP6q68bnyTqXkljCf7xgx65mtb_gg.JPEG.kimyongw2%2FKakaoTalk_20230201_195318648_03.jpg&amp;type=f54_54\" width=\"38\"/>, <img alt=\"\" height=\"38\" onerror=\"this.parentNode.style.display='none';\" src=\"https://search.pstatic.net/common/?src=http%3A%2F%2Fblogfiles.naver.net%2FMjAyMDEwMTBfMjQy%2FMDAxNjAyMjc1MjAyNjMx.RUuYcopLtziccSX9mqhADOVqgLr-p7fhMjvTj9nCjGcg.WiC1YhIn40THjVI8g4JA5klhWlk996w4zKKQesPOQZsg.JPEG.enjell1144%2Fyellow-freesia-flower-delivery.jpg&amp;type=f54_54\" width=\"38\"/>, <img alt=\"\" height=\"38\" onerror=\"this.parentNode.style.display='none';\" src=\"https://search.pstatic.net/common/?src=http%3A%2F%2Fblogfiles.naver.net%2FMjAxOTA0MTVfNTQg%2FMDAxNTU1Mjg5NjA5NjY1.vAVtxkyl-_xYYEd54ElgX75gjgmVgTmsmGN_6r91hlcg.8AYozp0lxLJWsX77K952HZgD-KUadHsLoqZu8YfBzD4g.JPEG.infogram%2F%25B0%25E8%25C0%25FD_%25C0%25CF%25B7%25AF%25BD%25BA%25C6%25AE_061.jpg&amp;type=f54_54\" width=\"38\"/>, <img alt=\"\" height=\"38\" onerror=\"this.parentNode.style.display='none';\" src=\"https://search.pstatic.net/common/?src=http%3A%2F%2Fblogfiles.naver.net%2FMjAyMjA1MDZfNyAg%2FMDAxNjUxODA2MjA4ODQ5.seKEXdM_vNNboNqmTio5VVt4MkoV7JtzzOz7GwBv1qQg.ajthuMVSRLylaL5RUnCh3jAXTUIwHlkTWrKBfFojyTgg.JPEG.wlgpdydfur12%2F20220501%25A3%25DF151405%25A3%25DFHDR.jpg&amp;type=f54_54\" width=\"38\"/>, <img alt=\"\" height=\"38\" onerror=\"this.parentNode.style.display='none';\" src=\"https://search.pstatic.net/common/?src=http%3A%2F%2Fblogfiles.naver.net%2FMjAxOTExMTZfOTkg%2FMDAxNTczODc5NTY5OTI3.a6J8edXTQMNWOAxCYQVy1rji0cGWfxDqEov2GQC3gCUg.W-XRHThii77ybDb8zliyoYzpBAvwtk4TI2Zaidz9l3gg.JPEG.heysi3%2FBeautyPlus_20191116134208219_save.jpg&amp;type=f54_54\" width=\"38\"/>, <img alt=\"\" height=\"38\" onerror=\"this.parentNode.style.display='none';\" src=\"https://search.pstatic.net/common/?src=http%3A%2F%2Fimage.nmv.naver.net%2Fcafe_2022_05_02_1013%2F47975e30-c9f7-11ec-bdfe-48df37ae3dc4_01.jpg&amp;type=f54_54\" width=\"38\"/>, <img alt=\"\" height=\"38\" onerror=\"this.parentNode.style.display='none';\" src=\"https://search.pstatic.net/sunny/?src=http%3A%2F%2Fwww.picturebook-illust.com%2Fupload_board%2Fnew_Gallery%2FOriginal%2Fm%2F201732821056.jpg&amp;type=f54_54\" width=\"38\"/>, <img alt=\"로딩중\" class=\"bg_loading\" height=\"10\" src=\"https://ssl.pstatic.net/sstatic/search/pc/2016/img/blank.gif\" width=\"100%\"/>]\n",
      "https://search.pstatic.net/common/?src=http%3A%2F%2Fcafefiles.naver.net%2FMjAyMTAyMjhfMTU1%2FMDAxNjE0NDY5NjQzMTcw.YhwEgIQB_QTRGwRXWVNW50MwLxdSUt-iTuE5snyEhl0g.MF8kozbobjg4IQaNw6CvGJy1ZG2RYCZ7M4S3mGGbpD4g.JPEG%2F16144695598924905842576595907778.jpg\n",
      "https://search.pstatic.net/common/?src=http%3A%2F%2Fblogfiles.naver.net%2FMjAyMjAzMDdfMTY2%2FMDAxNjQ2NjEzNTU4OTMx.jtI5WTGhkp-FPP0mPxXa9LoQwrHB4rU_0IpvtD7awm4g.peBwo-39I5RREUeoiIP0bIoW-HEIXGv5uFW8yvYU2ccg.JPEG.nexusbooks%2F%25BA%25BD.jpg\n",
      "https://search.pstatic.net/common/?src=http%3A%2F%2Fblogfiles.naver.net%2FMjAyMjAzMThfMTky%2FMDAxNjQ3NTkyNzM4NzYy.8X0SQTGsYCVeBX5fu2leohjz3dOaTvXBiKK1gpz6FPwg.HDHRWPeyhLk0gduZpJvig8BoiUHVK_2z4k1p4E8Vtv4g.PNG.bbalsong%2F%25BA%25BD3%25BF%25F9%25C0%25CE%25BB%25E7%25B9%25AE%25B1%25B8-001.png\n",
      "https://search.pstatic.net/common/?src=http%3A%2F%2Fblogfiles.naver.net%2FMjAyMjA1MzFfMjk2%2FMDAxNjU0MDA0NDk0NzMy.exvL9O02gz_6hyqbNY5OWvhiDWgI1z91GkvvmjVhwA0g.f0NiD4Fenoyty4AwdXxeh1vgtTekCQk0j-n2y2qI2hQg.JPEG.kst0712%2FDSC_3656.jpg\n",
      "https://search.pstatic.net/common/?src=http%3A%2F%2Fcafefiles.naver.net%2FMjAyMTAyMjdfOCAg%2FMDAxNjE0Mzg3MzM2MDkx.Ck7a9KlGB98It0XkPSkNmgEpiwHQy_30h94HpGBB4Y8g.xR6v7qCAbXynuvP5TOEMnBvlC_LYnPUXbNh7Zalxfw8g.JPEG%2F%25B4%25D9%25BF%25EE%25B7%25CE%25B5%25E5_%252820%2529.jpg\n",
      "https://search.pstatic.net/common/?src=http%3A%2F%2Fkinimage.naver.net%2F20210304_110%2F16148481267898GonM_JPEG%2F1614848126550.jpeg\n",
      "https://search.pstatic.net/common/?src=http%3A%2F%2Fblogfiles.naver.net%2FMjAyMDAzMTJfMTY2%2FMDAxNTgzOTQwMjc1NzMy.MtDrJrEhN-70Jjp_vvbagBFBSj65DeSLwPJeWSeBODUg.gxjr7SbFp5d3ebkNIW7G4FTl5XG4Iey0g9XF4EIGc-Ig.JPEG.sinfo8282%2F04.jpg\n",
      "https://search.pstatic.net/common/?src=http%3A%2F%2Fblogfiles.naver.net%2FMjAyMTAzMTVfMzYg%2FMDAxNjE1Nzg5NjYxNTk1.UX91mxc0RCTAi7P7ihgts9l1fvGhRa2D_qaX432yCskg.onkaXny7RHdpcqTNhdbYpJPO1BpallPYlhCKkoT1V6Qg.JPEG.sea_7852%2Fjazmin-flowers-with-copyspace-and-blue-background.jpg\n",
      "https://search.pstatic.net/sunny/?src=https%3A%2F%2Fi.pinimg.com%2F736x%2F7b%2F2d%2Fe8%2F7b2de82e6eefd0d2db92494963d52819.jpg\n",
      "https://search.pstatic.net/common/?src=http%3A%2F%2Fblogfiles.naver.net%2FMjAyMDAzMTlfMTI2%2FMDAxNTg0NjAwMjUwMTg1.a_p6vUwCTkGZU94O70sk83Xpu3stOP10K-3_KH_hLFIg.PbbWbTpU3k-Pip2k-kf2pNp2SEcsCcdMLHnVJDxgPYQg.PNG.pskms618%2F2020-03-19_15%253B42%253B51.PNG\n",
      "https://search.pstatic.net/common/?src=http%3A%2F%2Fblogfiles.naver.net%2FMjAyMzAyMDZfODMg%2FMDAxNjc1NjQzNzk5OTY5.zMOx4WuBUHQqJuc1jj1LpsjfqyecyEqY2b5Uq_1RQ7og.273b4L8cpQPyuVIJP6q68bnyTqXkljCf7xgx65mtb_gg.JPEG.kimyongw2%2FKakaoTalk_20230201_195318648_03.jpg\n",
      "https://search.pstatic.net/common/?src=http%3A%2F%2Fblogfiles.naver.net%2FMjAyMDEwMTBfMjQy%2FMDAxNjAyMjc1MjAyNjMx.RUuYcopLtziccSX9mqhADOVqgLr-p7fhMjvTj9nCjGcg.WiC1YhIn40THjVI8g4JA5klhWlk996w4zKKQesPOQZsg.JPEG.enjell1144%2Fyellow-freesia-flower-delivery.jpg\n",
      "https://search.pstatic.net/common/?src=http%3A%2F%2Fblogfiles.naver.net%2FMjAxOTA0MTVfNTQg%2FMDAxNTU1Mjg5NjA5NjY1.vAVtxkyl-_xYYEd54ElgX75gjgmVgTmsmGN_6r91hlcg.8AYozp0lxLJWsX77K952HZgD-KUadHsLoqZu8YfBzD4g.JPEG.infogram%2F%25B0%25E8%25C0%25FD_%25C0%25CF%25B7%25AF%25BD%25BA%25C6%25AE_061.jpg\n",
      "https://search.pstatic.net/common/?src=http%3A%2F%2Fblogfiles.naver.net%2FMjAyMjA1MDZfNyAg%2FMDAxNjUxODA2MjA4ODQ5.seKEXdM_vNNboNqmTio5VVt4MkoV7JtzzOz7GwBv1qQg.ajthuMVSRLylaL5RUnCh3jAXTUIwHlkTWrKBfFojyTgg.JPEG.wlgpdydfur12%2F20220501%25A3%25DF151405%25A3%25DFHDR.jpg\n",
      "https://search.pstatic.net/common/?src=http%3A%2F%2Fblogfiles.naver.net%2FMjAxOTExMTZfOTkg%2FMDAxNTczODc5NTY5OTI3.a6J8edXTQMNWOAxCYQVy1rji0cGWfxDqEov2GQC3gCUg.W-XRHThii77ybDb8zliyoYzpBAvwtk4TI2Zaidz9l3gg.JPEG.heysi3%2FBeautyPlus_20191116134208219_save.jpg\n",
      "https://search.pstatic.net/common/?src=http%3A%2F%2Fimage.nmv.naver.net%2Fcafe_2022_05_02_1013%2F47975e30-c9f7-11ec-bdfe-48df37ae3dc4_01.jpg\n",
      "https://search.pstatic.net/sunny/?src=http%3A%2F%2Fwww.picturebook-illust.com%2Fupload_board%2Fnew_Gallery%2FOriginal%2Fm%2F201732821056.jpg\n"
     ]
    },
    {
     "ename": "ValueError",
     "evalue": "substring not found",
     "output_type": "error",
     "traceback": [
      "\u001b[1;31m---------------------------------------------------------------------------\u001b[0m",
      "\u001b[1;31mValueError\u001b[0m                                Traceback (most recent call last)",
      "Cell \u001b[1;32mIn[8], line 16\u001b[0m\n\u001b[0;32m     12\u001b[0m \u001b[38;5;28mprint\u001b[39m(result)\n\u001b[0;32m     14\u001b[0m \u001b[38;5;28;01mfor\u001b[39;00m item \u001b[38;5;129;01min\u001b[39;00m result:\n\u001b[0;32m     15\u001b[0m     \u001b[38;5;66;03m# print(item['src'])\u001b[39;00m\n\u001b[1;32m---> 16\u001b[0m     index \u001b[38;5;241m=\u001b[39m \u001b[43mitem\u001b[49m\u001b[43m[\u001b[49m\u001b[38;5;124;43m'\u001b[39;49m\u001b[38;5;124;43msrc\u001b[39;49m\u001b[38;5;124;43m'\u001b[39;49m\u001b[43m]\u001b[49m\u001b[38;5;241;43m.\u001b[39;49m\u001b[43mindex\u001b[49m\u001b[43m(\u001b[49m\u001b[38;5;124;43m'\u001b[39;49m\u001b[38;5;124;43m&\u001b[39;49m\u001b[38;5;124;43m'\u001b[39;49m\u001b[43m)\u001b[49m\n\u001b[0;32m     17\u001b[0m     src \u001b[38;5;241m=\u001b[39m item[\u001b[38;5;124m'\u001b[39m\u001b[38;5;124msrc\u001b[39m\u001b[38;5;124m'\u001b[39m][:index]\n\u001b[0;32m     18\u001b[0m     \u001b[38;5;28mprint\u001b[39m(src)\n",
      "\u001b[1;31mValueError\u001b[0m: substring not found"
     ]
    }
   ],
   "source": [
    "key = input('검색어 >>> ')\n",
    "url = 'https://search.naver.com/search.naver'\n",
    "param = {\n",
    "    'where':'image', \n",
    "    'sm':'tab_jum', \n",
    "    'query':key\n",
    "}\n",
    "\n",
    "r = requests.get(url, params=param)\n",
    "soup = BeautifulSoup(r.text, 'lxml')\n",
    "result = soup.find_all('img')\n",
    "# print(result)\n",
    "\n",
    "for item in result:\n",
    "    # print(item['src'])\n",
    "    index = item['src'].index('&')\n",
    "    src = item['src'][:index]\n",
    "    print(src)"
   ]
  },
  {
   "cell_type": "code",
   "execution_count": 14,
   "id": "09d613fd-17e7-414d-af38-a8c3589f48f6",
   "metadata": {
    "collapsed": true,
    "jupyter": {
     "outputs_hidden": true
    },
    "tags": []
   },
   "outputs": [
    {
     "name": "stdin",
     "output_type": "stream",
     "text": [
      "검색어 >>>  봄\n"
     ]
    },
    {
     "name": "stdout",
     "output_type": "stream",
     "text": [
      "247\n",
      "https://search.pstatic.net/common/?src=http%3A%2F%2Fcafefiles.naver.net%2FMjAyMTAyMjhfMTU1%2FMDAxNjE0NDY5NjQzMTcw.YhwEgIQB_QTRGwRXWVNW50MwLxdSUt-iTuE5snyEhl0g.MF8kozbobjg4IQaNw6CvGJy1ZG2RYCZ7M4S3mGGbpD4g.JPEG%2F16144695598924905842576595907778.jpg\n",
      "236\n",
      "https://search.pstatic.net/common/?src=http%3A%2F%2Fblogfiles.naver.net%2FMjAyMjAzMDdfMTY2%2FMDAxNjQ2NjEzNTU4OTMx.jtI5WTGhkp-FPP0mPxXa9LoQwrHB4rU_0IpvtD7awm4g.peBwo-39I5RREUeoiIP0bIoW-HEIXGv5uFW8yvYU2ccg.JPEG.nexusbooks%2F%25BA%25BD.jpg\n",
      "288\n",
      "https://search.pstatic.net/common/?src=http%3A%2F%2Fblogfiles.naver.net%2FMjAyMjAzMThfMTky%2FMDAxNjQ3NTkyNzM4NzYy.8X0SQTGsYCVeBX5fu2leohjz3dOaTvXBiKK1gpz6FPwg.HDHRWPeyhLk0gduZpJvig8BoiUHVK_2z4k1p4E8Vtv4g.PNG.bbalsong%2F%25BA%25BD3%25BF%25F9%25C0%25CE%25BB%25E7%25B9%25AE%25B1%25B8-001.png\n",
      "231\n",
      "https://search.pstatic.net/common/?src=http%3A%2F%2Fblogfiles.naver.net%2FMjAyMjA1MzFfMjk2%2FMDAxNjU0MDA0NDk0NzMy.exvL9O02gz_6hyqbNY5OWvhiDWgI1z91GkvvmjVhwA0g.f0NiD4Fenoyty4AwdXxeh1vgtTekCQk0j-n2y2qI2hQg.JPEG.kst0712%2FDSC_3656.jpg\n",
      "268\n",
      "https://search.pstatic.net/common/?src=http%3A%2F%2Fcafefiles.naver.net%2FMjAyMTAyMjdfOCAg%2FMDAxNjE0Mzg3MzM2MDkx.Ck7a9KlGB98It0XkPSkNmgEpiwHQy_30h94HpGBB4Y8g.xR6v7qCAbXynuvP5TOEMnBvlC_LYnPUXbNh7Zalxfw8g.JPEG%2F%25B4%25D9%25BF%25EE%25B7%25CE%25B5%25E5_%252820%2529.jpg\n",
      "132\n",
      "https://search.pstatic.net/common/?src=http%3A%2F%2Fkinimage.naver.net%2F20210304_110%2F16148481267898GonM_JPEG%2F1614848126550.jpeg\n",
      "227\n",
      "https://search.pstatic.net/common/?src=http%3A%2F%2Fblogfiles.naver.net%2FMjAyMDAzMTJfMTY2%2FMDAxNTgzOTQwMjc1NzMy.MtDrJrEhN-70Jjp_vvbagBFBSj65DeSLwPJeWSeBODUg.gxjr7SbFp5d3ebkNIW7G4FTl5XG4Iey0g9XF4EIGc-Ig.JPEG.sinfo8282%2F04.jpg\n",
      "273\n",
      "https://search.pstatic.net/common/?src=http%3A%2F%2Fblogfiles.naver.net%2FMjAyMTAzMTVfMzYg%2FMDAxNjE1Nzg5NjYxNTk1.UX91mxc0RCTAi7P7ihgts9l1fvGhRa2D_qaX432yCskg.onkaXny7RHdpcqTNhdbYpJPO1BpallPYlhCKkoT1V6Qg.JPEG.sea_7852%2Fjazmin-flowers-with-copyspace-and-blue-background.jpg\n",
      "125\n",
      "https://search.pstatic.net/sunny/?src=https%3A%2F%2Fi.pinimg.com%2F736x%2F7b%2F2d%2Fe8%2F7b2de82e6eefd0d2db92494963d52819.jpg\n",
      "250\n",
      "https://search.pstatic.net/common/?src=http%3A%2F%2Fblogfiles.naver.net%2FMjAyMDAzMTlfMTI2%2FMDAxNTg0NjAwMjUwMTg1.a_p6vUwCTkGZU94O70sk83Xpu3stOP10K-3_KH_hLFIg.PbbWbTpU3k-Pip2k-kf2pNp2SEcsCcdMLHnVJDxgPYQg.PNG.pskms618%2F2020-03-19_15%253B42%253B51.PNG\n",
      "256\n",
      "https://search.pstatic.net/common/?src=http%3A%2F%2Fblogfiles.naver.net%2FMjAyMzAyMDZfODMg%2FMDAxNjc1NjQzNzk5OTY5.zMOx4WuBUHQqJuc1jj1LpsjfqyecyEqY2b5Uq_1RQ7og.273b4L8cpQPyuVIJP6q68bnyTqXkljCf7xgx65mtb_gg.JPEG.kimyongw2%2FKakaoTalk_20230201_195318648_03.jpg\n",
      "256\n",
      "https://search.pstatic.net/common/?src=http%3A%2F%2Fblogfiles.naver.net%2FMjAyMDEwMTBfMjQy%2FMDAxNjAyMjc1MjAyNjMx.RUuYcopLtziccSX9mqhADOVqgLr-p7fhMjvTj9nCjGcg.WiC1YhIn40THjVI8g4JA5klhWlk996w4zKKQesPOQZsg.JPEG.enjell1144%2Fyellow-freesia-flower-delivery.jpg\n",
      "289\n",
      "https://search.pstatic.net/common/?src=http%3A%2F%2Fblogfiles.naver.net%2FMjAxOTA0MTVfNTQg%2FMDAxNTU1Mjg5NjA5NjY1.vAVtxkyl-_xYYEd54ElgX75gjgmVgTmsmGN_6r91hlcg.8AYozp0lxLJWsX77K952HZgD-KUadHsLoqZu8YfBzD4g.JPEG.infogram%2F%25B0%25E8%25C0%25FD_%25C0%25CF%25B7%25AF%25BD%25BA%25C6%25AE_061.jpg\n",
      "265\n",
      "https://search.pstatic.net/common/?src=http%3A%2F%2Fblogfiles.naver.net%2FMjAyMjA1MDZfNyAg%2FMDAxNjUxODA2MjA4ODQ5.seKEXdM_vNNboNqmTio5VVt4MkoV7JtzzOz7GwBv1qQg.ajthuMVSRLylaL5RUnCh3jAXTUIwHlkTWrKBfFojyTgg.JPEG.wlgpdydfur12%2F20220501%25A3%25DF151405%25A3%25DFHDR.jpg\n",
      "255\n",
      "https://search.pstatic.net/common/?src=http%3A%2F%2Fblogfiles.naver.net%2FMjAxOTExMTZfOTkg%2FMDAxNTczODc5NTY5OTI3.a6J8edXTQMNWOAxCYQVy1rji0cGWfxDqEov2GQC3gCUg.W-XRHThii77ybDb8zliyoYzpBAvwtk4TI2Zaidz9l3gg.JPEG.heysi3%2FBeautyPlus_20191116134208219_save.jpg\n",
      "140\n",
      "https://search.pstatic.net/common/?src=http%3A%2F%2Fimage.nmv.naver.net%2Fcafe_2022_05_02_1013%2F47975e30-c9f7-11ec-bdfe-48df37ae3dc4_01.jpg\n",
      "140\n",
      "https://search.pstatic.net/sunny/?src=http%3A%2F%2Fwww.picturebook-illust.com%2Fupload_board%2Fnew_Gallery%2FOriginal%2Fm%2F201732821056.jpg\n"
     ]
    },
    {
     "ename": "ValueError",
     "evalue": "substring not found",
     "output_type": "error",
     "traceback": [
      "\u001b[1;31m---------------------------------------------------------------------------\u001b[0m",
      "\u001b[1;31mValueError\u001b[0m                                Traceback (most recent call last)",
      "Cell \u001b[1;32mIn[14], line 16\u001b[0m\n\u001b[0;32m     12\u001b[0m \u001b[38;5;66;03m# print(result)\u001b[39;00m\n\u001b[0;32m     14\u001b[0m \u001b[38;5;28;01mfor\u001b[39;00m item \u001b[38;5;129;01min\u001b[39;00m result:\n\u001b[0;32m     15\u001b[0m     \u001b[38;5;66;03m# print(item['src'])\u001b[39;00m\n\u001b[1;32m---> 16\u001b[0m     index \u001b[38;5;241m=\u001b[39m \u001b[43mitem\u001b[49m\u001b[43m[\u001b[49m\u001b[38;5;124;43m'\u001b[39;49m\u001b[38;5;124;43msrc\u001b[39;49m\u001b[38;5;124;43m'\u001b[39;49m\u001b[43m]\u001b[49m\u001b[38;5;241;43m.\u001b[39;49m\u001b[43mindex\u001b[49m\u001b[43m(\u001b[49m\u001b[38;5;124;43m'\u001b[39;49m\u001b[38;5;124;43m&\u001b[39;49m\u001b[38;5;124;43m'\u001b[39;49m\u001b[43m)\u001b[49m\n\u001b[0;32m     17\u001b[0m     \u001b[38;5;28mprint\u001b[39m(index)\n\u001b[0;32m     18\u001b[0m     src \u001b[38;5;241m=\u001b[39m item[\u001b[38;5;124m'\u001b[39m\u001b[38;5;124msrc\u001b[39m\u001b[38;5;124m'\u001b[39m][:index]\n",
      "\u001b[1;31mValueError\u001b[0m: substring not found"
     ]
    }
   ],
   "source": [
    "key = input('검색어 >>> ')\n",
    "url = 'https://search.naver.com/search.naver'\n",
    "param = {\n",
    "    'where':'image', \n",
    "    'sm':'tab_jum', \n",
    "    'query':key\n",
    "}\n",
    "\n",
    "r = requests.get(url, params=param)\n",
    "soup = BeautifulSoup(r.text, 'lxml')\n",
    "result = soup.find_all('img')\n",
    "# print(result)\n",
    "\n",
    "for item in result:\n",
    "    # print(item['src'])\n",
    "    index = item['src'].index('&')\n",
    "    print(index)\n",
    "    src = item['src'][:index]\n",
    "    print(src)"
   ]
  },
  {
   "cell_type": "code",
   "execution_count": 13,
   "id": "6a7f491e-e3af-48a5-a9b1-9848ed773e8d",
   "metadata": {
    "collapsed": true,
    "jupyter": {
     "outputs_hidden": true
    },
    "tags": []
   },
   "outputs": [
    {
     "name": "stdin",
     "output_type": "stream",
     "text": [
      "검색어 >>>  봄\n"
     ]
    },
    {
     "name": "stdout",
     "output_type": "stream",
     "text": [
      "247\n",
      "https://search.pstatic.net/common/?src=http%3A%2F%2Fcafefiles.naver.net%2FMjAyMTAyMjhfMTU1%2FMDAxNjE0NDY5NjQzMTcw.YhwEgIQB_QTRGwRXWVNW50MwLxdSUt-iTuE5snyEhl0g.MF8kozbobjg4IQaNw6CvGJy1ZG2RYCZ7M4S3mGGbpD4g.JPEG%2F16144695598924905842576595907778.jpg\n",
      "236\n",
      "https://search.pstatic.net/common/?src=http%3A%2F%2Fblogfiles.naver.net%2FMjAyMjAzMDdfMTY2%2FMDAxNjQ2NjEzNTU4OTMx.jtI5WTGhkp-FPP0mPxXa9LoQwrHB4rU_0IpvtD7awm4g.peBwo-39I5RREUeoiIP0bIoW-HEIXGv5uFW8yvYU2ccg.JPEG.nexusbooks%2F%25BA%25BD.jpg\n",
      "288\n",
      "https://search.pstatic.net/common/?src=http%3A%2F%2Fblogfiles.naver.net%2FMjAyMjAzMThfMTky%2FMDAxNjQ3NTkyNzM4NzYy.8X0SQTGsYCVeBX5fu2leohjz3dOaTvXBiKK1gpz6FPwg.HDHRWPeyhLk0gduZpJvig8BoiUHVK_2z4k1p4E8Vtv4g.PNG.bbalsong%2F%25BA%25BD3%25BF%25F9%25C0%25CE%25BB%25E7%25B9%25AE%25B1%25B8-001.png\n",
      "231\n",
      "https://search.pstatic.net/common/?src=http%3A%2F%2Fblogfiles.naver.net%2FMjAyMjA1MzFfMjk2%2FMDAxNjU0MDA0NDk0NzMy.exvL9O02gz_6hyqbNY5OWvhiDWgI1z91GkvvmjVhwA0g.f0NiD4Fenoyty4AwdXxeh1vgtTekCQk0j-n2y2qI2hQg.JPEG.kst0712%2FDSC_3656.jpg\n",
      "268\n",
      "https://search.pstatic.net/common/?src=http%3A%2F%2Fcafefiles.naver.net%2FMjAyMTAyMjdfOCAg%2FMDAxNjE0Mzg3MzM2MDkx.Ck7a9KlGB98It0XkPSkNmgEpiwHQy_30h94HpGBB4Y8g.xR6v7qCAbXynuvP5TOEMnBvlC_LYnPUXbNh7Zalxfw8g.JPEG%2F%25B4%25D9%25BF%25EE%25B7%25CE%25B5%25E5_%252820%2529.jpg\n",
      "132\n",
      "https://search.pstatic.net/common/?src=http%3A%2F%2Fkinimage.naver.net%2F20210304_110%2F16148481267898GonM_JPEG%2F1614848126550.jpeg\n",
      "227\n",
      "https://search.pstatic.net/common/?src=http%3A%2F%2Fblogfiles.naver.net%2FMjAyMDAzMTJfMTY2%2FMDAxNTgzOTQwMjc1NzMy.MtDrJrEhN-70Jjp_vvbagBFBSj65DeSLwPJeWSeBODUg.gxjr7SbFp5d3ebkNIW7G4FTl5XG4Iey0g9XF4EIGc-Ig.JPEG.sinfo8282%2F04.jpg\n",
      "273\n",
      "https://search.pstatic.net/common/?src=http%3A%2F%2Fblogfiles.naver.net%2FMjAyMTAzMTVfMzYg%2FMDAxNjE1Nzg5NjYxNTk1.UX91mxc0RCTAi7P7ihgts9l1fvGhRa2D_qaX432yCskg.onkaXny7RHdpcqTNhdbYpJPO1BpallPYlhCKkoT1V6Qg.JPEG.sea_7852%2Fjazmin-flowers-with-copyspace-and-blue-background.jpg\n",
      "125\n",
      "https://search.pstatic.net/sunny/?src=https%3A%2F%2Fi.pinimg.com%2F736x%2F7b%2F2d%2Fe8%2F7b2de82e6eefd0d2db92494963d52819.jpg\n",
      "250\n",
      "https://search.pstatic.net/common/?src=http%3A%2F%2Fblogfiles.naver.net%2FMjAyMDAzMTlfMTI2%2FMDAxNTg0NjAwMjUwMTg1.a_p6vUwCTkGZU94O70sk83Xpu3stOP10K-3_KH_hLFIg.PbbWbTpU3k-Pip2k-kf2pNp2SEcsCcdMLHnVJDxgPYQg.PNG.pskms618%2F2020-03-19_15%253B42%253B51.PNG\n",
      "256\n",
      "https://search.pstatic.net/common/?src=http%3A%2F%2Fblogfiles.naver.net%2FMjAyMzAyMDZfODMg%2FMDAxNjc1NjQzNzk5OTY5.zMOx4WuBUHQqJuc1jj1LpsjfqyecyEqY2b5Uq_1RQ7og.273b4L8cpQPyuVIJP6q68bnyTqXkljCf7xgx65mtb_gg.JPEG.kimyongw2%2FKakaoTalk_20230201_195318648_03.jpg\n",
      "256\n",
      "https://search.pstatic.net/common/?src=http%3A%2F%2Fblogfiles.naver.net%2FMjAyMDEwMTBfMjQy%2FMDAxNjAyMjc1MjAyNjMx.RUuYcopLtziccSX9mqhADOVqgLr-p7fhMjvTj9nCjGcg.WiC1YhIn40THjVI8g4JA5klhWlk996w4zKKQesPOQZsg.JPEG.enjell1144%2Fyellow-freesia-flower-delivery.jpg\n",
      "289\n",
      "https://search.pstatic.net/common/?src=http%3A%2F%2Fblogfiles.naver.net%2FMjAxOTA0MTVfNTQg%2FMDAxNTU1Mjg5NjA5NjY1.vAVtxkyl-_xYYEd54ElgX75gjgmVgTmsmGN_6r91hlcg.8AYozp0lxLJWsX77K952HZgD-KUadHsLoqZu8YfBzD4g.JPEG.infogram%2F%25B0%25E8%25C0%25FD_%25C0%25CF%25B7%25AF%25BD%25BA%25C6%25AE_061.jpg\n",
      "265\n",
      "https://search.pstatic.net/common/?src=http%3A%2F%2Fblogfiles.naver.net%2FMjAyMjA1MDZfNyAg%2FMDAxNjUxODA2MjA4ODQ5.seKEXdM_vNNboNqmTio5VVt4MkoV7JtzzOz7GwBv1qQg.ajthuMVSRLylaL5RUnCh3jAXTUIwHlkTWrKBfFojyTgg.JPEG.wlgpdydfur12%2F20220501%25A3%25DF151405%25A3%25DFHDR.jpg\n",
      "255\n",
      "https://search.pstatic.net/common/?src=http%3A%2F%2Fblogfiles.naver.net%2FMjAxOTExMTZfOTkg%2FMDAxNTczODc5NTY5OTI3.a6J8edXTQMNWOAxCYQVy1rji0cGWfxDqEov2GQC3gCUg.W-XRHThii77ybDb8zliyoYzpBAvwtk4TI2Zaidz9l3gg.JPEG.heysi3%2FBeautyPlus_20191116134208219_save.jpg\n",
      "140\n",
      "https://search.pstatic.net/common/?src=http%3A%2F%2Fimage.nmv.naver.net%2Fcafe_2022_05_02_1013%2F47975e30-c9f7-11ec-bdfe-48df37ae3dc4_01.jpg\n",
      "140\n",
      "https://search.pstatic.net/sunny/?src=http%3A%2F%2Fwww.picturebook-illust.com%2Fupload_board%2Fnew_Gallery%2FOriginal%2Fm%2F201732821056.jpg\n",
      "url 오류\n"
     ]
    }
   ],
   "source": [
    "key = input('검색어 >>> ')\n",
    "url = 'https://search.naver.com/search.naver'\n",
    "param = {\n",
    "    'where':'image', \n",
    "    'sm':'tab_jum', \n",
    "    'query':key\n",
    "}\n",
    "\n",
    "r = requests.get(url, params=param)\n",
    "soup = BeautifulSoup(r.text, 'lxml')\n",
    "result = soup.find_all('img')\n",
    "# print(result)\n",
    "\n",
    "for item in result:\n",
    "    # 예외 처리\n",
    "    try:\n",
    "        # print(item['src'])\n",
    "        index = item['src'].index('&')\n",
    "        print(index)\n",
    "        src = item['src'][:index]\n",
    "        print(src)\n",
    "    except:\n",
    "        print('url 오류')"
   ]
  },
  {
   "cell_type": "code",
   "execution_count": 15,
   "id": "d2f95888-24c4-4cd2-8d40-7f351f6494e3",
   "metadata": {},
   "outputs": [
    {
     "name": "stdin",
     "output_type": "stream",
     "text": [
      "검색어 >>>  봄\n"
     ]
    },
    {
     "name": "stdout",
     "output_type": "stream",
     "text": [
      "247\n",
      "https://search.pstatic.net/common/?src=http%3A%2F%2Fcafefiles.naver.net%2FMjAyMTAyMjhfMTU1%2FMDAxNjE0NDY5NjQzMTcw.YhwEgIQB_QTRGwRXWVNW50MwLxdSUt-iTuE5snyEhl0g.MF8kozbobjg4IQaNw6CvGJy1ZG2RYCZ7M4S3mGGbpD4g.JPEG%2F16144695598924905842576595907778.jpg\n",
      "['https://search', 'pstatic', 'net/common/?src=http%3A%2F%2Fcafefiles', 'naver', 'net%2FMjAyMTAyMjhfMTU1%2FMDAxNjE0NDY5NjQzMTcw', 'YhwEgIQB_QTRGwRXWVNW50MwLxdSUt-iTuE5snyEhl0g', 'MF8kozbobjg4IQaNw6CvGJy1ZG2RYCZ7M4S3mGGbpD4g', 'JPEG%2F16144695598924905842576595907778', 'jpg']\n",
      "236\n",
      "https://search.pstatic.net/common/?src=http%3A%2F%2Fblogfiles.naver.net%2FMjAyMjAzMDdfMTY2%2FMDAxNjQ2NjEzNTU4OTMx.jtI5WTGhkp-FPP0mPxXa9LoQwrHB4rU_0IpvtD7awm4g.peBwo-39I5RREUeoiIP0bIoW-HEIXGv5uFW8yvYU2ccg.JPEG.nexusbooks%2F%25BA%25BD.jpg\n",
      "['https://search', 'pstatic', 'net/common/?src=http%3A%2F%2Fblogfiles', 'naver', 'net%2FMjAyMjAzMDdfMTY2%2FMDAxNjQ2NjEzNTU4OTMx', 'jtI5WTGhkp-FPP0mPxXa9LoQwrHB4rU_0IpvtD7awm4g', 'peBwo-39I5RREUeoiIP0bIoW-HEIXGv5uFW8yvYU2ccg', 'JPEG', 'nexusbooks%2F%25BA%25BD', 'jpg']\n",
      "288\n",
      "https://search.pstatic.net/common/?src=http%3A%2F%2Fblogfiles.naver.net%2FMjAyMjAzMThfMTky%2FMDAxNjQ3NTkyNzM4NzYy.8X0SQTGsYCVeBX5fu2leohjz3dOaTvXBiKK1gpz6FPwg.HDHRWPeyhLk0gduZpJvig8BoiUHVK_2z4k1p4E8Vtv4g.PNG.bbalsong%2F%25BA%25BD3%25BF%25F9%25C0%25CE%25BB%25E7%25B9%25AE%25B1%25B8-001.png\n",
      "['https://search', 'pstatic', 'net/common/?src=http%3A%2F%2Fblogfiles', 'naver', 'net%2FMjAyMjAzMThfMTky%2FMDAxNjQ3NTkyNzM4NzYy', '8X0SQTGsYCVeBX5fu2leohjz3dOaTvXBiKK1gpz6FPwg', 'HDHRWPeyhLk0gduZpJvig8BoiUHVK_2z4k1p4E8Vtv4g', 'PNG', 'bbalsong%2F%25BA%25BD3%25BF%25F9%25C0%25CE%25BB%25E7%25B9%25AE%25B1%25B8-001', 'png']\n",
      "231\n",
      "https://search.pstatic.net/common/?src=http%3A%2F%2Fblogfiles.naver.net%2FMjAyMjA1MzFfMjk2%2FMDAxNjU0MDA0NDk0NzMy.exvL9O02gz_6hyqbNY5OWvhiDWgI1z91GkvvmjVhwA0g.f0NiD4Fenoyty4AwdXxeh1vgtTekCQk0j-n2y2qI2hQg.JPEG.kst0712%2FDSC_3656.jpg\n",
      "['https://search', 'pstatic', 'net/common/?src=http%3A%2F%2Fblogfiles', 'naver', 'net%2FMjAyMjA1MzFfMjk2%2FMDAxNjU0MDA0NDk0NzMy', 'exvL9O02gz_6hyqbNY5OWvhiDWgI1z91GkvvmjVhwA0g', 'f0NiD4Fenoyty4AwdXxeh1vgtTekCQk0j-n2y2qI2hQg', 'JPEG', 'kst0712%2FDSC_3656', 'jpg']\n",
      "268\n",
      "https://search.pstatic.net/common/?src=http%3A%2F%2Fcafefiles.naver.net%2FMjAyMTAyMjdfOCAg%2FMDAxNjE0Mzg3MzM2MDkx.Ck7a9KlGB98It0XkPSkNmgEpiwHQy_30h94HpGBB4Y8g.xR6v7qCAbXynuvP5TOEMnBvlC_LYnPUXbNh7Zalxfw8g.JPEG%2F%25B4%25D9%25BF%25EE%25B7%25CE%25B5%25E5_%252820%2529.jpg\n",
      "['https://search', 'pstatic', 'net/common/?src=http%3A%2F%2Fcafefiles', 'naver', 'net%2FMjAyMTAyMjdfOCAg%2FMDAxNjE0Mzg3MzM2MDkx', 'Ck7a9KlGB98It0XkPSkNmgEpiwHQy_30h94HpGBB4Y8g', 'xR6v7qCAbXynuvP5TOEMnBvlC_LYnPUXbNh7Zalxfw8g', 'JPEG%2F%25B4%25D9%25BF%25EE%25B7%25CE%25B5%25E5_%252820%2529', 'jpg']\n",
      "132\n",
      "https://search.pstatic.net/common/?src=http%3A%2F%2Fkinimage.naver.net%2F20210304_110%2F16148481267898GonM_JPEG%2F1614848126550.jpeg\n",
      "['https://search', 'pstatic', 'net/common/?src=http%3A%2F%2Fkinimage', 'naver', 'net%2F20210304_110%2F16148481267898GonM_JPEG%2F1614848126550', 'jpeg']\n",
      "227\n",
      "https://search.pstatic.net/common/?src=http%3A%2F%2Fblogfiles.naver.net%2FMjAyMDAzMTJfMTY2%2FMDAxNTgzOTQwMjc1NzMy.MtDrJrEhN-70Jjp_vvbagBFBSj65DeSLwPJeWSeBODUg.gxjr7SbFp5d3ebkNIW7G4FTl5XG4Iey0g9XF4EIGc-Ig.JPEG.sinfo8282%2F04.jpg\n",
      "['https://search', 'pstatic', 'net/common/?src=http%3A%2F%2Fblogfiles', 'naver', 'net%2FMjAyMDAzMTJfMTY2%2FMDAxNTgzOTQwMjc1NzMy', 'MtDrJrEhN-70Jjp_vvbagBFBSj65DeSLwPJeWSeBODUg', 'gxjr7SbFp5d3ebkNIW7G4FTl5XG4Iey0g9XF4EIGc-Ig', 'JPEG', 'sinfo8282%2F04', 'jpg']\n",
      "273\n",
      "https://search.pstatic.net/common/?src=http%3A%2F%2Fblogfiles.naver.net%2FMjAyMTAzMTVfMzYg%2FMDAxNjE1Nzg5NjYxNTk1.UX91mxc0RCTAi7P7ihgts9l1fvGhRa2D_qaX432yCskg.onkaXny7RHdpcqTNhdbYpJPO1BpallPYlhCKkoT1V6Qg.JPEG.sea_7852%2Fjazmin-flowers-with-copyspace-and-blue-background.jpg\n",
      "['https://search', 'pstatic', 'net/common/?src=http%3A%2F%2Fblogfiles', 'naver', 'net%2FMjAyMTAzMTVfMzYg%2FMDAxNjE1Nzg5NjYxNTk1', 'UX91mxc0RCTAi7P7ihgts9l1fvGhRa2D_qaX432yCskg', 'onkaXny7RHdpcqTNhdbYpJPO1BpallPYlhCKkoT1V6Qg', 'JPEG', 'sea_7852%2Fjazmin-flowers-with-copyspace-and-blue-background', 'jpg']\n",
      "125\n",
      "https://search.pstatic.net/sunny/?src=https%3A%2F%2Fi.pinimg.com%2F736x%2F7b%2F2d%2Fe8%2F7b2de82e6eefd0d2db92494963d52819.jpg\n",
      "['https://search', 'pstatic', 'net/sunny/?src=https%3A%2F%2Fi', 'pinimg', 'com%2F736x%2F7b%2F2d%2Fe8%2F7b2de82e6eefd0d2db92494963d52819', 'jpg']\n",
      "250\n",
      "https://search.pstatic.net/common/?src=http%3A%2F%2Fblogfiles.naver.net%2FMjAyMDAzMTlfMTI2%2FMDAxNTg0NjAwMjUwMTg1.a_p6vUwCTkGZU94O70sk83Xpu3stOP10K-3_KH_hLFIg.PbbWbTpU3k-Pip2k-kf2pNp2SEcsCcdMLHnVJDxgPYQg.PNG.pskms618%2F2020-03-19_15%253B42%253B51.PNG\n",
      "['https://search', 'pstatic', 'net/common/?src=http%3A%2F%2Fblogfiles', 'naver', 'net%2FMjAyMDAzMTlfMTI2%2FMDAxNTg0NjAwMjUwMTg1', 'a_p6vUwCTkGZU94O70sk83Xpu3stOP10K-3_KH_hLFIg', 'PbbWbTpU3k-Pip2k-kf2pNp2SEcsCcdMLHnVJDxgPYQg', 'PNG', 'pskms618%2F2020-03-19_15%253B42%253B51', 'PNG']\n",
      "256\n",
      "https://search.pstatic.net/common/?src=http%3A%2F%2Fblogfiles.naver.net%2FMjAyMzAyMDZfODMg%2FMDAxNjc1NjQzNzk5OTY5.zMOx4WuBUHQqJuc1jj1LpsjfqyecyEqY2b5Uq_1RQ7og.273b4L8cpQPyuVIJP6q68bnyTqXkljCf7xgx65mtb_gg.JPEG.kimyongw2%2FKakaoTalk_20230201_195318648_03.jpg\n",
      "['https://search', 'pstatic', 'net/common/?src=http%3A%2F%2Fblogfiles', 'naver', 'net%2FMjAyMzAyMDZfODMg%2FMDAxNjc1NjQzNzk5OTY5', 'zMOx4WuBUHQqJuc1jj1LpsjfqyecyEqY2b5Uq_1RQ7og', '273b4L8cpQPyuVIJP6q68bnyTqXkljCf7xgx65mtb_gg', 'JPEG', 'kimyongw2%2FKakaoTalk_20230201_195318648_03', 'jpg']\n",
      "256\n",
      "https://search.pstatic.net/common/?src=http%3A%2F%2Fblogfiles.naver.net%2FMjAyMDEwMTBfMjQy%2FMDAxNjAyMjc1MjAyNjMx.RUuYcopLtziccSX9mqhADOVqgLr-p7fhMjvTj9nCjGcg.WiC1YhIn40THjVI8g4JA5klhWlk996w4zKKQesPOQZsg.JPEG.enjell1144%2Fyellow-freesia-flower-delivery.jpg\n",
      "['https://search', 'pstatic', 'net/common/?src=http%3A%2F%2Fblogfiles', 'naver', 'net%2FMjAyMDEwMTBfMjQy%2FMDAxNjAyMjc1MjAyNjMx', 'RUuYcopLtziccSX9mqhADOVqgLr-p7fhMjvTj9nCjGcg', 'WiC1YhIn40THjVI8g4JA5klhWlk996w4zKKQesPOQZsg', 'JPEG', 'enjell1144%2Fyellow-freesia-flower-delivery', 'jpg']\n",
      "289\n",
      "https://search.pstatic.net/common/?src=http%3A%2F%2Fblogfiles.naver.net%2FMjAxOTA0MTVfNTQg%2FMDAxNTU1Mjg5NjA5NjY1.vAVtxkyl-_xYYEd54ElgX75gjgmVgTmsmGN_6r91hlcg.8AYozp0lxLJWsX77K952HZgD-KUadHsLoqZu8YfBzD4g.JPEG.infogram%2F%25B0%25E8%25C0%25FD_%25C0%25CF%25B7%25AF%25BD%25BA%25C6%25AE_061.jpg\n",
      "['https://search', 'pstatic', 'net/common/?src=http%3A%2F%2Fblogfiles', 'naver', 'net%2FMjAxOTA0MTVfNTQg%2FMDAxNTU1Mjg5NjA5NjY1', 'vAVtxkyl-_xYYEd54ElgX75gjgmVgTmsmGN_6r91hlcg', '8AYozp0lxLJWsX77K952HZgD-KUadHsLoqZu8YfBzD4g', 'JPEG', 'infogram%2F%25B0%25E8%25C0%25FD_%25C0%25CF%25B7%25AF%25BD%25BA%25C6%25AE_061', 'jpg']\n",
      "265\n",
      "https://search.pstatic.net/common/?src=http%3A%2F%2Fblogfiles.naver.net%2FMjAyMjA1MDZfNyAg%2FMDAxNjUxODA2MjA4ODQ5.seKEXdM_vNNboNqmTio5VVt4MkoV7JtzzOz7GwBv1qQg.ajthuMVSRLylaL5RUnCh3jAXTUIwHlkTWrKBfFojyTgg.JPEG.wlgpdydfur12%2F20220501%25A3%25DF151405%25A3%25DFHDR.jpg\n",
      "['https://search', 'pstatic', 'net/common/?src=http%3A%2F%2Fblogfiles', 'naver', 'net%2FMjAyMjA1MDZfNyAg%2FMDAxNjUxODA2MjA4ODQ5', 'seKEXdM_vNNboNqmTio5VVt4MkoV7JtzzOz7GwBv1qQg', 'ajthuMVSRLylaL5RUnCh3jAXTUIwHlkTWrKBfFojyTgg', 'JPEG', 'wlgpdydfur12%2F20220501%25A3%25DF151405%25A3%25DFHDR', 'jpg']\n",
      "255\n",
      "https://search.pstatic.net/common/?src=http%3A%2F%2Fblogfiles.naver.net%2FMjAxOTExMTZfOTkg%2FMDAxNTczODc5NTY5OTI3.a6J8edXTQMNWOAxCYQVy1rji0cGWfxDqEov2GQC3gCUg.W-XRHThii77ybDb8zliyoYzpBAvwtk4TI2Zaidz9l3gg.JPEG.heysi3%2FBeautyPlus_20191116134208219_save.jpg\n",
      "['https://search', 'pstatic', 'net/common/?src=http%3A%2F%2Fblogfiles', 'naver', 'net%2FMjAxOTExMTZfOTkg%2FMDAxNTczODc5NTY5OTI3', 'a6J8edXTQMNWOAxCYQVy1rji0cGWfxDqEov2GQC3gCUg', 'W-XRHThii77ybDb8zliyoYzpBAvwtk4TI2Zaidz9l3gg', 'JPEG', 'heysi3%2FBeautyPlus_20191116134208219_save', 'jpg']\n",
      "140\n",
      "https://search.pstatic.net/common/?src=http%3A%2F%2Fimage.nmv.naver.net%2Fcafe_2022_05_02_1013%2F47975e30-c9f7-11ec-bdfe-48df37ae3dc4_01.jpg\n",
      "['https://search', 'pstatic', 'net/common/?src=http%3A%2F%2Fimage', 'nmv', 'naver', 'net%2Fcafe_2022_05_02_1013%2F47975e30-c9f7-11ec-bdfe-48df37ae3dc4_01', 'jpg']\n",
      "140\n",
      "https://search.pstatic.net/sunny/?src=http%3A%2F%2Fwww.picturebook-illust.com%2Fupload_board%2Fnew_Gallery%2FOriginal%2Fm%2F201732821056.jpg\n",
      "['https://search', 'pstatic', 'net/sunny/?src=http%3A%2F%2Fwww', 'picturebook-illust', 'com%2Fupload_board%2Fnew_Gallery%2FOriginal%2Fm%2F201732821056', 'jpg']\n",
      "url 오류\n"
     ]
    }
   ],
   "source": [
    "key = input('검색어 >>> ')\n",
    "url = 'https://search.naver.com/search.naver'\n",
    "param = {\n",
    "    'where':'image', \n",
    "    'sm':'tab_jum', \n",
    "    'query':key\n",
    "}\n",
    "\n",
    "r = requests.get(url, params=param)\n",
    "soup = BeautifulSoup(r.text, 'lxml')\n",
    "result = soup.find_all('img')\n",
    "# print(result)\n",
    "\n",
    "for item in result:\n",
    "    # 예외 처리\n",
    "    try:\n",
    "        # print(item['src'])\n",
    "        index = item['src'].index('&')\n",
    "        print(index)\n",
    "        src = item['src'][:index]\n",
    "        print(src)\n",
    "        src_list = src.split('.')\n",
    "        print(src_list)\n",
    "    except:\n",
    "        print('url 오류')"
   ]
  },
  {
   "cell_type": "code",
   "execution_count": 17,
   "id": "c9d54de3-0b18-4c14-b049-b9ada1df5876",
   "metadata": {},
   "outputs": [
    {
     "name": "stdin",
     "output_type": "stream",
     "text": [
      "검색어 >>>  봄\n"
     ]
    },
    {
     "name": "stdout",
     "output_type": "stream",
     "text": [
      "url 오류\n"
     ]
    }
   ],
   "source": [
    "key = input('검색어 >>> ')\n",
    "url = 'https://search.naver.com/search.naver'\n",
    "param = {\n",
    "    'where':'image', \n",
    "    'sm':'tab_jum', \n",
    "    'query':key\n",
    "}\n",
    "\n",
    "r = requests.get(url, params=param)\n",
    "soup = BeautifulSoup(r.text, 'lxml')\n",
    "result = soup.find_all('img')\n",
    "# print(result)\n",
    "\n",
    "for item in result:\n",
    "    # 예외 처리\n",
    "    try:\n",
    "        # print(item['src'])\n",
    "        index = item['src'].index('&')\n",
    "        # print(index)\n",
    "        src = item['src'][:index]\n",
    "        # print(src)\n",
    "        src_list = src.split('.')[-1]\n",
    "        # print(src_list)\n",
    "    except:\n",
    "        print('url 오류')"
   ]
  },
  {
   "cell_type": "code",
   "execution_count": 32,
   "id": "46e79ead-b1d6-4732-a5ca-52890319fc9d",
   "metadata": {},
   "outputs": [
    {
     "name": "stdin",
     "output_type": "stream",
     "text": [
      "검색어 >>>  벚꽃\n"
     ]
    },
    {
     "name": "stdout",
     "output_type": "stream",
     "text": [
      "url 오류\n"
     ]
    }
   ],
   "source": [
    "key = input('검색어 >>> ')\n",
    "url = 'https://search.naver.com/search.naver'\n",
    "param = {\n",
    "    'where':'image', \n",
    "    'sm':'tab_jum', \n",
    "    'query':key\n",
    "}\n",
    "\n",
    "r = requests.get(url, params=param)\n",
    "soup = BeautifulSoup(r.text, 'lxml')\n",
    "result = soup.find_all('img')\n",
    "# print(result)\n",
    "\n",
    "for i, item in enumerate(result):\n",
    "    # 예외 처리\n",
    "    try:\n",
    "        # print(item['src'])\n",
    "        index = item['src'].index('&')\n",
    "        # print(index)\n",
    "        src = item['src'][:index]\n",
    "        # print(src)\n",
    "        src_list = src.split('.')[-1]\n",
    "        # print(src_list)\n",
    "        request.urlretrieve(src, 'img/'+str(i)+'.'+src_list)\n",
    "        # 받을 것, 저장 경로\n",
    "    except:\n",
    "        print('url 오류')"
   ]
  }
 ],
 "metadata": {
  "kernelspec": {
   "display_name": "Python 3 (ipykernel)",
   "language": "python",
   "name": "python3"
  },
  "language_info": {
   "codemirror_mode": {
    "name": "ipython",
    "version": 3
   },
   "file_extension": ".py",
   "mimetype": "text/x-python",
   "name": "python",
   "nbconvert_exporter": "python",
   "pygments_lexer": "ipython3",
   "version": "3.10.9"
  },
  "toc-autonumbering": true
 },
 "nbformat": 4,
 "nbformat_minor": 5
}
