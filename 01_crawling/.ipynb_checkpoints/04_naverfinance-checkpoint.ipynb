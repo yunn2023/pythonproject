{
 "cells": [
  {
   "cell_type": "raw",
   "id": "8b772062-fa9f-4191-a6f3-53ece2eb1ae8",
   "metadata": {},
   "source": [
    "https://finance.naver.com/marketindex/exchangeList.naver"
   ]
  },
  {
   "cell_type": "raw",
   "id": "052d0306-665e-4751-b88c-46a574ebe86f",
   "metadata": {},
   "source": [
    "https://finance.naver.com/marketindex/exchangeDetail.naver?marketindexCd=FX_USDKRW"
   ]
  },
  {
   "cell_type": "code",
   "execution_count": 27,
   "id": "1af34bb8-5e93-4c76-97ba-f2141c0ada02",
   "metadata": {},
   "outputs": [],
   "source": [
    "import requests\n",
    "from bs4 import BeautifulSoup"
   ]
  },
  {
   "cell_type": "code",
   "execution_count": 9,
   "id": "3c491df6-62f4-41c8-8425-803df33ea157",
   "metadata": {},
   "outputs": [
    {
     "name": "stdout",
     "output_type": "stream",
     "text": [
      "미국 USD\n",
      "유럽연합 EUR\n",
      "일본 JPY (100엔)\n",
      "중국 CNY\n",
      "홍콩 HKD\n",
      "대만 TWD\n",
      "영국 GBP\n",
      "오만 OMR\n",
      "캐나다 CAD\n",
      "스위스 CHF\n",
      "스웨덴 SEK\n",
      "호주 AUD\n",
      "뉴질랜드 NZD\n",
      "체코 CZK\n",
      "칠레 CLP\n",
      "튀르키예 TRY\n",
      "몽골 MNT\n",
      "이스라엘 ILS\n",
      "덴마크 DKK\n",
      "노르웨이 NOK\n",
      "사우디아라비아 SAR\n",
      "쿠웨이트 KWD\n",
      "바레인 BHD\n",
      "아랍에미리트 AED\n",
      "요르단 JOD\n",
      "이집트 EGP\n",
      "태국 THB\n",
      "싱가포르 SGD\n",
      "말레이시아 MYR\n",
      "인도네시아 IDR 100\n",
      "카타르 QAR\n",
      "카자흐스탄 KZT\n",
      "브루나이 BND\n",
      "인도 INR\n",
      "파키스탄 PKR\n",
      "방글라데시 BDT\n",
      "필리핀 PHP\n",
      "멕시코 MXN\n",
      "브라질 BRL\n",
      "베트남 VND 100\n",
      "남아프리카 공화국 ZAR\n",
      "러시아 RUB\n",
      "헝가리 HUF\n",
      "폴란드 PLN\n",
      "스리랑카 LKR\n",
      "알제리 DZD\n",
      "케냐 KES\n",
      "콜롬비아 COP\n",
      "탄자니아 TZS\n",
      "네팔 NPR\n",
      "루마니아 RON\n",
      "리비아 LYD\n",
      "마카오 MOP\n",
      "미얀마 MMK\n",
      "에티오피아 ETB\n",
      "우즈베키스탄 UZS\n",
      "캄보디아 KHR\n",
      "피지 FJD\n"
     ]
    }
   ],
   "source": [
    "url = 'https://finance.naver.com/marketindex/exchangeList.naver'\n",
    "r = requests.get(url).text\n",
    "soup = BeautifulSoup(r, 'lxml')\n",
    "name = []\n",
    "price = []\n",
    "\n",
    "# data = soup.select('td.tit a')\n",
    "data = soup.select('td.tit > a')\n",
    "# print(data)\n",
    "for item in data:\n",
    "    print(item.string.strip())"
   ]
  },
  {
   "cell_type": "code",
   "execution_count": 13,
   "id": "28fa7a4d-b320-4a25-a6fd-9798a10535c5",
   "metadata": {},
   "outputs": [
    {
     "name": "stdout",
     "output_type": "stream",
     "text": [
      "[<td class=\"sale\">1,315.00</td>, <td class=\"sale\">1,424.67</td>, <td class=\"sale\">985.35</td>, <td class=\"sale\">190.81</td>, <td class=\"sale\">167.52</td>, <td class=\"sale\">42.93</td>, <td class=\"sale\">1,619.69</td>, <td class=\"sale\">3,415.67</td>, <td class=\"sale\">974.43</td>, <td class=\"sale\">1,432.62</td>, <td class=\"sale\">126.54</td>, <td class=\"sale\">880.26</td>, <td class=\"sale\">819.51</td>, <td class=\"sale\">60.72</td>, <td class=\"sale\">1.65</td>, <td class=\"sale\">68.47</td>, <td class=\"sale\">0.37</td>, <td class=\"sale\">365.21</td>, <td class=\"sale\">191.24</td>, <td class=\"sale\">126.21</td>, <td class=\"sale\">350.35</td>, <td class=\"sale\">4,283.11</td>, <td class=\"sale\">3,488.06</td>, <td class=\"sale\">358.06</td>, <td class=\"sale\">1,853.81</td>, <td class=\"sale\">42.56</td>, <td class=\"sale\">38.22</td>, <td class=\"sale\">986.98</td>, <td class=\"sale\">297.46</td>, <td class=\"sale\">8.80</td>, <td class=\"sale\">358.28</td>, <td class=\"sale\">2.90</td>, <td class=\"sale\">986.98</td>, <td class=\"sale\">15.96</td>, <td class=\"sale\">4.62</td>, <td class=\"sale\">12.49</td>, <td class=\"sale\">24.04</td>, <td class=\"sale\">73.05</td>, <td class=\"sale\">259.69</td>, <td class=\"sale\">5.61</td>, <td class=\"sale\">73.38</td>, <td class=\"sale\">16.93</td>, <td class=\"sale\">3.74</td>, <td class=\"sale\">304.52</td>, <td class=\"sale\">4.05</td>, <td class=\"sale\">9.67</td>, <td class=\"sale\">9.92</td>, <td class=\"sale\">0.28</td>, <td class=\"sale\">0.56</td>, <td class=\"sale\">9.98</td>, <td class=\"sale\">288.23</td>, <td class=\"sale\">275.10</td>, <td class=\"sale\">162.65</td>, <td class=\"sale\">0.63</td>, <td class=\"sale\">24.17</td>, <td class=\"sale\">0.12</td>, <td class=\"sale\">0.32</td>, <td class=\"sale\">594.51</td>]\n"
     ]
    }
   ],
   "source": [
    "url = 'https://finance.naver.com/marketindex/exchangeList.naver'\n",
    "r = requests.get(url).text\n",
    "soup = BeautifulSoup(r, 'lxml')\n",
    "name = []\n",
    "price = []\n",
    "\n",
    "# data = soup.select('td.tit a')\n",
    "data = soup.select('td.tit > a')\n",
    "# print(data)\n",
    "for item in data:\n",
    "    # print(item.string.strip())\n",
    "    name.append(item.string.strip())\n",
    "\n",
    "data = soup.select('td.sale')\n",
    "print(data)"
   ]
  },
  {
   "cell_type": "code",
   "execution_count": 14,
   "id": "9d2ca957-7515-4555-afd6-867d061ee570",
   "metadata": {},
   "outputs": [
    {
     "name": "stdout",
     "output_type": "stream",
     "text": [
      "1,315.00\n",
      "1,424.67\n",
      "985.35\n",
      "190.81\n",
      "167.52\n",
      "42.93\n",
      "1,619.69\n",
      "3,415.67\n",
      "974.43\n",
      "1,432.62\n",
      "126.54\n",
      "880.26\n",
      "819.51\n",
      "60.72\n",
      "1.65\n",
      "68.47\n",
      "0.37\n",
      "365.21\n",
      "191.24\n",
      "126.21\n",
      "350.35\n",
      "4,283.11\n",
      "3,488.06\n",
      "358.06\n",
      "1,853.81\n",
      "42.56\n",
      "38.22\n",
      "986.98\n",
      "297.46\n",
      "8.80\n",
      "358.28\n",
      "2.90\n",
      "986.98\n",
      "15.96\n",
      "4.62\n",
      "12.49\n",
      "24.04\n",
      "73.05\n",
      "259.69\n",
      "5.61\n",
      "73.38\n",
      "16.93\n",
      "3.74\n",
      "304.52\n",
      "4.05\n",
      "9.67\n",
      "9.92\n",
      "0.28\n",
      "0.56\n",
      "9.98\n",
      "288.23\n",
      "275.10\n",
      "162.65\n",
      "0.63\n",
      "24.17\n",
      "0.12\n",
      "0.32\n",
      "594.51\n"
     ]
    }
   ],
   "source": [
    "url = 'https://finance.naver.com/marketindex/exchangeList.naver'\n",
    "r = requests.get(url).text\n",
    "soup = BeautifulSoup(r, 'lxml')\n",
    "name = []\n",
    "price = []\n",
    "\n",
    "# data = soup.select('td.tit a')\n",
    "data = soup.select('td.tit > a')\n",
    "# print(data)\n",
    "for item in data:\n",
    "    # print(item.string.strip())\n",
    "    name.append(item.string.strip())\n",
    "\n",
    "data = soup.select('td.sale')\n",
    "# print(data)\n",
    "for item in data:\n",
    "    print(item.string)"
   ]
  },
  {
   "cell_type": "code",
   "execution_count": 23,
   "id": "0c53ea81-f542-4594-9597-af2485eb0ff6",
   "metadata": {},
   "outputs": [
    {
     "name": "stdout",
     "output_type": "stream",
     "text": [
      "[1315.0, 1424.67, 985.35, 190.81, 167.52, 42.93, 1619.69, 3415.67, 974.43, 1432.62, 126.54, 880.26, 819.51, 60.72, 1.65, 68.47, 0.37, 365.21, 191.24, 126.21, 350.35, 4283.11, 3488.06, 358.06, 1853.81, 42.56, 38.22, 986.98, 297.46, 8.8, 358.28, 2.9, 986.98, 15.96, 4.62, 12.49, 24.04, 73.05, 259.69, 5.61, 73.38, 16.93, 3.74, 304.52, 4.05, 9.67, 9.92, 0.28, 0.56, 9.98, 288.23, 275.1, 162.65, 0.63, 24.17, 0.12, 0.32, 594.51]\n"
     ]
    }
   ],
   "source": [
    "url = 'https://finance.naver.com/marketindex/exchangeList.naver'\n",
    "r = requests.get(url).text\n",
    "soup = BeautifulSoup(r, 'lxml')\n",
    "name = []\n",
    "price = []\n",
    "\n",
    "# data = soup.select('td.tit a')\n",
    "data = soup.select('td.tit > a')\n",
    "# print(data)\n",
    "for item in data:\n",
    "    # print(item.string.strip())\n",
    "    name.append(item.string.strip())\n",
    "\n",
    "data = soup.select('td.sale')\n",
    "# print(data)\n",
    "for item in data:\n",
    "    # print(item.string)\n",
    "    price.append(float(item.string.replace(',', '')))\n",
    "print(price)"
   ]
  },
  {
   "cell_type": "code",
   "execution_count": 26,
   "id": "3369a329-3ca2-4e26-a1ec-74d86a6c343e",
   "metadata": {},
   "outputs": [
    {
     "name": "stdout",
     "output_type": "stream",
     "text": [
      "58 58\n",
      "[('미국 USD', 1315.0), ('유럽연합 EUR', 1424.67), ('일본 JPY (100엔)', 985.35), ('중국 CNY', 190.81), ('홍콩 HKD', 167.52), ('대만 TWD', 42.93), ('영국 GBP', 1619.69), ('오만 OMR', 3415.67), ('캐나다 CAD', 974.43), ('스위스 CHF', 1432.62), ('스웨덴 SEK', 126.54), ('호주 AUD', 880.26), ('뉴질랜드 NZD', 819.51), ('체코 CZK', 60.72), ('칠레 CLP', 1.65), ('튀르키예 TRY', 68.47), ('몽골 MNT', 0.37), ('이스라엘 ILS', 365.21), ('덴마크 DKK', 191.24), ('노르웨이 NOK', 126.21), ('사우디아라비아 SAR', 350.35), ('쿠웨이트 KWD', 4283.11), ('바레인 BHD', 3488.06), ('아랍에미리트 AED', 358.06), ('요르단 JOD', 1853.81), ('이집트 EGP', 42.56), ('태국 THB', 38.22), ('싱가포르 SGD', 986.98), ('말레이시아 MYR', 297.46), ('인도네시아 IDR 100', 8.8), ('카타르 QAR', 358.28), ('카자흐스탄 KZT', 2.9), ('브루나이 BND', 986.98), ('인도 INR', 15.96), ('파키스탄 PKR', 4.62), ('방글라데시 BDT', 12.49), ('필리핀 PHP', 24.04), ('멕시코 MXN', 73.05), ('브라질 BRL', 259.69), ('베트남 VND 100', 5.61), ('남아프리카 공화국 ZAR', 73.38), ('러시아 RUB', 16.93), ('헝가리 HUF', 3.74), ('폴란드 PLN', 304.52), ('스리랑카 LKR', 4.05), ('알제리 DZD', 9.67), ('케냐 KES', 9.92), ('콜롬비아 COP', 0.28), ('탄자니아 TZS', 0.56), ('네팔 NPR', 9.98), ('루마니아 RON', 288.23), ('리비아 LYD', 275.1), ('마카오 MOP', 162.65), ('미얀마 MMK', 0.63), ('에티오피아 ETB', 24.17), ('우즈베키스탄 UZS', 0.12), ('캄보디아 KHR', 0.32), ('피지 FJD', 594.51)]\n"
     ]
    }
   ],
   "source": [
    "url = 'https://finance.naver.com/marketindex/exchangeList.naver'\n",
    "r = requests.get(url).text\n",
    "soup = BeautifulSoup(r, 'lxml')\n",
    "name = []\n",
    "price = []\n",
    "\n",
    "# data = soup.select('td.tit a')\n",
    "data = soup.select('td.tit > a')\n",
    "# print(data)\n",
    "for item in data:\n",
    "    # print(item.string.strip())\n",
    "    name.append(item.string.strip())\n",
    "\n",
    "data = soup.select('td.sale')\n",
    "# print(data)\n",
    "for item in data:\n",
    "    # print(item.string)\n",
    "    price.append(float(item.string.replace(',', '')))\n",
    "# print(price)\n",
    "\n",
    "print(len(name), len(price))\n",
    "items = list(zip(name, price))\n",
    "print(items)"
   ]
  },
  {
   "cell_type": "code",
   "execution_count": null,
   "id": "792cce5b-35a5-4e03-af88-6d950637da95",
   "metadata": {},
   "outputs": [],
   "source": []
  },
  {
   "cell_type": "code",
   "execution_count": null,
   "id": "fa692193-c408-461f-a7ef-48a962bc05f1",
   "metadata": {},
   "outputs": [],
   "source": []
  }
 ],
 "metadata": {
  "kernelspec": {
   "display_name": "Python 3 (ipykernel)",
   "language": "python",
   "name": "python3"
  },
  "language_info": {
   "codemirror_mode": {
    "name": "ipython",
    "version": 3
   },
   "file_extension": ".py",
   "mimetype": "text/x-python",
   "name": "python",
   "nbconvert_exporter": "python",
   "pygments_lexer": "ipython3",
   "version": "3.10.9"
  }
 },
 "nbformat": 4,
 "nbformat_minor": 5
}
