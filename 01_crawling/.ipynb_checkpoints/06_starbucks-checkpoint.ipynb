{
 "cells": [
  {
   "cell_type": "code",
   "execution_count": 22,
   "id": "aa33f95a-0ede-449e-aa96-fe15e565e071",
   "metadata": {},
   "outputs": [],
   "source": [
    "from urllib import request\n",
    "from bs4 import BeautifulSoup"
   ]
  },
  {
   "cell_type": "code",
   "execution_count": 23,
   "id": "b5c7a8df-9f95-41f1-b3ff-7b106629d816",
   "metadata": {},
   "outputs": [
    {
     "name": "stdout",
     "output_type": "stream",
     "text": [
      "[<ul class=\"quickSearchResultBox\">\n",
      "</ul>]\n"
     ]
    }
   ],
   "source": [
    "url = 'https://www.starbucks.co.kr/store/store_map.do'\n",
    "r = request.urlopen(url)\n",
    "# print(r.read().decode('utf8'))\n",
    "soup = BeautifulSoup(r, 'lxml')\n",
    "# print(soup)\n",
    "print(soup.select('ul.quickSearchResultBox'))"
   ]
  },
  {
   "cell_type": "raw",
   "id": "89a9d7c3-51a0-4b43-83b8-adfd8537ce83",
   "metadata": {},
   "source": [
    "!pip install selenium"
   ]
  },
  {
   "cell_type": "code",
   "execution_count": 24,
   "id": "ea8324a0-747e-4bc5-b269-6b78fab16e78",
   "metadata": {},
   "outputs": [],
   "source": [
    "from selenium import webdriver\n",
    "import time"
   ]
  },
  {
   "cell_type": "code",
   "execution_count": 10,
   "id": "36ff89d9-e734-4d4e-a143-bd43be78aa18",
   "metadata": {
    "collapsed": true,
    "jupyter": {
     "outputs_hidden": true
    },
    "tags": []
   },
   "outputs": [
    {
     "name": "stdout",
     "output_type": "stream",
     "text": [
      "[<ul class=\"quickSearchResultBox\"><li class=\"quickResultLstCon\" data-code=\"9879\" data-hlytag=\"null\" data-index=\"0\" data-lat=\"35.162722\" data-long=\"126.810218\" data-name=\"광주하남\" data-storecd=\"684\" style=\"background:#fff\"> <strong data-my_siren_order_store_yn=\"N\" data-name=\"광주하남\" data-store=\"684\" data-yn=\"N\">광주하남  </strong> <p class=\"result_details\">광주광역시 광산구 사암로216번길 38-16, 1~2층 (우산동)<br/>1522-3232</p> <i class=\"pin_general\">리저브 매장 2번</i></li><li class=\"quickResultLstCon\" data-code=\"3595\" data-hlytag=\"null\" data-index=\"1\" data-lat=\"35.173524\" data-long=\"126.804191\" data-name=\"광주산정DT\" data-storecd=\"1421\" style=\"background:#fff\"> <strong data-my_siren_order_store_yn=\"N\" data-name=\"광주산정DT\" data-store=\"1421\" data-yn=\"N\">광주산정DT  </strong> <p class=\"result_details\">광주광역시 광산구 용아로 342 (산정동)<br/>1522-3232</p> <i class=\"pin_generalDT\">리저브 매장 2번</i></li><li class=\"quickResultLstCon\" data-code=\"3757\" data-hlytag=\"null\" data-index=\"2\" data-lat=\"35.146768\" data-long=\"126.77772\" data-name=\"광주선운DT\" data-storecd=\"1635\" style=\"background:#fff\"> <strong data-my_siren_order_store_yn=\"N\" data-name=\"광주선운DT\" data-store=\"1635\" data-yn=\"N\">광주선운DT  </strong> <p class=\"result_details\">광주광역시 광산구 선운로 20번길 63 <br/>1522-3232</p> <i class=\"pin_generalDT\">리저브 매장 2번</i></li><li class=\"quickResultLstCon\" data-code=\"3363\" data-hlytag=\"null\" data-index=\"3\" data-lat=\"35.138026\" data-long=\"126.791444\" data-name=\"광주송정역\" data-storecd=\"1161\" style=\"background:#fff\"> <strong data-my_siren_order_store_yn=\"N\" data-name=\"광주송정역\" data-store=\"1161\" data-yn=\"N\">광주송정역  </strong> <p class=\"result_details\">광주광역시 광산구 상무대로205번길 6 (송정동)<br/>1522-3232</p> <i class=\"pin_general\">리저브 매장 2번</i></li><li class=\"quickResultLstCon\" data-code=\"3446\" data-hlytag=\"null\" data-index=\"4\" data-lat=\"35.176936\" data-long=\"126.807887\" data-name=\"광주흑석DT\" data-storecd=\"1252\" style=\"background:#fff\"> <strong data-my_siren_order_store_yn=\"N\" data-name=\"광주흑석DT\" data-store=\"1252\" data-yn=\"N\">광주흑석DT  </strong> <p class=\"result_details\">광주광역시 광산구 사암로 367 (산정동)<br/>1522-3232</p> <i class=\"pin_generalDT\">리저브 매장 2번</i></li><li class=\"quickResultLstCon\" data-code=\"4314\" data-hlytag=\"null\" data-index=\"5\" data-lat=\"35.137191435617\" data-long=\"126.791658278605\" data-name=\"광주송정로\" data-storecd=\"2023\" style=\"background:#fff\"> <strong data-my_siren_order_store_yn=\"N\" data-name=\"광주송정로\" data-store=\"2023\" data-yn=\"N\">광주송정로  </strong> <p class=\"result_details\">광주광역시 광산구 상무대로 202 (송정동)<br/>1522-3232</p> <i class=\"pin_general\">리저브 매장 2번</i></li><li class=\"quickResultLstCon\" data-code=\"3621\" data-hlytag=\"null\" data-index=\"6\" data-lat=\"35.175136\" data-long=\"126.818062\" data-name=\"광주운남DT\" data-storecd=\"1440\" style=\"background:#fff\"> <strong data-my_siren_order_store_yn=\"N\" data-name=\"광주운남DT\" data-store=\"1440\" data-yn=\"N\">광주운남DT  </strong> <p class=\"result_details\">광주광역시 광산구 임방울대로 156 (운남동)<br/>1522-3232</p> <i class=\"pin_generalDT\">리저브 매장 2번</i></li><li class=\"quickResultLstCon\" data-code=\"3055\" data-hlytag=\"null\" data-index=\"7\" data-lat=\"35.1790467\" data-long=\"126.8301259\" data-name=\"광주신가DT\" data-storecd=\"878\" style=\"background:#fff\"> <strong data-my_siren_order_store_yn=\"N\" data-name=\"광주신가DT\" data-store=\"878\" data-yn=\"N\">광주신가DT  </strong> <p class=\"result_details\">광주광역시 광산구 목련로 335 (신가동)<br/>1522-3232</p> <i class=\"pin_generalDT\">리저브 매장 2번</i></li><li class=\"quickResultLstCon\" data-code=\"9906\" data-hlytag=\"null\" data-index=\"8\" data-lat=\"35.191469\" data-long=\"126.819259\" data-name=\"광주장덕\" data-storecd=\"713\" style=\"background:#fff\"> <strong data-my_siren_order_store_yn=\"N\" data-name=\"광주장덕\" data-store=\"713\" data-yn=\"N\">광주장덕  </strong> <p class=\"result_details\">광주광역시 광산구 장신로 85 (장덕동)<br/>1522-3232</p> <i class=\"pin_general\">리저브 매장 2번</i></li><li class=\"quickResultLstCon\" data-code=\"9584\" data-hlytag=\"null\" data-index=\"9\" data-lat=\"35.190397\" data-long=\"126.824804\" data-name=\"광산수완\" data-storecd=\"379\" style=\"background:#fff\"> <strong data-my_siren_order_store_yn=\"N\" data-name=\"광산수완\" data-store=\"379\" data-yn=\"N\">광산수완  </strong> <p class=\"result_details\">광주광역시 광산구 장신로 134, 1~2층 (수완동)<br/>1522-3232</p> <i class=\"pin_general\">리저브 매장 2번</i></li></ul>]\n"
     ]
    }
   ],
   "source": [
    "driver = webdriver.Chrome()\n",
    "driver.get(url)\n",
    "time.sleep(10)\n",
    "\n",
    "page = driver.page_source\n",
    "soup = BeautifulSoup(page, 'lxml')\n",
    "print(soup.select('ul.quickSearchResultBox'))\n",
    "driver.quit()"
   ]
  },
  {
   "cell_type": "raw",
   "id": "3a9f9f0e-be0e-4744-b037-17a8ae52f1b1",
   "metadata": {},
   "source": [
    "# 특정 지역 선택해서 점포명, 주소 크롤링"
   ]
  },
  {
   "cell_type": "code",
   "execution_count": 25,
   "id": "2ae27f3a-c47e-41aa-a124-6892fac250ad",
   "metadata": {},
   "outputs": [],
   "source": [
    "from bs4 import BeautifulSoup\n",
    "from selenium import webdriver\n",
    "from selenium.webdriver.common.by import By\n",
    "import time"
   ]
  },
  {
   "cell_type": "code",
   "execution_count": 31,
   "id": "f4f26469-4b48-45a6-a3d1-87bbf3b022ae",
   "metadata": {},
   "outputs": [],
   "source": [
    "url = 'https://www.starbucks.co.kr/store/store_map.do'\n",
    "driver = webdriver.Chrome()\n",
    "driver.get(url)\n",
    "\n",
    "time.sleep(3)\n",
    "\n",
    "loca = driver.find_element(By.CLASS_NAME, 'loca_search')\n",
    "# print(loca)\n",
    "loca.click()\n",
    "\n",
    "time.sleep(3)\n",
    "\n",
    "sido = driver.find_elements(By.CSS_SELECTOR, 'ul.sido_arae_box > li')\n",
    "# print(sido)\n",
    "sido[5].click()\n",
    "\n",
    "time.sleep(3)\n",
    "\n",
    "gugun = driver.find_elements(By.CSS_SELECTOR, 'ul.gugun_arae_box > li')\n",
    "gugun[-1].click()\n",
    "\n",
    "page = driver.page_source\n",
    "\n",
    "soup = BeautifulSoup(page, 'lxml')"
   ]
  },
  {
   "cell_type": "code",
   "execution_count": 30,
   "id": "6388b555-0911-4540-b235-e81d952120dd",
   "metadata": {},
   "outputs": [],
   "source": [
    "items = soup.select('ul.quickSearchResultBoxSidoGugun li')\n",
    "\n",
    "for li in items:\n",
    "    print(li.find('strong').string)\n",
    "    print(li.find('p').text.replace('1522-3232', ''))\n",
    "    print('-'*10)"
   ]
  },
  {
   "cell_type": "code",
   "execution_count": null,
   "id": "197261f4-8085-45df-893e-21ad3148b5ce",
   "metadata": {},
   "outputs": [],
   "source": []
  }
 ],
 "metadata": {
  "kernelspec": {
   "display_name": "Python 3 (ipykernel)",
   "language": "python",
   "name": "python3"
  },
  "language_info": {
   "codemirror_mode": {
    "name": "ipython",
    "version": 3
   },
   "file_extension": ".py",
   "mimetype": "text/x-python",
   "name": "python",
   "nbconvert_exporter": "python",
   "pygments_lexer": "ipython3",
   "version": "3.10.9"
  }
 },
 "nbformat": 4,
 "nbformat_minor": 5
}
