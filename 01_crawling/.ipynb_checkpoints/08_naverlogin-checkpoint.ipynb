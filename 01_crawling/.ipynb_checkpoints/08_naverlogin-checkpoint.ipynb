{
 "cells": [
  {
   "cell_type": "code",
   "execution_count": 17,
   "id": "a5c14a63-9bf6-4137-bb7b-5cee40b687cf",
   "metadata": {},
   "outputs": [],
   "source": [
    "from selenium import webdriver\n",
    "from selenium.webdriver.common.by import By\n",
    "from selenium.webdriver.common.keys import Keys\n",
    "import time\n",
    "import pyperclip"
   ]
  },
  {
   "cell_type": "code",
   "execution_count": null,
   "id": "5558aa4b-314f-4bd0-ba1a-44e6ca0ae4ca",
   "metadata": {},
   "outputs": [],
   "source": [
    "# !pip install pyperclip"
   ]
  },
  {
   "cell_type": "code",
   "execution_count": 18,
   "id": "d75c714b-6e45-489c-a51e-d5a749c46b7e",
   "metadata": {},
   "outputs": [],
   "source": [
    "# 네이버 아이디, 비밀번호 입력하기\n",
    "id = ''\n",
    "pw = ''"
   ]
  },
  {
   "cell_type": "code",
   "execution_count": 20,
   "id": "ae1117bf-ab8d-4501-9af1-b81a25027af9",
   "metadata": {
    "tags": []
   },
   "outputs": [],
   "source": [
    "url = 'https://nid.naver.com/nidlogin.login'\n",
    "driver = webdriver.Chrome()\n",
    "driver.get(url)\n",
    "time.sleep(3)\n",
    "\n",
    "# driver.find_element(By.ID, 'id').send_keys(id)\n",
    "# driver.find_element(By.ID, 'pw').send_keys(pw)\n",
    "# 이렇게 하면 자동입력 방지 문자를 입력해야 함\n",
    "\n",
    "# driver.execute_script(\"document.getElementsByName('id')[0].value='\"+id+\"'\")\n",
    "# driver.execute_script(\"document.getElementsByName('pw')[0].value='\"+pw+\"'\")\n",
    "\n",
    "ele_id = driver.find_element(By.ID, 'id')\n",
    "ele_id.click()\n",
    "pyperclip.copy(id)\n",
    "ele_id.send_keys(Keys.CONTROL, 'v')\n",
    "time.sleep(2)\n",
    "\n",
    "ele_pw = driver.find_element(By.ID, 'pw')\n",
    "ele_pw.click()\n",
    "pyperclip.copy(pw)\n",
    "ele_pw.send_keys(Keys.CONTROL, 'v')\n",
    "time.sleep(2)\n",
    "\n",
    "# driver.find_element(By.CLASS_NAME, 'btn_login').click()\n",
    "driver.find_element(By.XPATH, '//*[@id=\"log.login\"]').click()"
   ]
  },
  {
   "cell_type": "code",
   "execution_count": null,
   "id": "c3de4a9c-51f9-42fe-8a24-de9a54c75c67",
   "metadata": {},
   "outputs": [],
   "source": []
  }
 ],
 "metadata": {
  "kernelspec": {
   "display_name": "Python 3 (ipykernel)",
   "language": "python",
   "name": "python3"
  },
  "language_info": {
   "codemirror_mode": {
    "name": "ipython",
    "version": 3
   },
   "file_extension": ".py",
   "mimetype": "text/x-python",
   "name": "python",
   "nbconvert_exporter": "python",
   "pygments_lexer": "ipython3",
   "version": "3.10.9"
  }
 },
 "nbformat": 4,
 "nbformat_minor": 5
}
