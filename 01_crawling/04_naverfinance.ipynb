{
 "cells": [
  {
   "cell_type": "code",
   "execution_count": null,
   "id": "8b772062-fa9f-4191-a6f3-53ece2eb1ae8",
   "metadata": {},
   "outputs": [],
   "source": [
    "# https://finance.naver.com/marketindex/exchangeList.naver"
   ]
  },
  {
   "cell_type": "code",
   "execution_count": null,
   "id": "052d0306-665e-4751-b88c-46a574ebe86f",
   "metadata": {},
   "outputs": [],
   "source": [
    "# https://finance.naver.com/marketindex/exchangeDetail.naver?marketindexCd=FX_USDKRW"
   ]
  },
  {
   "cell_type": "code",
   "execution_count": 1,
   "id": "1af34bb8-5e93-4c76-97ba-f2141c0ada02",
   "metadata": {},
   "outputs": [],
   "source": [
    "import requests\n",
    "from bs4 import BeautifulSoup"
   ]
  },
  {
   "cell_type": "code",
   "execution_count": 2,
   "id": "3c491df6-62f4-41c8-8425-803df33ea157",
   "metadata": {},
   "outputs": [
    {
     "name": "stdout",
     "output_type": "stream",
     "text": [
      "미국 USD\n",
      "유럽연합 EUR\n",
      "일본 JPY (100엔)\n",
      "중국 CNY\n",
      "홍콩 HKD\n",
      "대만 TWD\n",
      "영국 GBP\n",
      "오만 OMR\n",
      "캐나다 CAD\n",
      "스위스 CHF\n",
      "스웨덴 SEK\n",
      "호주 AUD\n",
      "뉴질랜드 NZD\n",
      "체코 CZK\n",
      "칠레 CLP\n",
      "튀르키예 TRY\n",
      "몽골 MNT\n",
      "이스라엘 ILS\n",
      "덴마크 DKK\n",
      "노르웨이 NOK\n",
      "사우디아라비아 SAR\n",
      "쿠웨이트 KWD\n",
      "바레인 BHD\n",
      "아랍에미리트 AED\n",
      "요르단 JOD\n",
      "이집트 EGP\n",
      "태국 THB\n",
      "싱가포르 SGD\n",
      "말레이시아 MYR\n",
      "인도네시아 IDR 100\n",
      "카타르 QAR\n",
      "카자흐스탄 KZT\n",
      "브루나이 BND\n",
      "인도 INR\n",
      "파키스탄 PKR\n",
      "방글라데시 BDT\n",
      "필리핀 PHP\n",
      "멕시코 MXN\n",
      "브라질 BRL\n",
      "베트남 VND 100\n",
      "남아프리카 공화국 ZAR\n",
      "러시아 RUB\n",
      "헝가리 HUF\n",
      "폴란드 PLN\n",
      "스리랑카 LKR\n",
      "알제리 DZD\n",
      "케냐 KES\n",
      "콜롬비아 COP\n",
      "탄자니아 TZS\n",
      "네팔 NPR\n",
      "루마니아 RON\n",
      "리비아 LYD\n",
      "마카오 MOP\n",
      "미얀마 MMK\n",
      "에티오피아 ETB\n",
      "우즈베키스탄 UZS\n",
      "캄보디아 KHR\n",
      "피지 FJD\n"
     ]
    }
   ],
   "source": [
    "url = 'https://finance.naver.com/marketindex/exchangeList.naver'\n",
    "r = requests.get(url).text\n",
    "soup = BeautifulSoup(r, 'lxml')\n",
    "name = []\n",
    "price = []\n",
    "\n",
    "# data = soup.select('td.tit a')\n",
    "data = soup.select('td.tit > a')\n",
    "# print(data)\n",
    "for item in data:\n",
    "    print(item.string.strip())"
   ]
  },
  {
   "cell_type": "code",
   "execution_count": 3,
   "id": "28fa7a4d-b320-4a25-a6fd-9798a10535c5",
   "metadata": {},
   "outputs": [
    {
     "name": "stdout",
     "output_type": "stream",
     "text": [
      "[<td class=\"sale\">1,316.50</td>, <td class=\"sale\">1,428.67</td>, <td class=\"sale\">987.36</td>, <td class=\"sale\">191.03</td>, <td class=\"sale\">167.71</td>, <td class=\"sale\">43.01</td>, <td class=\"sale\">1,626.73</td>, <td class=\"sale\">3,419.66</td>, <td class=\"sale\">976.27</td>, <td class=\"sale\">1,435.66</td>, <td class=\"sale\">126.94</td>, <td class=\"sale\">884.23</td>, <td class=\"sale\">822.62</td>, <td class=\"sale\">60.94</td>, <td class=\"sale\">1.66</td>, <td class=\"sale\">68.56</td>, <td class=\"sale\">0.37</td>, <td class=\"sale\">365.92</td>, <td class=\"sale\">191.77</td>, <td class=\"sale\">126.72</td>, <td class=\"sale\">350.96</td>, <td class=\"sale\">4,288.83</td>, <td class=\"sale\">3,491.95</td>, <td class=\"sale\">358.46</td>, <td class=\"sale\">1,855.92</td>, <td class=\"sale\">42.54</td>, <td class=\"sale\">38.30</td>, <td class=\"sale\">988.99</td>, <td class=\"sale\">297.92</td>, <td class=\"sale\">8.81</td>, <td class=\"sale\">360.20</td>, <td class=\"sale\">2.91</td>, <td class=\"sale\">988.99</td>, <td class=\"sale\">15.99</td>, <td class=\"sale\">4.62</td>, <td class=\"sale\">12.50</td>, <td class=\"sale\">24.01</td>, <td class=\"sale\">73.21</td>, <td class=\"sale\">259.99</td>, <td class=\"sale\">5.61</td>, <td class=\"sale\">73.59</td>, <td class=\"sale\">16.92</td>, <td class=\"sale\">3.78</td>, <td class=\"sale\">305.62</td>, <td class=\"sale\">4.09</td>, <td class=\"sale\">9.69</td>, <td class=\"sale\">9.92</td>, <td class=\"sale\">0.28</td>, <td class=\"sale\">0.56</td>, <td class=\"sale\">9.99</td>, <td class=\"sale\">289.06</td>, <td class=\"sale\">275.41</td>, <td class=\"sale\">162.83</td>, <td class=\"sale\">0.63</td>, <td class=\"sale\">24.20</td>, <td class=\"sale\">0.12</td>, <td class=\"sale\">0.32</td>, <td class=\"sale\">596.24</td>]\n"
     ]
    }
   ],
   "source": [
    "url = 'https://finance.naver.com/marketindex/exchangeList.naver'\n",
    "r = requests.get(url).text\n",
    "soup = BeautifulSoup(r, 'lxml')\n",
    "name = []\n",
    "price = []\n",
    "\n",
    "# data = soup.select('td.tit a')\n",
    "data = soup.select('td.tit > a')\n",
    "# print(data)\n",
    "for item in data:\n",
    "    # print(item.string.strip())\n",
    "    name.append(item.string.strip())\n",
    "\n",
    "data = soup.select('td.sale')\n",
    "print(data)"
   ]
  },
  {
   "cell_type": "code",
   "execution_count": 4,
   "id": "9d2ca957-7515-4555-afd6-867d061ee570",
   "metadata": {},
   "outputs": [
    {
     "name": "stdout",
     "output_type": "stream",
     "text": [
      "1,317.00\n",
      "1,429.21\n",
      "987.07\n",
      "191.05\n",
      "167.77\n",
      "43.03\n",
      "1,625.44\n",
      "3,420.96\n",
      "977.29\n",
      "1,436.83\n",
      "126.93\n",
      "883.97\n",
      "822.80\n",
      "60.95\n",
      "1.66\n",
      "68.58\n",
      "0.37\n",
      "365.85\n",
      "191.85\n",
      "126.71\n",
      "351.09\n",
      "4,290.18\n",
      "3,493.37\n",
      "358.60\n",
      "1,856.63\n",
      "42.55\n",
      "38.28\n",
      "989.37\n",
      "298.03\n",
      "8.82\n",
      "358.92\n",
      "2.91\n",
      "989.37\n",
      "15.99\n",
      "4.62\n",
      "12.51\n",
      "24.03\n",
      "73.19\n",
      "260.08\n",
      "5.62\n",
      "73.62\n",
      "16.91\n",
      "3.77\n",
      "305.71\n",
      "4.09\n",
      "9.69\n",
      "9.92\n",
      "0.28\n",
      "0.56\n",
      "10.00\n",
      "289.19\n",
      "275.51\n",
      "162.89\n",
      "0.63\n",
      "24.20\n",
      "0.12\n",
      "0.32\n",
      "596.34\n"
     ]
    }
   ],
   "source": [
    "url = 'https://finance.naver.com/marketindex/exchangeList.naver'\n",
    "r = requests.get(url).text\n",
    "soup = BeautifulSoup(r, 'lxml')\n",
    "name = []\n",
    "price = []\n",
    "\n",
    "# data = soup.select('td.tit a')\n",
    "data = soup.select('td.tit > a')\n",
    "# print(data)\n",
    "for item in data:\n",
    "    # print(item.string.strip())\n",
    "    name.append(item.string.strip())\n",
    "\n",
    "data = soup.select('td.sale')\n",
    "# print(data)\n",
    "for item in data:\n",
    "    print(item.string)"
   ]
  },
  {
   "cell_type": "code",
   "execution_count": 5,
   "id": "0c53ea81-f542-4594-9597-af2485eb0ff6",
   "metadata": {},
   "outputs": [
    {
     "name": "stdout",
     "output_type": "stream",
     "text": [
      "[1317.0, 1429.21, 987.07, 191.05, 167.77, 43.03, 1625.44, 3420.96, 977.29, 1436.83, 126.93, 883.97, 822.8, 60.95, 1.66, 68.58, 0.37, 365.85, 191.85, 126.71, 351.09, 4290.18, 3493.37, 358.6, 1856.63, 42.55, 38.28, 989.37, 298.03, 8.82, 358.92, 2.91, 989.37, 15.99, 4.62, 12.51, 24.03, 73.19, 260.08, 5.62, 73.62, 16.91, 3.77, 305.71, 4.09, 9.69, 9.92, 0.28, 0.56, 10.0, 289.19, 275.51, 162.89, 0.63, 24.2, 0.12, 0.32, 596.34]\n"
     ]
    }
   ],
   "source": [
    "url = 'https://finance.naver.com/marketindex/exchangeList.naver'\n",
    "r = requests.get(url).text\n",
    "soup = BeautifulSoup(r, 'lxml')\n",
    "name = []\n",
    "price = []\n",
    "\n",
    "# data = soup.select('td.tit a')\n",
    "data = soup.select('td.tit > a')\n",
    "# print(data)\n",
    "for item in data:\n",
    "    # print(item.string.strip())\n",
    "    name.append(item.string.strip())\n",
    "\n",
    "data = soup.select('td.sale')\n",
    "# print(data)\n",
    "for item in data:\n",
    "    # print(item.string)\n",
    "    price.append(float(item.string.replace(',', '')))\n",
    "print(price)"
   ]
  },
  {
   "cell_type": "code",
   "execution_count": 6,
   "id": "3369a329-3ca2-4e26-a1ec-74d86a6c343e",
   "metadata": {},
   "outputs": [
    {
     "name": "stdout",
     "output_type": "stream",
     "text": [
      "58 58\n",
      "[('미국 USD', 1316.5), ('유럽연합 EUR', 1428.67), ('일본 JPY (100엔)', 987.36), ('중국 CNY', 191.03), ('홍콩 HKD', 167.71), ('대만 TWD', 43.01), ('영국 GBP', 1626.73), ('오만 OMR', 3419.66), ('캐나다 CAD', 976.27), ('스위스 CHF', 1435.66), ('스웨덴 SEK', 126.94), ('호주 AUD', 884.23), ('뉴질랜드 NZD', 822.62), ('체코 CZK', 60.94), ('칠레 CLP', 1.66), ('튀르키예 TRY', 68.56), ('몽골 MNT', 0.37), ('이스라엘 ILS', 365.92), ('덴마크 DKK', 191.77), ('노르웨이 NOK', 126.72), ('사우디아라비아 SAR', 350.96), ('쿠웨이트 KWD', 4288.83), ('바레인 BHD', 3491.95), ('아랍에미리트 AED', 358.46), ('요르단 JOD', 1855.92), ('이집트 EGP', 42.54), ('태국 THB', 38.3), ('싱가포르 SGD', 988.99), ('말레이시아 MYR', 297.92), ('인도네시아 IDR 100', 8.81), ('카타르 QAR', 360.2), ('카자흐스탄 KZT', 2.91), ('브루나이 BND', 988.99), ('인도 INR', 15.99), ('파키스탄 PKR', 4.62), ('방글라데시 BDT', 12.5), ('필리핀 PHP', 24.01), ('멕시코 MXN', 73.21), ('브라질 BRL', 259.99), ('베트남 VND 100', 5.61), ('남아프리카 공화국 ZAR', 73.59), ('러시아 RUB', 16.92), ('헝가리 HUF', 3.78), ('폴란드 PLN', 305.62), ('스리랑카 LKR', 4.09), ('알제리 DZD', 9.69), ('케냐 KES', 9.92), ('콜롬비아 COP', 0.28), ('탄자니아 TZS', 0.56), ('네팔 NPR', 9.99), ('루마니아 RON', 289.06), ('리비아 LYD', 275.41), ('마카오 MOP', 162.83), ('미얀마 MMK', 0.63), ('에티오피아 ETB', 24.2), ('우즈베키스탄 UZS', 0.12), ('캄보디아 KHR', 0.32), ('피지 FJD', 596.24)]\n"
     ]
    }
   ],
   "source": [
    "url = 'https://finance.naver.com/marketindex/exchangeList.naver'\n",
    "r = requests.get(url).text\n",
    "soup = BeautifulSoup(r, 'lxml')\n",
    "name = []\n",
    "price = []\n",
    "\n",
    "# data = soup.select('td.tit a')\n",
    "data = soup.select('td.tit > a')\n",
    "# print(data)\n",
    "for item in data:\n",
    "    # print(item.string.strip())\n",
    "    name.append(item.string.strip())\n",
    "\n",
    "data = soup.select('td.sale')\n",
    "# print(data)\n",
    "for item in data:\n",
    "    # print(item.string)\n",
    "    price.append(float(item.string.replace(',', '')))\n",
    "# print(price)\n",
    "\n",
    "print(len(name), len(price))\n",
    "items = list(zip(name, price))\n",
    "print(items)"
   ]
  },
  {
   "cell_type": "code",
   "execution_count": null,
   "id": "792cce5b-35a5-4e03-af88-6d950637da95",
   "metadata": {},
   "outputs": [],
   "source": []
  },
  {
   "cell_type": "code",
   "execution_count": null,
   "id": "fa692193-c408-461f-a7ef-48a962bc05f1",
   "metadata": {},
   "outputs": [],
   "source": []
  }
 ],
 "metadata": {
  "kernelspec": {
   "display_name": "Python 3 (ipykernel)",
   "language": "python",
   "name": "python3"
  },
  "language_info": {
   "codemirror_mode": {
    "name": "ipython",
    "version": 3
   },
   "file_extension": ".py",
   "mimetype": "text/x-python",
   "name": "python",
   "nbconvert_exporter": "python",
   "pygments_lexer": "ipython3",
   "version": "3.10.9"
  }
 },
 "nbformat": 4,
 "nbformat_minor": 5
}
