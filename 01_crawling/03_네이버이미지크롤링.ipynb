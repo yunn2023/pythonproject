{
 "cells": [
  {
   "cell_type": "markdown",
   "id": "9c9a6ef7-362a-4894-b2d9-33e6c2b3ddef",
   "metadata": {},
   "source": [
    "네이버 이미지에서 검색 키워드를 입력받아서 검색한 다음"
   ]
  },
  {
   "cell_type": "markdown",
   "id": "bbecd6cb-5bf6-4f7d-bb4d-051d4449c48b",
   "metadata": {},
   "source": [
    "이미지 결과에서 이미지를 10개 정도 다운로드 받아서 img 폴더에 저장하기"
   ]
  },
  {
   "cell_type": "code",
   "execution_count": 1,
   "id": "31a9e152-f76a-4f10-b6c2-dec3e5c4c6f9",
   "metadata": {},
   "outputs": [],
   "source": [
    "import requests\n",
    "from urllib import request\n",
    "from bs4 import BeautifulSoup"
   ]
  },
  {
   "cell_type": "code",
   "execution_count": 2,
   "id": "3bb83c5c-1e2d-48a9-8b69-9b4f6b56e304",
   "metadata": {},
   "outputs": [],
   "source": [
    "# https://search.naver.com/search.naver?where=image&sm=tab_jum&query=%EB%B4%84"
   ]
  },
  {
   "cell_type": "code",
   "execution_count": null,
   "id": "9a281707-5642-4ea0-853f-de758914f952",
   "metadata": {
    "tags": []
   },
   "outputs": [],
   "source": [
    "key = input('검색어 >>> ')\n",
    "url = 'https://search.naver.com/search.naver'\n",
    "param = {\n",
    "    'where':'image', \n",
    "    'sm':'tab_jum', \n",
    "    'query':key\n",
    "}\n",
    "\n",
    "r = requests.get(url, params=param)\n",
    "soup = BeautifulSoup(r.text, 'lxml')\n",
    "result = soup.find_all('img')\n",
    "print(result)"
   ]
  },
  {
   "cell_type": "code",
   "execution_count": null,
   "id": "0d6c3392-9006-4230-8120-8cf389b6c2ae",
   "metadata": {
    "tags": []
   },
   "outputs": [],
   "source": [
    "key = input('검색어 >>> ')\n",
    "url = 'https://search.naver.com/search.naver'\n",
    "param = {\n",
    "    'where':'image', \n",
    "    'sm':'tab_jum', \n",
    "    'query':key\n",
    "}\n",
    "\n",
    "r = requests.get(url, params=param)\n",
    "soup = BeautifulSoup(r.text, 'lxml')\n",
    "result = soup.find_all('img')\n",
    "# print(result)\n",
    "\n",
    "for item in result:\n",
    "    print(item['src'])"
   ]
  },
  {
   "cell_type": "code",
   "execution_count": null,
   "id": "7ad40ed3-7601-483c-846b-9997eee6a7b6",
   "metadata": {
    "tags": []
   },
   "outputs": [],
   "source": [
    "key = input('검색어 >>> ')\n",
    "url = 'https://search.naver.com/search.naver'\n",
    "param = {\n",
    "    'where':'image', \n",
    "    'sm':'tab_jum', \n",
    "    'query':key\n",
    "}\n",
    "\n",
    "r = requests.get(url, params=param)\n",
    "soup = BeautifulSoup(r.text, 'lxml')\n",
    "result = soup.find_all('img')\n",
    "# print(result)\n",
    "\n",
    "for item in result:\n",
    "    # print(item['src'])\n",
    "    index = item['src'].index('&')\n",
    "    src = item['src'][:index]\n",
    "    print(src)"
   ]
  },
  {
   "cell_type": "code",
   "execution_count": null,
   "id": "09d613fd-17e7-414d-af38-a8c3589f48f6",
   "metadata": {
    "tags": []
   },
   "outputs": [],
   "source": [
    "key = input('검색어 >>> ')\n",
    "url = 'https://search.naver.com/search.naver'\n",
    "param = {\n",
    "    'where':'image', \n",
    "    'sm':'tab_jum', \n",
    "    'query':key\n",
    "}\n",
    "\n",
    "r = requests.get(url, params=param)\n",
    "soup = BeautifulSoup(r.text, 'lxml')\n",
    "result = soup.find_all('img')\n",
    "# print(result)\n",
    "\n",
    "for item in result:\n",
    "    # print(item['src'])\n",
    "    index = item['src'].index('&')\n",
    "    print(index)\n",
    "    src = item['src'][:index]\n",
    "    print(src)"
   ]
  },
  {
   "cell_type": "code",
   "execution_count": null,
   "id": "6a7f491e-e3af-48a5-a9b1-9848ed773e8d",
   "metadata": {
    "tags": []
   },
   "outputs": [],
   "source": [
    "key = input('검색어 >>> ')\n",
    "url = 'https://search.naver.com/search.naver'\n",
    "param = {\n",
    "    'where':'image', \n",
    "    'sm':'tab_jum', \n",
    "    'query':key\n",
    "}\n",
    "\n",
    "r = requests.get(url, params=param)\n",
    "soup = BeautifulSoup(r.text, 'lxml')\n",
    "result = soup.find_all('img')\n",
    "# print(result)\n",
    "\n",
    "for item in result:\n",
    "    # 예외 처리\n",
    "    try:\n",
    "        # print(item['src'])\n",
    "        index = item['src'].index('&')\n",
    "        print(index)\n",
    "        src = item['src'][:index]\n",
    "        print(src)\n",
    "    except:\n",
    "        print('url 오류')"
   ]
  },
  {
   "cell_type": "code",
   "execution_count": null,
   "id": "d2f95888-24c4-4cd2-8d40-7f351f6494e3",
   "metadata": {},
   "outputs": [],
   "source": [
    "key = input('검색어 >>> ')\n",
    "url = 'https://search.naver.com/search.naver'\n",
    "param = {\n",
    "    'where':'image', \n",
    "    'sm':'tab_jum', \n",
    "    'query':key\n",
    "}\n",
    "\n",
    "r = requests.get(url, params=param)\n",
    "soup = BeautifulSoup(r.text, 'lxml')\n",
    "result = soup.find_all('img')\n",
    "# print(result)\n",
    "\n",
    "for item in result:\n",
    "    # 예외 처리\n",
    "    try:\n",
    "        # print(item['src'])\n",
    "        index = item['src'].index('&')\n",
    "        print(index)\n",
    "        src = item['src'][:index]\n",
    "        print(src)\n",
    "        src_list = src.split('.')\n",
    "        print(src_list)\n",
    "    except:\n",
    "        print('url 오류')"
   ]
  },
  {
   "cell_type": "code",
   "execution_count": null,
   "id": "c9d54de3-0b18-4c14-b049-b9ada1df5876",
   "metadata": {},
   "outputs": [],
   "source": [
    "key = input('검색어 >>> ')\n",
    "url = 'https://search.naver.com/search.naver'\n",
    "param = {\n",
    "    'where':'image', \n",
    "    'sm':'tab_jum', \n",
    "    'query':key\n",
    "}\n",
    "\n",
    "r = requests.get(url, params=param)\n",
    "soup = BeautifulSoup(r.text, 'lxml')\n",
    "result = soup.find_all('img')\n",
    "# print(result)\n",
    "\n",
    "for item in result:\n",
    "    # 예외 처리\n",
    "    try:\n",
    "        # print(item['src'])\n",
    "        index = item['src'].index('&')\n",
    "        # print(index)\n",
    "        src = item['src'][:index]\n",
    "        # print(src)\n",
    "        src_list = src.split('.')[-1]\n",
    "        # print(src_list)\n",
    "    except:\n",
    "        print('url 오류')"
   ]
  },
  {
   "cell_type": "code",
   "execution_count": null,
   "id": "46e79ead-b1d6-4732-a5ca-52890319fc9d",
   "metadata": {},
   "outputs": [],
   "source": [
    "key = input('검색어 >>> ')\n",
    "url = 'https://search.naver.com/search.naver'\n",
    "param = {\n",
    "    'where':'image', \n",
    "    'sm':'tab_jum', \n",
    "    'query':key\n",
    "}\n",
    "\n",
    "r = requests.get(url, params=param)\n",
    "soup = BeautifulSoup(r.text, 'lxml')\n",
    "result = soup.find_all('img')\n",
    "# print(result)\n",
    "\n",
    "for i, item in enumerate(result):\n",
    "    # 예외 처리\n",
    "    try:\n",
    "        # print(item['src'])\n",
    "        index = item['src'].index('&')\n",
    "        # print(index)\n",
    "        src = item['src'][:index]\n",
    "        # print(src)\n",
    "        src_list = src.split('.')[-1]\n",
    "        # print(src_list)\n",
    "        request.urlretrieve(src, 'img/'+str(i)+'.'+src_list)\n",
    "        # 받을 것, 저장 경로\n",
    "    except:\n",
    "        print('url 오류')"
   ]
  }
 ],
 "metadata": {
  "kernelspec": {
   "display_name": "Python 3 (ipykernel)",
   "language": "python",
   "name": "python3"
  },
  "language_info": {
   "codemirror_mode": {
    "name": "ipython",
    "version": 3
   },
   "file_extension": ".py",
   "mimetype": "text/x-python",
   "name": "python",
   "nbconvert_exporter": "python",
   "pygments_lexer": "ipython3",
   "version": "3.10.9"
  },
  "toc-autonumbering": true
 },
 "nbformat": 4,
 "nbformat_minor": 5
}
